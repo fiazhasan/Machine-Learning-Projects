{
 "cells": [
  {
   "cell_type": "code",
   "execution_count": 1,
   "id": "721b86ac",
   "metadata": {
    "_cell_guid": "b1076dfc-b9ad-4769-8c92-a6c4dae69d19",
    "_uuid": "8f2839f25d086af736a60e9eeb907d3b93b6e0e5",
    "execution": {
     "iopub.execute_input": "2024-03-22T17:42:43.580157Z",
     "iopub.status.busy": "2024-03-22T17:42:43.579584Z",
     "iopub.status.idle": "2024-03-22T17:42:47.331349Z",
     "shell.execute_reply": "2024-03-22T17:42:47.330071Z"
    },
    "papermill": {
     "duration": 3.772604,
     "end_time": "2024-03-22T17:42:47.334089",
     "exception": false,
     "start_time": "2024-03-22T17:42:43.561485",
     "status": "completed"
    },
    "tags": []
   },
   "outputs": [
    {
     "name": "stdout",
     "output_type": "stream",
     "text": [
      "/kaggle/input/titanic/train.csv\n",
      "/kaggle/input/titanic/test.csv\n",
      "/kaggle/input/titanic/gender_submission.csv\n"
     ]
    }
   ],
   "source": [
    "# This Python 3 environment comes with many helpful analytics libraries installed\n",
    "# It is defined by the kaggle/python Docker image: https://github.com/kaggle/docker-python\n",
    "# For example, here's several helpful packages to load\n",
    "import numpy as np\n",
    "import pandas as pd\n",
    "import matplotlib.pyplot as plt\n",
    "import seaborn as sns\n",
    "from sklearn.metrics import accuracy_score, precision_score, recall_score, f1_score, roc_auc_score\n",
    "from sklearn.model_selection import GridSearchCV, cross_validate, train_test_split\n",
    "from sklearn.preprocessing import LabelEncoder, RobustScaler\n",
    "from sklearn.ensemble import RandomForestClassifier\n",
    "import warnings\n",
    "import numpy as np # linear algebra\n",
    "import pandas as pd # data processing, CSV file I/O (e.g. pd.read_csv)\n",
    "\n",
    "# Input data files are available in the read-only \"../input/\" directory\n",
    "# For example, running this (by clicking run or pressing Shift+Enter) will list all files under the input directory\n",
    "\n",
    "import os\n",
    "for dirname, _, filenames in os.walk('/kaggle/input'):\n",
    "    for filename in filenames:\n",
    "        print(os.path.join(dirname, filename))\n",
    "\n",
    "# You can write up to 20GB to the current directory (/kaggle/working/) that gets preserved as output when you create a version using \"Save & Run All\" \n",
    "# You can also write temporary files to /kaggle/temp/, but they won't be saved outside of the current session"
   ]
  },
  {
   "cell_type": "code",
   "execution_count": 2,
   "id": "5079dfd4",
   "metadata": {
    "execution": {
     "iopub.execute_input": "2024-03-22T17:42:47.367888Z",
     "iopub.status.busy": "2024-03-22T17:42:47.366370Z",
     "iopub.status.idle": "2024-03-22T17:42:47.390609Z",
     "shell.execute_reply": "2024-03-22T17:42:47.389226Z"
    },
    "papermill": {
     "duration": 0.044171,
     "end_time": "2024-03-22T17:42:47.393702",
     "exception": false,
     "start_time": "2024-03-22T17:42:47.349531",
     "status": "completed"
    },
    "tags": []
   },
   "outputs": [],
   "source": [
    "titanic = pd.read_csv(\"/kaggle/input/titanic/train.csv\")\n",
    "df = titanic.copy()"
   ]
  },
  {
   "cell_type": "markdown",
   "id": "65e2d851",
   "metadata": {
    "papermill": {
     "duration": 0.015695,
     "end_time": "2024-03-22T17:42:47.425461",
     "exception": false,
     "start_time": "2024-03-22T17:42:47.409766",
     "status": "completed"
    },
    "tags": []
   },
   "source": [
    "# Understand The dataset"
   ]
  },
  {
   "cell_type": "code",
   "execution_count": 3,
   "id": "667dba14",
   "metadata": {
    "execution": {
     "iopub.execute_input": "2024-03-22T17:42:47.459406Z",
     "iopub.status.busy": "2024-03-22T17:42:47.459007Z",
     "iopub.status.idle": "2024-03-22T17:42:47.486714Z",
     "shell.execute_reply": "2024-03-22T17:42:47.485849Z"
    },
    "papermill": {
     "duration": 0.048086,
     "end_time": "2024-03-22T17:42:47.488978",
     "exception": false,
     "start_time": "2024-03-22T17:42:47.440892",
     "status": "completed"
    },
    "tags": []
   },
   "outputs": [
    {
     "data": {
      "text/html": [
       "<div>\n",
       "<style scoped>\n",
       "    .dataframe tbody tr th:only-of-type {\n",
       "        vertical-align: middle;\n",
       "    }\n",
       "\n",
       "    .dataframe tbody tr th {\n",
       "        vertical-align: top;\n",
       "    }\n",
       "\n",
       "    .dataframe thead th {\n",
       "        text-align: right;\n",
       "    }\n",
       "</style>\n",
       "<table border=\"1\" class=\"dataframe\">\n",
       "  <thead>\n",
       "    <tr style=\"text-align: right;\">\n",
       "      <th></th>\n",
       "      <th>PassengerId</th>\n",
       "      <th>Survived</th>\n",
       "      <th>Pclass</th>\n",
       "      <th>Name</th>\n",
       "      <th>Sex</th>\n",
       "      <th>Age</th>\n",
       "      <th>SibSp</th>\n",
       "      <th>Parch</th>\n",
       "      <th>Ticket</th>\n",
       "      <th>Fare</th>\n",
       "      <th>Cabin</th>\n",
       "      <th>Embarked</th>\n",
       "    </tr>\n",
       "  </thead>\n",
       "  <tbody>\n",
       "    <tr>\n",
       "      <th>0</th>\n",
       "      <td>1</td>\n",
       "      <td>0</td>\n",
       "      <td>3</td>\n",
       "      <td>Braund, Mr. Owen Harris</td>\n",
       "      <td>male</td>\n",
       "      <td>22.0</td>\n",
       "      <td>1</td>\n",
       "      <td>0</td>\n",
       "      <td>A/5 21171</td>\n",
       "      <td>7.2500</td>\n",
       "      <td>NaN</td>\n",
       "      <td>S</td>\n",
       "    </tr>\n",
       "    <tr>\n",
       "      <th>1</th>\n",
       "      <td>2</td>\n",
       "      <td>1</td>\n",
       "      <td>1</td>\n",
       "      <td>Cumings, Mrs. John Bradley (Florence Briggs Th...</td>\n",
       "      <td>female</td>\n",
       "      <td>38.0</td>\n",
       "      <td>1</td>\n",
       "      <td>0</td>\n",
       "      <td>PC 17599</td>\n",
       "      <td>71.2833</td>\n",
       "      <td>C85</td>\n",
       "      <td>C</td>\n",
       "    </tr>\n",
       "    <tr>\n",
       "      <th>2</th>\n",
       "      <td>3</td>\n",
       "      <td>1</td>\n",
       "      <td>3</td>\n",
       "      <td>Heikkinen, Miss. Laina</td>\n",
       "      <td>female</td>\n",
       "      <td>26.0</td>\n",
       "      <td>0</td>\n",
       "      <td>0</td>\n",
       "      <td>STON/O2. 3101282</td>\n",
       "      <td>7.9250</td>\n",
       "      <td>NaN</td>\n",
       "      <td>S</td>\n",
       "    </tr>\n",
       "    <tr>\n",
       "      <th>3</th>\n",
       "      <td>4</td>\n",
       "      <td>1</td>\n",
       "      <td>1</td>\n",
       "      <td>Futrelle, Mrs. Jacques Heath (Lily May Peel)</td>\n",
       "      <td>female</td>\n",
       "      <td>35.0</td>\n",
       "      <td>1</td>\n",
       "      <td>0</td>\n",
       "      <td>113803</td>\n",
       "      <td>53.1000</td>\n",
       "      <td>C123</td>\n",
       "      <td>S</td>\n",
       "    </tr>\n",
       "    <tr>\n",
       "      <th>4</th>\n",
       "      <td>5</td>\n",
       "      <td>0</td>\n",
       "      <td>3</td>\n",
       "      <td>Allen, Mr. William Henry</td>\n",
       "      <td>male</td>\n",
       "      <td>35.0</td>\n",
       "      <td>0</td>\n",
       "      <td>0</td>\n",
       "      <td>373450</td>\n",
       "      <td>8.0500</td>\n",
       "      <td>NaN</td>\n",
       "      <td>S</td>\n",
       "    </tr>\n",
       "  </tbody>\n",
       "</table>\n",
       "</div>"
      ],
      "text/plain": [
       "   PassengerId  Survived  Pclass  \\\n",
       "0            1         0       3   \n",
       "1            2         1       1   \n",
       "2            3         1       3   \n",
       "3            4         1       1   \n",
       "4            5         0       3   \n",
       "\n",
       "                                                Name     Sex   Age  SibSp  \\\n",
       "0                            Braund, Mr. Owen Harris    male  22.0      1   \n",
       "1  Cumings, Mrs. John Bradley (Florence Briggs Th...  female  38.0      1   \n",
       "2                             Heikkinen, Miss. Laina  female  26.0      0   \n",
       "3       Futrelle, Mrs. Jacques Heath (Lily May Peel)  female  35.0      1   \n",
       "4                           Allen, Mr. William Henry    male  35.0      0   \n",
       "\n",
       "   Parch            Ticket     Fare Cabin Embarked  \n",
       "0      0         A/5 21171   7.2500   NaN        S  \n",
       "1      0          PC 17599  71.2833   C85        C  \n",
       "2      0  STON/O2. 3101282   7.9250   NaN        S  \n",
       "3      0            113803  53.1000  C123        S  \n",
       "4      0            373450   8.0500   NaN        S  "
      ]
     },
     "execution_count": 3,
     "metadata": {},
     "output_type": "execute_result"
    }
   ],
   "source": [
    "# head of the dataset\n",
    "df.head()"
   ]
  },
  {
   "cell_type": "code",
   "execution_count": 4,
   "id": "e106c88c",
   "metadata": {
    "execution": {
     "iopub.execute_input": "2024-03-22T17:42:47.522227Z",
     "iopub.status.busy": "2024-03-22T17:42:47.521402Z",
     "iopub.status.idle": "2024-03-22T17:42:47.540934Z",
     "shell.execute_reply": "2024-03-22T17:42:47.539607Z"
    },
    "papermill": {
     "duration": 0.038739,
     "end_time": "2024-03-22T17:42:47.543291",
     "exception": false,
     "start_time": "2024-03-22T17:42:47.504552",
     "status": "completed"
    },
    "tags": []
   },
   "outputs": [
    {
     "data": {
      "text/html": [
       "<div>\n",
       "<style scoped>\n",
       "    .dataframe tbody tr th:only-of-type {\n",
       "        vertical-align: middle;\n",
       "    }\n",
       "\n",
       "    .dataframe tbody tr th {\n",
       "        vertical-align: top;\n",
       "    }\n",
       "\n",
       "    .dataframe thead th {\n",
       "        text-align: right;\n",
       "    }\n",
       "</style>\n",
       "<table border=\"1\" class=\"dataframe\">\n",
       "  <thead>\n",
       "    <tr style=\"text-align: right;\">\n",
       "      <th></th>\n",
       "      <th>PassengerId</th>\n",
       "      <th>Survived</th>\n",
       "      <th>Pclass</th>\n",
       "      <th>Name</th>\n",
       "      <th>Sex</th>\n",
       "      <th>Age</th>\n",
       "      <th>SibSp</th>\n",
       "      <th>Parch</th>\n",
       "      <th>Ticket</th>\n",
       "      <th>Fare</th>\n",
       "      <th>Cabin</th>\n",
       "      <th>Embarked</th>\n",
       "    </tr>\n",
       "  </thead>\n",
       "  <tbody>\n",
       "    <tr>\n",
       "      <th>886</th>\n",
       "      <td>887</td>\n",
       "      <td>0</td>\n",
       "      <td>2</td>\n",
       "      <td>Montvila, Rev. Juozas</td>\n",
       "      <td>male</td>\n",
       "      <td>27.0</td>\n",
       "      <td>0</td>\n",
       "      <td>0</td>\n",
       "      <td>211536</td>\n",
       "      <td>13.00</td>\n",
       "      <td>NaN</td>\n",
       "      <td>S</td>\n",
       "    </tr>\n",
       "    <tr>\n",
       "      <th>887</th>\n",
       "      <td>888</td>\n",
       "      <td>1</td>\n",
       "      <td>1</td>\n",
       "      <td>Graham, Miss. Margaret Edith</td>\n",
       "      <td>female</td>\n",
       "      <td>19.0</td>\n",
       "      <td>0</td>\n",
       "      <td>0</td>\n",
       "      <td>112053</td>\n",
       "      <td>30.00</td>\n",
       "      <td>B42</td>\n",
       "      <td>S</td>\n",
       "    </tr>\n",
       "    <tr>\n",
       "      <th>888</th>\n",
       "      <td>889</td>\n",
       "      <td>0</td>\n",
       "      <td>3</td>\n",
       "      <td>Johnston, Miss. Catherine Helen \"Carrie\"</td>\n",
       "      <td>female</td>\n",
       "      <td>NaN</td>\n",
       "      <td>1</td>\n",
       "      <td>2</td>\n",
       "      <td>W./C. 6607</td>\n",
       "      <td>23.45</td>\n",
       "      <td>NaN</td>\n",
       "      <td>S</td>\n",
       "    </tr>\n",
       "    <tr>\n",
       "      <th>889</th>\n",
       "      <td>890</td>\n",
       "      <td>1</td>\n",
       "      <td>1</td>\n",
       "      <td>Behr, Mr. Karl Howell</td>\n",
       "      <td>male</td>\n",
       "      <td>26.0</td>\n",
       "      <td>0</td>\n",
       "      <td>0</td>\n",
       "      <td>111369</td>\n",
       "      <td>30.00</td>\n",
       "      <td>C148</td>\n",
       "      <td>C</td>\n",
       "    </tr>\n",
       "    <tr>\n",
       "      <th>890</th>\n",
       "      <td>891</td>\n",
       "      <td>0</td>\n",
       "      <td>3</td>\n",
       "      <td>Dooley, Mr. Patrick</td>\n",
       "      <td>male</td>\n",
       "      <td>32.0</td>\n",
       "      <td>0</td>\n",
       "      <td>0</td>\n",
       "      <td>370376</td>\n",
       "      <td>7.75</td>\n",
       "      <td>NaN</td>\n",
       "      <td>Q</td>\n",
       "    </tr>\n",
       "  </tbody>\n",
       "</table>\n",
       "</div>"
      ],
      "text/plain": [
       "     PassengerId  Survived  Pclass                                      Name  \\\n",
       "886          887         0       2                     Montvila, Rev. Juozas   \n",
       "887          888         1       1              Graham, Miss. Margaret Edith   \n",
       "888          889         0       3  Johnston, Miss. Catherine Helen \"Carrie\"   \n",
       "889          890         1       1                     Behr, Mr. Karl Howell   \n",
       "890          891         0       3                       Dooley, Mr. Patrick   \n",
       "\n",
       "        Sex   Age  SibSp  Parch      Ticket   Fare Cabin Embarked  \n",
       "886    male  27.0      0      0      211536  13.00   NaN        S  \n",
       "887  female  19.0      0      0      112053  30.00   B42        S  \n",
       "888  female   NaN      1      2  W./C. 6607  23.45   NaN        S  \n",
       "889    male  26.0      0      0      111369  30.00  C148        C  \n",
       "890    male  32.0      0      0      370376   7.75   NaN        Q  "
      ]
     },
     "execution_count": 4,
     "metadata": {},
     "output_type": "execute_result"
    }
   ],
   "source": [
    "#tail of the dataset\n",
    "df.tail()"
   ]
  },
  {
   "cell_type": "code",
   "execution_count": 5,
   "id": "b6d99b10",
   "metadata": {
    "execution": {
     "iopub.execute_input": "2024-03-22T17:42:47.577531Z",
     "iopub.status.busy": "2024-03-22T17:42:47.576738Z",
     "iopub.status.idle": "2024-03-22T17:42:47.582997Z",
     "shell.execute_reply": "2024-03-22T17:42:47.581846Z"
    },
    "papermill": {
     "duration": 0.02625,
     "end_time": "2024-03-22T17:42:47.585567",
     "exception": false,
     "start_time": "2024-03-22T17:42:47.559317",
     "status": "completed"
    },
    "tags": []
   },
   "outputs": [
    {
     "data": {
      "text/plain": [
       "(891, 12)"
      ]
     },
     "execution_count": 5,
     "metadata": {},
     "output_type": "execute_result"
    }
   ],
   "source": [
    "#Shape of the datset\n",
    "df.shape"
   ]
  },
  {
   "cell_type": "code",
   "execution_count": 6,
   "id": "c7ae0b29",
   "metadata": {
    "execution": {
     "iopub.execute_input": "2024-03-22T17:42:47.620124Z",
     "iopub.status.busy": "2024-03-22T17:42:47.619324Z",
     "iopub.status.idle": "2024-03-22T17:42:47.627459Z",
     "shell.execute_reply": "2024-03-22T17:42:47.626154Z"
    },
    "papermill": {
     "duration": 0.02834,
     "end_time": "2024-03-22T17:42:47.630125",
     "exception": false,
     "start_time": "2024-03-22T17:42:47.601785",
     "status": "completed"
    },
    "tags": []
   },
   "outputs": [
    {
     "data": {
      "text/plain": [
       "PassengerId      int64\n",
       "Survived         int64\n",
       "Pclass           int64\n",
       "Name            object\n",
       "Sex             object\n",
       "Age            float64\n",
       "SibSp            int64\n",
       "Parch            int64\n",
       "Ticket          object\n",
       "Fare           float64\n",
       "Cabin           object\n",
       "Embarked        object\n",
       "dtype: object"
      ]
     },
     "execution_count": 6,
     "metadata": {},
     "output_type": "execute_result"
    }
   ],
   "source": [
    "#types of the datset\n",
    "df.dtypes"
   ]
  },
  {
   "cell_type": "code",
   "execution_count": 7,
   "id": "e7e20da5",
   "metadata": {
    "execution": {
     "iopub.execute_input": "2024-03-22T17:42:47.665346Z",
     "iopub.status.busy": "2024-03-22T17:42:47.664902Z",
     "iopub.status.idle": "2024-03-22T17:42:47.693547Z",
     "shell.execute_reply": "2024-03-22T17:42:47.692038Z"
    },
    "papermill": {
     "duration": 0.049346,
     "end_time": "2024-03-22T17:42:47.695970",
     "exception": false,
     "start_time": "2024-03-22T17:42:47.646624",
     "status": "completed"
    },
    "tags": []
   },
   "outputs": [
    {
     "name": "stdout",
     "output_type": "stream",
     "text": [
      "<class 'pandas.core.frame.DataFrame'>\n",
      "RangeIndex: 891 entries, 0 to 890\n",
      "Data columns (total 12 columns):\n",
      " #   Column       Non-Null Count  Dtype  \n",
      "---  ------       --------------  -----  \n",
      " 0   PassengerId  891 non-null    int64  \n",
      " 1   Survived     891 non-null    int64  \n",
      " 2   Pclass       891 non-null    int64  \n",
      " 3   Name         891 non-null    object \n",
      " 4   Sex          891 non-null    object \n",
      " 5   Age          714 non-null    float64\n",
      " 6   SibSp        891 non-null    int64  \n",
      " 7   Parch        891 non-null    int64  \n",
      " 8   Ticket       891 non-null    object \n",
      " 9   Fare         891 non-null    float64\n",
      " 10  Cabin        204 non-null    object \n",
      " 11  Embarked     889 non-null    object \n",
      "dtypes: float64(2), int64(5), object(5)\n",
      "memory usage: 83.7+ KB\n"
     ]
    }
   ],
   "source": [
    "#info of the datset \n",
    "df.info()"
   ]
  },
  {
   "cell_type": "code",
   "execution_count": 8,
   "id": "13fa9270",
   "metadata": {
    "execution": {
     "iopub.execute_input": "2024-03-22T17:42:47.730805Z",
     "iopub.status.busy": "2024-03-22T17:42:47.730086Z",
     "iopub.status.idle": "2024-03-22T17:42:47.770599Z",
     "shell.execute_reply": "2024-03-22T17:42:47.769268Z"
    },
    "papermill": {
     "duration": 0.06086,
     "end_time": "2024-03-22T17:42:47.773197",
     "exception": false,
     "start_time": "2024-03-22T17:42:47.712337",
     "status": "completed"
    },
    "tags": []
   },
   "outputs": [
    {
     "data": {
      "text/html": [
       "<div>\n",
       "<style scoped>\n",
       "    .dataframe tbody tr th:only-of-type {\n",
       "        vertical-align: middle;\n",
       "    }\n",
       "\n",
       "    .dataframe tbody tr th {\n",
       "        vertical-align: top;\n",
       "    }\n",
       "\n",
       "    .dataframe thead th {\n",
       "        text-align: right;\n",
       "    }\n",
       "</style>\n",
       "<table border=\"1\" class=\"dataframe\">\n",
       "  <thead>\n",
       "    <tr style=\"text-align: right;\">\n",
       "      <th></th>\n",
       "      <th>PassengerId</th>\n",
       "      <th>Survived</th>\n",
       "      <th>Pclass</th>\n",
       "      <th>Age</th>\n",
       "      <th>SibSp</th>\n",
       "      <th>Parch</th>\n",
       "      <th>Fare</th>\n",
       "    </tr>\n",
       "  </thead>\n",
       "  <tbody>\n",
       "    <tr>\n",
       "      <th>count</th>\n",
       "      <td>891.000000</td>\n",
       "      <td>891.000000</td>\n",
       "      <td>891.000000</td>\n",
       "      <td>714.000000</td>\n",
       "      <td>891.000000</td>\n",
       "      <td>891.000000</td>\n",
       "      <td>891.000000</td>\n",
       "    </tr>\n",
       "    <tr>\n",
       "      <th>mean</th>\n",
       "      <td>446.000000</td>\n",
       "      <td>0.383838</td>\n",
       "      <td>2.308642</td>\n",
       "      <td>29.699118</td>\n",
       "      <td>0.523008</td>\n",
       "      <td>0.381594</td>\n",
       "      <td>32.204208</td>\n",
       "    </tr>\n",
       "    <tr>\n",
       "      <th>std</th>\n",
       "      <td>257.353842</td>\n",
       "      <td>0.486592</td>\n",
       "      <td>0.836071</td>\n",
       "      <td>14.526497</td>\n",
       "      <td>1.102743</td>\n",
       "      <td>0.806057</td>\n",
       "      <td>49.693429</td>\n",
       "    </tr>\n",
       "    <tr>\n",
       "      <th>min</th>\n",
       "      <td>1.000000</td>\n",
       "      <td>0.000000</td>\n",
       "      <td>1.000000</td>\n",
       "      <td>0.420000</td>\n",
       "      <td>0.000000</td>\n",
       "      <td>0.000000</td>\n",
       "      <td>0.000000</td>\n",
       "    </tr>\n",
       "    <tr>\n",
       "      <th>25%</th>\n",
       "      <td>223.500000</td>\n",
       "      <td>0.000000</td>\n",
       "      <td>2.000000</td>\n",
       "      <td>20.125000</td>\n",
       "      <td>0.000000</td>\n",
       "      <td>0.000000</td>\n",
       "      <td>7.910400</td>\n",
       "    </tr>\n",
       "    <tr>\n",
       "      <th>50%</th>\n",
       "      <td>446.000000</td>\n",
       "      <td>0.000000</td>\n",
       "      <td>3.000000</td>\n",
       "      <td>28.000000</td>\n",
       "      <td>0.000000</td>\n",
       "      <td>0.000000</td>\n",
       "      <td>14.454200</td>\n",
       "    </tr>\n",
       "    <tr>\n",
       "      <th>75%</th>\n",
       "      <td>668.500000</td>\n",
       "      <td>1.000000</td>\n",
       "      <td>3.000000</td>\n",
       "      <td>38.000000</td>\n",
       "      <td>1.000000</td>\n",
       "      <td>0.000000</td>\n",
       "      <td>31.000000</td>\n",
       "    </tr>\n",
       "    <tr>\n",
       "      <th>max</th>\n",
       "      <td>891.000000</td>\n",
       "      <td>1.000000</td>\n",
       "      <td>3.000000</td>\n",
       "      <td>80.000000</td>\n",
       "      <td>8.000000</td>\n",
       "      <td>6.000000</td>\n",
       "      <td>512.329200</td>\n",
       "    </tr>\n",
       "  </tbody>\n",
       "</table>\n",
       "</div>"
      ],
      "text/plain": [
       "       PassengerId    Survived      Pclass         Age       SibSp  \\\n",
       "count   891.000000  891.000000  891.000000  714.000000  891.000000   \n",
       "mean    446.000000    0.383838    2.308642   29.699118    0.523008   \n",
       "std     257.353842    0.486592    0.836071   14.526497    1.102743   \n",
       "min       1.000000    0.000000    1.000000    0.420000    0.000000   \n",
       "25%     223.500000    0.000000    2.000000   20.125000    0.000000   \n",
       "50%     446.000000    0.000000    3.000000   28.000000    0.000000   \n",
       "75%     668.500000    1.000000    3.000000   38.000000    1.000000   \n",
       "max     891.000000    1.000000    3.000000   80.000000    8.000000   \n",
       "\n",
       "            Parch        Fare  \n",
       "count  891.000000  891.000000  \n",
       "mean     0.381594   32.204208  \n",
       "std      0.806057   49.693429  \n",
       "min      0.000000    0.000000  \n",
       "25%      0.000000    7.910400  \n",
       "50%      0.000000   14.454200  \n",
       "75%      0.000000   31.000000  \n",
       "max      6.000000  512.329200  "
      ]
     },
     "execution_count": 8,
     "metadata": {},
     "output_type": "execute_result"
    }
   ],
   "source": [
    "#describe \n",
    "df.describe()"
   ]
  },
  {
   "cell_type": "code",
   "execution_count": 9,
   "id": "529f65e1",
   "metadata": {
    "execution": {
     "iopub.execute_input": "2024-03-22T17:42:47.808797Z",
     "iopub.status.busy": "2024-03-22T17:42:47.808206Z",
     "iopub.status.idle": "2024-03-22T17:42:47.819274Z",
     "shell.execute_reply": "2024-03-22T17:42:47.818117Z"
    },
    "papermill": {
     "duration": 0.031996,
     "end_time": "2024-03-22T17:42:47.821961",
     "exception": false,
     "start_time": "2024-03-22T17:42:47.789965",
     "status": "completed"
    },
    "tags": []
   },
   "outputs": [
    {
     "data": {
      "text/plain": [
       "PassengerId      0\n",
       "Survived         0\n",
       "Pclass           0\n",
       "Name             0\n",
       "Sex              0\n",
       "Age            177\n",
       "SibSp            0\n",
       "Parch            0\n",
       "Ticket           0\n",
       "Fare             0\n",
       "Cabin          687\n",
       "Embarked         2\n",
       "dtype: int64"
      ]
     },
     "execution_count": 9,
     "metadata": {},
     "output_type": "execute_result"
    }
   ],
   "source": [
    "df.isnull().sum()"
   ]
  },
  {
   "cell_type": "markdown",
   "id": "b39f4e00",
   "metadata": {
    "papermill": {
     "duration": 0.016645,
     "end_time": "2024-03-22T17:42:47.855728",
     "exception": false,
     "start_time": "2024-03-22T17:42:47.839083",
     "status": "completed"
    },
    "tags": []
   },
   "source": [
    "# Feature Enginnering"
   ]
  },
  {
   "cell_type": "code",
   "execution_count": 10,
   "id": "1452e9f4",
   "metadata": {
    "execution": {
     "iopub.execute_input": "2024-03-22T17:42:47.893158Z",
     "iopub.status.busy": "2024-03-22T17:42:47.892743Z",
     "iopub.status.idle": "2024-03-22T17:42:47.902978Z",
     "shell.execute_reply": "2024-03-22T17:42:47.901696Z"
    },
    "papermill": {
     "duration": 0.032367,
     "end_time": "2024-03-22T17:42:47.905629",
     "exception": false,
     "start_time": "2024-03-22T17:42:47.873262",
     "status": "completed"
    },
    "tags": []
   },
   "outputs": [],
   "source": [
    "# Anaylsis of Categorical and Numerical Variables\n",
    "def grab_col_names(dataframe, cat_th=10, car_th=20):\n",
    "  #Catgeorical Variable Selection\n",
    "  cat_cols = [col for col in dataframe.columns if str(dataframe[col].dtypes) in [\"category\",\"object\",\"bool\"]]\n",
    "  num_but_cat = [col for col in dataframe.columns if dataframe[col].nunique() < cat_th and dataframe[col].dtypes in [\"uint8\",\"int64\",\"float64\"]]\n",
    "  cat_but_car = [col for col in dataframe.columns if dataframe[col].nunique() > car_th and str(dataframe[col].dtypes) in [\"category\",\"object\"]]\n",
    "  cat_cols = cat_cols + num_but_cat\n",
    "  cat_cols = [col for col in cat_cols if col not in cat_but_car]\n",
    "\n",
    "  #Numerical Variable Selection\n",
    "  num_cols = [col for col in dataframe.columns if dataframe[col].dtypes in [\"uint8\",\"int64\",\"float64\"]]\n",
    "  num_cols = [col for col in num_cols if col not in cat_cols]\n",
    "\n",
    "  return cat_cols, num_cols, cat_but_car, num_but_cat"
   ]
  },
  {
   "cell_type": "code",
   "execution_count": 11,
   "id": "d5dd054e",
   "metadata": {
    "execution": {
     "iopub.execute_input": "2024-03-22T17:42:47.942285Z",
     "iopub.status.busy": "2024-03-22T17:42:47.941888Z",
     "iopub.status.idle": "2024-03-22T17:42:47.982061Z",
     "shell.execute_reply": "2024-03-22T17:42:47.980695Z"
    },
    "papermill": {
     "duration": 0.061488,
     "end_time": "2024-03-22T17:42:47.984668",
     "exception": false,
     "start_time": "2024-03-22T17:42:47.923180",
     "status": "completed"
    },
    "tags": []
   },
   "outputs": [],
   "source": [
    "df[\"NEW_CABIN_BOOL\"] = df[\"Cabin\"].notnull().astype('int')\n",
    "df[\"NEW_NAME_LETTER_COUNT\"] = df[\"Name\"].str.len()\n",
    "df[\"NEW_NAME_WORD_COUNT\"] = df[\"Name\"].apply(lambda x: len(str(x).split(\" \")))\n",
    "df[\"NEW_NAME_DR\"] = df[\"Name\"].apply(lambda x: len([x for x in x.split() if x.startswith(\"Dr\")]))\n",
    "df[\"NEW_TITLE\"] = df[\"Name\"].str.extract(' ([A-Za-z]+)\\.', expand=False)\n",
    "df[\"NEW_FAMILY_SIZE\"] = df[\"SibSp\"] + df[\"Parch\"] + 1\n",
    "df[\"NEW_AGE_PCLASS\"] = df[\"Pclass\"] * df[\"Age\"]\n",
    "df.loc[((df[\"SibSp\"] + df[\"Parch\"]) > 0), \"NEW_IS_ALONE\"] = \"NO\"\n",
    "df.loc[((df[\"SibSp\"] + df[\"Parch\"]) == 0), \"NEW_IS_ALONE\"] = \"Yes\"\n",
    "df.loc[(df[\"Age\"] < 18), \"NEW_AGE_CAT\"] = \"young\"\n",
    "df.loc[(df[\"Age\"] >= 18) & (df[\"Age\"] < 55), \"NEW_AGE_CAT\"] = \"mature\"\n",
    "df.loc[(df[\"Age\"] >= 55), \"NEW_AGE_CAT\"] = \"senior\"\n",
    "df.loc[(df[\"Sex\"] == \"male\") & (df[\"Age\"] <= 21), \"NEW_SEX_CAT\"] = \"youngmale\"\n",
    "df.loc[(df[\"Sex\"] == \"male\") & ((df[\"Age\"] > 21) & (df[\"Age\"] < 50)), \"NEW_SEX_CAT\"] = \"maturemale\"\n",
    "df.loc[(df[\"Sex\"] == \"male\") & (df[\"Age\"] >= 50), \"NEW_SEX_CAT\"] = \"seniormale\"\n",
    "df.loc[(df[\"Sex\"] == \"female\") & (df[\"Age\"] <= 21), \"NEW_SEX_CAT\"] = \"youngfemale\"\n",
    "df.loc[(df[\"Sex\"] == \"female\") & ((df[\"Age\"] > 21) & (df[\"Age\"] < 50)), \"NEW_SEX_CAT\"] = \"maturefemale\"\n",
    "df.loc[(df[\"Sex\"] == \"female\") & (df[\"Age\"] >= 50), \"NEW_SEX_CAT\"] = \"seniorfemale\""
   ]
  },
  {
   "cell_type": "code",
   "execution_count": 12,
   "id": "e89195a0",
   "metadata": {
    "execution": {
     "iopub.execute_input": "2024-03-22T17:42:48.021874Z",
     "iopub.status.busy": "2024-03-22T17:42:48.021465Z",
     "iopub.status.idle": "2024-03-22T17:42:48.039604Z",
     "shell.execute_reply": "2024-03-22T17:42:48.038203Z"
    },
    "papermill": {
     "duration": 0.039417,
     "end_time": "2024-03-22T17:42:48.042285",
     "exception": false,
     "start_time": "2024-03-22T17:42:48.002868",
     "status": "completed"
    },
    "tags": []
   },
   "outputs": [
    {
     "name": "stdout",
     "output_type": "stream",
     "text": [
      "Observations: 891\n",
      "Variables: 22\n",
      "Cat_cols: 14\n",
      "Num_cols: 5\n",
      "Cat_but_car: 3\n",
      "Num_but_cat: 8\n"
     ]
    }
   ],
   "source": [
    "cat_cols, num_cols, cat_but_car, num_but_cat = grab_col_names(df)\n",
    "\n",
    "#Print Categorical and Numerical Variables\n",
    "print(f\"Observations: {df.shape[0]}\")\n",
    "print(f\"Variables: {df.shape[1]}\")\n",
    "print(f\"Cat_cols: {len(cat_cols)}\")\n",
    "print(f\"Num_cols: {len(num_cols)}\")\n",
    "print(f\"Cat_but_car: {len(cat_but_car)}\")\n",
    "print(f\"Num_but_cat: {len(num_but_cat)}\")"
   ]
  },
  {
   "cell_type": "code",
   "execution_count": 13,
   "id": "b3be422a",
   "metadata": {
    "execution": {
     "iopub.execute_input": "2024-03-22T17:42:48.081615Z",
     "iopub.status.busy": "2024-03-22T17:42:48.081210Z",
     "iopub.status.idle": "2024-03-22T17:42:48.096382Z",
     "shell.execute_reply": "2024-03-22T17:42:48.095099Z"
    },
    "papermill": {
     "duration": 0.037189,
     "end_time": "2024-03-22T17:42:48.099143",
     "exception": false,
     "start_time": "2024-03-22T17:42:48.061954",
     "status": "completed"
    },
    "tags": []
   },
   "outputs": [
    {
     "name": "stdout",
     "output_type": "stream",
     "text": [
      "Observations: 891\n",
      "Variables: 22\n",
      "Cat_cols: 14\n",
      "Num_cols: 5\n",
      "Cat_but_car: 3\n",
      "Num_but_cat: 8\n"
     ]
    }
   ],
   "source": [
    "cat_cols, num_cols, cat_but_car, num_but_cat = grab_col_names(df)\n",
    "\n",
    "#Print Categorical and Numerical Variables\n",
    "print(f\"Observations: {df.shape[0]}\")\n",
    "print(f\"Variables: {df.shape[1]}\")\n",
    "print(f\"Cat_cols: {len(cat_cols)}\")\n",
    "print(f\"Num_cols: {len(num_cols)}\")\n",
    "print(f\"Cat_but_car: {len(cat_but_car)}\")\n",
    "print(f\"Num_but_cat: {len(num_but_cat)}\")"
   ]
  },
  {
   "cell_type": "code",
   "execution_count": null,
   "id": "e49873d6",
   "metadata": {
    "papermill": {
     "duration": 0.017513,
     "end_time": "2024-03-22T17:42:48.133898",
     "exception": false,
     "start_time": "2024-03-22T17:42:48.116385",
     "status": "completed"
    },
    "tags": []
   },
   "outputs": [],
   "source": []
  },
  {
   "cell_type": "markdown",
   "id": "2f20e2a9",
   "metadata": {
    "papermill": {
     "duration": 0.017082,
     "end_time": "2024-03-22T17:42:48.168386",
     "exception": false,
     "start_time": "2024-03-22T17:42:48.151304",
     "status": "completed"
    },
    "tags": []
   },
   "source": [
    "# work on Outlier"
   ]
  },
  {
   "cell_type": "code",
   "execution_count": 14,
   "id": "d5838761",
   "metadata": {
    "execution": {
     "iopub.execute_input": "2024-03-22T17:42:48.204832Z",
     "iopub.status.busy": "2024-03-22T17:42:48.204342Z",
     "iopub.status.idle": "2024-03-22T17:42:48.211704Z",
     "shell.execute_reply": "2024-03-22T17:42:48.210238Z"
    },
    "papermill": {
     "duration": 0.029099,
     "end_time": "2024-03-22T17:42:48.214712",
     "exception": false,
     "start_time": "2024-03-22T17:42:48.185613",
     "status": "completed"
    },
    "tags": []
   },
   "outputs": [],
   "source": [
    "def outlier_threshold(dataframe, col_name, q1=0.05, q3=0.95):\n",
    "  quartile1 = dataframe[col_name].quantile(q1)\n",
    "  quartile3 = dataframe[col_name].quantile(q3)\n",
    "  interquartile_range = quartile3 - quartile1\n",
    "  low_limit = quartile1 - 1.5 * interquartile_range\n",
    "  up_limit = quartile3 + 1.5 * interquartile_range\n",
    "  return low_limit, up_limit"
   ]
  },
  {
   "cell_type": "code",
   "execution_count": 15,
   "id": "fbf82948",
   "metadata": {
    "execution": {
     "iopub.execute_input": "2024-03-22T17:42:48.250969Z",
     "iopub.status.busy": "2024-03-22T17:42:48.250514Z",
     "iopub.status.idle": "2024-03-22T17:42:48.257094Z",
     "shell.execute_reply": "2024-03-22T17:42:48.255754Z"
    },
    "papermill": {
     "duration": 0.027642,
     "end_time": "2024-03-22T17:42:48.259592",
     "exception": false,
     "start_time": "2024-03-22T17:42:48.231950",
     "status": "completed"
    },
    "tags": []
   },
   "outputs": [],
   "source": [
    "def replace_with_thresholds(dataframe, col_name):\n",
    "  low_limit, up_limit = outlier_threshold(dataframe, col_name)\n",
    "  dataframe.loc[(dataframe[col_name] < low_limit), col_name] = low_limit\n",
    "  dataframe.loc[(dataframe[col_name] > up_limit), col_name] = up_limit"
   ]
  },
  {
   "cell_type": "code",
   "execution_count": 16,
   "id": "e8ad66ab",
   "metadata": {
    "execution": {
     "iopub.execute_input": "2024-03-22T17:42:48.302172Z",
     "iopub.status.busy": "2024-03-22T17:42:48.301016Z",
     "iopub.status.idle": "2024-03-22T17:42:48.308879Z",
     "shell.execute_reply": "2024-03-22T17:42:48.307429Z"
    },
    "papermill": {
     "duration": 0.035026,
     "end_time": "2024-03-22T17:42:48.311813",
     "exception": false,
     "start_time": "2024-03-22T17:42:48.276787",
     "status": "completed"
    },
    "tags": []
   },
   "outputs": [],
   "source": [
    "def replace_with_thresholds_dataframe(dataframe):\n",
    "  cat_cols, num_cols, cat_but_car, num_but_cat = grab_col_names(dataframe)\n",
    "  for col in num_cols:\n",
    "    replace_with_thresholds(dataframe, col)"
   ]
  },
  {
   "cell_type": "code",
   "execution_count": 17,
   "id": "69262718",
   "metadata": {
    "execution": {
     "iopub.execute_input": "2024-03-22T17:42:48.354159Z",
     "iopub.status.busy": "2024-03-22T17:42:48.353592Z",
     "iopub.status.idle": "2024-03-22T17:42:48.385215Z",
     "shell.execute_reply": "2024-03-22T17:42:48.384217Z"
    },
    "papermill": {
     "duration": 0.053854,
     "end_time": "2024-03-22T17:42:48.388340",
     "exception": false,
     "start_time": "2024-03-22T17:42:48.334486",
     "status": "completed"
    },
    "tags": []
   },
   "outputs": [
    {
     "name": "stderr",
     "output_type": "stream",
     "text": [
      "/tmp/ipykernel_17/3022633631.py:3: FutureWarning: Setting an item of incompatible dtype is deprecated and will raise an error in a future version of pandas. Value '-30.5' has dtype incompatible with int64, please explicitly cast to a compatible dtype first.\n",
      "  dataframe.loc[(dataframe[col_name] < low_limit), col_name] = low_limit\n"
     ]
    }
   ],
   "source": [
    "replace_with_thresholds_dataframe(df)"
   ]
  },
  {
   "cell_type": "markdown",
   "id": "5888cdf2",
   "metadata": {
    "papermill": {
     "duration": 0.024626,
     "end_time": "2024-03-22T17:42:48.437558",
     "exception": false,
     "start_time": "2024-03-22T17:42:48.412932",
     "status": "completed"
    },
    "tags": []
   },
   "source": [
    "# work on minnsing values "
   ]
  },
  {
   "cell_type": "code",
   "execution_count": 18,
   "id": "2641e338",
   "metadata": {
    "execution": {
     "iopub.execute_input": "2024-03-22T17:42:48.539563Z",
     "iopub.status.busy": "2024-03-22T17:42:48.538208Z",
     "iopub.status.idle": "2024-03-22T17:42:48.548563Z",
     "shell.execute_reply": "2024-03-22T17:42:48.547340Z"
    },
    "papermill": {
     "duration": 0.031864,
     "end_time": "2024-03-22T17:42:48.551372",
     "exception": false,
     "start_time": "2024-03-22T17:42:48.519508",
     "status": "completed"
    },
    "tags": []
   },
   "outputs": [],
   "source": [
    "def missing_value_table(dataframe, na_name=False):\n",
    "  na_columns = [col for col in dataframe.columns if dataframe[col].isnull().sum() > 0]\n",
    "  n_miss = dataframe[na_columns].isnull().sum().sort_values(ascending=False)\n",
    "  ratio = (dataframe[na_columns].isnull().sum() / dataframe.shape[0] * 100).sort_values(ascending=False)\n",
    "  missing_df = pd.concat([n_miss, np.round(ratio, 2)], axis=1, keys=[\"n_miss\",\"ratio\"])\n",
    "  print(missing_df, end=\"\\n\")\n",
    "  if na_name:\n",
    "    return na_columns"
   ]
  },
  {
   "cell_type": "code",
   "execution_count": 19,
   "id": "fa37e744",
   "metadata": {
    "execution": {
     "iopub.execute_input": "2024-03-22T17:42:48.589926Z",
     "iopub.status.busy": "2024-03-22T17:42:48.588884Z",
     "iopub.status.idle": "2024-03-22T17:42:48.617562Z",
     "shell.execute_reply": "2024-03-22T17:42:48.616561Z"
    },
    "papermill": {
     "duration": 0.051918,
     "end_time": "2024-03-22T17:42:48.620916",
     "exception": false,
     "start_time": "2024-03-22T17:42:48.568998",
     "status": "completed"
    },
    "tags": []
   },
   "outputs": [
    {
     "name": "stdout",
     "output_type": "stream",
     "text": [
      "                n_miss  ratio\n",
      "Cabin              687  77.10\n",
      "Age                177  19.87\n",
      "NEW_AGE_PCLASS     177  19.87\n",
      "NEW_AGE_CAT        177  19.87\n",
      "NEW_SEX_CAT        177  19.87\n",
      "Embarked             2   0.22\n"
     ]
    }
   ],
   "source": [
    "na_columns = missing_value_table(df, na_name=True)"
   ]
  },
  {
   "cell_type": "code",
   "execution_count": 20,
   "id": "746aa700",
   "metadata": {
    "execution": {
     "iopub.execute_input": "2024-03-22T17:42:48.664203Z",
     "iopub.status.busy": "2024-03-22T17:42:48.663367Z",
     "iopub.status.idle": "2024-03-22T17:42:48.671206Z",
     "shell.execute_reply": "2024-03-22T17:42:48.670085Z"
    },
    "papermill": {
     "duration": 0.030519,
     "end_time": "2024-03-22T17:42:48.673966",
     "exception": false,
     "start_time": "2024-03-22T17:42:48.643447",
     "status": "completed"
    },
    "tags": []
   },
   "outputs": [],
   "source": [
    "remove_cols = [\"Name\", \"Ticket\", \"Cabin\"]\n",
    "df.drop(remove_cols, axis=1, inplace=True)"
   ]
  },
  {
   "cell_type": "code",
   "execution_count": 21,
   "id": "2b00a0c6",
   "metadata": {
    "execution": {
     "iopub.execute_input": "2024-03-22T17:42:48.714758Z",
     "iopub.status.busy": "2024-03-22T17:42:48.713463Z",
     "iopub.status.idle": "2024-03-22T17:42:48.730809Z",
     "shell.execute_reply": "2024-03-22T17:42:48.729432Z"
    },
    "papermill": {
     "duration": 0.038832,
     "end_time": "2024-03-22T17:42:48.733398",
     "exception": false,
     "start_time": "2024-03-22T17:42:48.694566",
     "status": "completed"
    },
    "tags": []
   },
   "outputs": [
    {
     "name": "stdout",
     "output_type": "stream",
     "text": [
      "                n_miss  ratio\n",
      "Age                177  19.87\n",
      "NEW_AGE_PCLASS     177  19.87\n",
      "NEW_AGE_CAT        177  19.87\n",
      "NEW_SEX_CAT        177  19.87\n",
      "Embarked             2   0.22\n"
     ]
    }
   ],
   "source": [
    "na_columns = missing_value_table(df, na_name=True)\n"
   ]
  },
  {
   "cell_type": "code",
   "execution_count": 22,
   "id": "5a0ddc2c",
   "metadata": {
    "execution": {
     "iopub.execute_input": "2024-03-22T17:42:48.770446Z",
     "iopub.status.busy": "2024-03-22T17:42:48.770041Z",
     "iopub.status.idle": "2024-03-22T17:42:48.784499Z",
     "shell.execute_reply": "2024-03-22T17:42:48.783322Z"
    },
    "papermill": {
     "duration": 0.03648,
     "end_time": "2024-03-22T17:42:48.787377",
     "exception": false,
     "start_time": "2024-03-22T17:42:48.750897",
     "status": "completed"
    },
    "tags": []
   },
   "outputs": [],
   "source": [
    "df[\"Age\"] = df[\"Age\"].fillna(df.groupby(\"NEW_TITLE\")[\"Age\"].transform(\"median\"))\n"
   ]
  },
  {
   "cell_type": "code",
   "execution_count": 23,
   "id": "173758f3",
   "metadata": {
    "execution": {
     "iopub.execute_input": "2024-03-22T17:42:48.832001Z",
     "iopub.status.busy": "2024-03-22T17:42:48.831086Z",
     "iopub.status.idle": "2024-03-22T17:42:48.851119Z",
     "shell.execute_reply": "2024-03-22T17:42:48.849727Z"
    },
    "papermill": {
     "duration": 0.043504,
     "end_time": "2024-03-22T17:42:48.853810",
     "exception": false,
     "start_time": "2024-03-22T17:42:48.810306",
     "status": "completed"
    },
    "tags": []
   },
   "outputs": [
    {
     "name": "stdout",
     "output_type": "stream",
     "text": [
      "                n_miss  ratio\n",
      "NEW_AGE_PCLASS     177  19.87\n",
      "NEW_AGE_CAT        177  19.87\n",
      "NEW_SEX_CAT        177  19.87\n",
      "Embarked             2   0.22\n"
     ]
    }
   ],
   "source": [
    "na_columns = missing_value_table(df, na_name=True)\n"
   ]
  },
  {
   "cell_type": "code",
   "execution_count": 24,
   "id": "5a1c3ad1",
   "metadata": {
    "execution": {
     "iopub.execute_input": "2024-03-22T17:42:48.892774Z",
     "iopub.status.busy": "2024-03-22T17:42:48.891840Z",
     "iopub.status.idle": "2024-03-22T17:42:48.921163Z",
     "shell.execute_reply": "2024-03-22T17:42:48.919836Z"
    },
    "papermill": {
     "duration": 0.05193,
     "end_time": "2024-03-22T17:42:48.924063",
     "exception": false,
     "start_time": "2024-03-22T17:42:48.872133",
     "status": "completed"
    },
    "tags": []
   },
   "outputs": [],
   "source": [
    "df[\"NEW_AGE_PCLASS\"] = df[\"Pclass\"] * df[\"Age\"]\n",
    "df.loc[((df[\"SibSp\"] + df[\"Parch\"]) > 0), \"NEW_IS_ALONE\"] = \"NO\"\n",
    "df.loc[((df[\"SibSp\"] + df[\"Parch\"]) == 0), \"NEW_IS_ALONE\"] = \"Yes\"\n",
    "df.loc[(df[\"Age\"] < 18), \"NEW_AGE_CAT\"] = \"young\"\n",
    "df.loc[(df[\"Age\"] >= 18) & (df[\"Age\"] < 55), \"NEW_AGE_CAT\"] = \"mature\"\n",
    "df.loc[(df[\"Age\"] >= 55), \"NEW_AGE_CAT\"] = \"senior\"\n",
    "df.loc[(df[\"Sex\"] == \"male\") & (df[\"Age\"] <= 21), \"NEW_SEX_CAT\"] = \"youngmale\"\n",
    "df.loc[(df[\"Sex\"] == \"male\") & ((df[\"Age\"] > 21) & (df[\"Age\"] < 50)), \"NEW_SEX_CAT\"] = \"maturemale\"\n",
    "df.loc[(df[\"Sex\"] == \"male\") & (df[\"Age\"] >= 50), \"NEW_SEX_CAT\"] = \"seniormale\"\n",
    "df.loc[(df[\"Sex\"] == \"female\") & (df[\"Age\"] <= 21), \"NEW_SEX_CAT\"] = \"youngfemale\"\n",
    "df.loc[(df[\"Sex\"] == \"female\") & ((df[\"Age\"] > 21) & (df[\"Age\"] < 50)), \"NEW_SEX_CAT\"] = \"maturefemale\"\n",
    "df.loc[(df[\"Sex\"] == \"female\") & (df[\"Age\"] >= 50), \"NEW_SEX_CAT\"] = \"seniorfemale\""
   ]
  },
  {
   "cell_type": "code",
   "execution_count": 25,
   "id": "9994c21c",
   "metadata": {
    "execution": {
     "iopub.execute_input": "2024-03-22T17:42:48.962434Z",
     "iopub.status.busy": "2024-03-22T17:42:48.961953Z",
     "iopub.status.idle": "2024-03-22T17:42:48.979214Z",
     "shell.execute_reply": "2024-03-22T17:42:48.977953Z"
    },
    "papermill": {
     "duration": 0.04017,
     "end_time": "2024-03-22T17:42:48.982030",
     "exception": false,
     "start_time": "2024-03-22T17:42:48.941860",
     "status": "completed"
    },
    "tags": []
   },
   "outputs": [
    {
     "name": "stdout",
     "output_type": "stream",
     "text": [
      "          n_miss  ratio\n",
      "Embarked       2   0.22\n"
     ]
    }
   ],
   "source": [
    "na_columns = missing_value_table(df, na_name=True)\n"
   ]
  },
  {
   "cell_type": "code",
   "execution_count": 26,
   "id": "47fdd4ac",
   "metadata": {
    "execution": {
     "iopub.execute_input": "2024-03-22T17:42:49.023970Z",
     "iopub.status.busy": "2024-03-22T17:42:49.023434Z",
     "iopub.status.idle": "2024-03-22T17:42:49.045687Z",
     "shell.execute_reply": "2024-03-22T17:42:49.042212Z"
    },
    "papermill": {
     "duration": 0.049777,
     "end_time": "2024-03-22T17:42:49.049518",
     "exception": false,
     "start_time": "2024-03-22T17:42:48.999741",
     "status": "completed"
    },
    "tags": []
   },
   "outputs": [],
   "source": [
    "df = df.apply(lambda x: x.fillna(x.mode()[0]) if (x.dtype in [\"category\", \"object\"] and len(x.unique())<=10) else x, axis=0)"
   ]
  },
  {
   "cell_type": "code",
   "execution_count": 27,
   "id": "aeab7931",
   "metadata": {
    "execution": {
     "iopub.execute_input": "2024-03-22T17:42:49.102834Z",
     "iopub.status.busy": "2024-03-22T17:42:49.101871Z",
     "iopub.status.idle": "2024-03-22T17:42:49.118095Z",
     "shell.execute_reply": "2024-03-22T17:42:49.116489Z"
    },
    "papermill": {
     "duration": 0.044008,
     "end_time": "2024-03-22T17:42:49.120775",
     "exception": false,
     "start_time": "2024-03-22T17:42:49.076767",
     "status": "completed"
    },
    "tags": []
   },
   "outputs": [
    {
     "name": "stdout",
     "output_type": "stream",
     "text": [
      "Empty DataFrame\n",
      "Columns: [n_miss, ratio]\n",
      "Index: []\n"
     ]
    }
   ],
   "source": [
    "na_columns = missing_value_table(df, na_name=True)\n"
   ]
  },
  {
   "cell_type": "code",
   "execution_count": 28,
   "id": "ba5b0749",
   "metadata": {
    "execution": {
     "iopub.execute_input": "2024-03-22T17:42:49.173581Z",
     "iopub.status.busy": "2024-03-22T17:42:49.172665Z",
     "iopub.status.idle": "2024-03-22T17:42:49.204842Z",
     "shell.execute_reply": "2024-03-22T17:42:49.203626Z"
    },
    "papermill": {
     "duration": 0.06459,
     "end_time": "2024-03-22T17:42:49.207934",
     "exception": false,
     "start_time": "2024-03-22T17:42:49.143344",
     "status": "completed"
    },
    "tags": []
   },
   "outputs": [
    {
     "data": {
      "text/html": [
       "<div>\n",
       "<style scoped>\n",
       "    .dataframe tbody tr th:only-of-type {\n",
       "        vertical-align: middle;\n",
       "    }\n",
       "\n",
       "    .dataframe tbody tr th {\n",
       "        vertical-align: top;\n",
       "    }\n",
       "\n",
       "    .dataframe thead th {\n",
       "        text-align: right;\n",
       "    }\n",
       "</style>\n",
       "<table border=\"1\" class=\"dataframe\">\n",
       "  <thead>\n",
       "    <tr style=\"text-align: right;\">\n",
       "      <th></th>\n",
       "      <th>PassengerId</th>\n",
       "      <th>Survived</th>\n",
       "      <th>Pclass</th>\n",
       "      <th>Sex</th>\n",
       "      <th>Age</th>\n",
       "      <th>SibSp</th>\n",
       "      <th>Parch</th>\n",
       "      <th>Fare</th>\n",
       "      <th>Embarked</th>\n",
       "      <th>NEW_CABIN_BOOL</th>\n",
       "      <th>NEW_NAME_LETTER_COUNT</th>\n",
       "      <th>NEW_NAME_WORD_COUNT</th>\n",
       "      <th>NEW_NAME_DR</th>\n",
       "      <th>NEW_TITLE</th>\n",
       "      <th>NEW_FAMILY_SIZE</th>\n",
       "      <th>NEW_AGE_PCLASS</th>\n",
       "      <th>NEW_IS_ALONE</th>\n",
       "      <th>NEW_AGE_CAT</th>\n",
       "      <th>NEW_SEX_CAT</th>\n",
       "    </tr>\n",
       "  </thead>\n",
       "  <tbody>\n",
       "    <tr>\n",
       "      <th>0</th>\n",
       "      <td>1</td>\n",
       "      <td>0</td>\n",
       "      <td>3</td>\n",
       "      <td>male</td>\n",
       "      <td>22.0</td>\n",
       "      <td>1</td>\n",
       "      <td>0</td>\n",
       "      <td>7.2500</td>\n",
       "      <td>S</td>\n",
       "      <td>0</td>\n",
       "      <td>23.0</td>\n",
       "      <td>4</td>\n",
       "      <td>0</td>\n",
       "      <td>Mr</td>\n",
       "      <td>2</td>\n",
       "      <td>66.0</td>\n",
       "      <td>NO</td>\n",
       "      <td>mature</td>\n",
       "      <td>maturemale</td>\n",
       "    </tr>\n",
       "    <tr>\n",
       "      <th>1</th>\n",
       "      <td>2</td>\n",
       "      <td>1</td>\n",
       "      <td>1</td>\n",
       "      <td>female</td>\n",
       "      <td>38.0</td>\n",
       "      <td>1</td>\n",
       "      <td>0</td>\n",
       "      <td>71.2833</td>\n",
       "      <td>C</td>\n",
       "      <td>1</td>\n",
       "      <td>51.0</td>\n",
       "      <td>7</td>\n",
       "      <td>0</td>\n",
       "      <td>Mrs</td>\n",
       "      <td>2</td>\n",
       "      <td>38.0</td>\n",
       "      <td>NO</td>\n",
       "      <td>mature</td>\n",
       "      <td>maturefemale</td>\n",
       "    </tr>\n",
       "    <tr>\n",
       "      <th>2</th>\n",
       "      <td>3</td>\n",
       "      <td>1</td>\n",
       "      <td>3</td>\n",
       "      <td>female</td>\n",
       "      <td>26.0</td>\n",
       "      <td>0</td>\n",
       "      <td>0</td>\n",
       "      <td>7.9250</td>\n",
       "      <td>S</td>\n",
       "      <td>0</td>\n",
       "      <td>22.0</td>\n",
       "      <td>3</td>\n",
       "      <td>0</td>\n",
       "      <td>Miss</td>\n",
       "      <td>1</td>\n",
       "      <td>78.0</td>\n",
       "      <td>Yes</td>\n",
       "      <td>mature</td>\n",
       "      <td>maturefemale</td>\n",
       "    </tr>\n",
       "    <tr>\n",
       "      <th>3</th>\n",
       "      <td>4</td>\n",
       "      <td>1</td>\n",
       "      <td>1</td>\n",
       "      <td>female</td>\n",
       "      <td>35.0</td>\n",
       "      <td>1</td>\n",
       "      <td>0</td>\n",
       "      <td>53.1000</td>\n",
       "      <td>S</td>\n",
       "      <td>1</td>\n",
       "      <td>44.0</td>\n",
       "      <td>7</td>\n",
       "      <td>0</td>\n",
       "      <td>Mrs</td>\n",
       "      <td>2</td>\n",
       "      <td>35.0</td>\n",
       "      <td>NO</td>\n",
       "      <td>mature</td>\n",
       "      <td>maturefemale</td>\n",
       "    </tr>\n",
       "    <tr>\n",
       "      <th>4</th>\n",
       "      <td>5</td>\n",
       "      <td>0</td>\n",
       "      <td>3</td>\n",
       "      <td>male</td>\n",
       "      <td>35.0</td>\n",
       "      <td>0</td>\n",
       "      <td>0</td>\n",
       "      <td>8.0500</td>\n",
       "      <td>S</td>\n",
       "      <td>0</td>\n",
       "      <td>24.0</td>\n",
       "      <td>4</td>\n",
       "      <td>0</td>\n",
       "      <td>Mr</td>\n",
       "      <td>1</td>\n",
       "      <td>105.0</td>\n",
       "      <td>Yes</td>\n",
       "      <td>mature</td>\n",
       "      <td>maturemale</td>\n",
       "    </tr>\n",
       "  </tbody>\n",
       "</table>\n",
       "</div>"
      ],
      "text/plain": [
       "   PassengerId  Survived  Pclass     Sex   Age  SibSp  Parch     Fare  \\\n",
       "0            1         0       3    male  22.0      1      0   7.2500   \n",
       "1            2         1       1  female  38.0      1      0  71.2833   \n",
       "2            3         1       3  female  26.0      0      0   7.9250   \n",
       "3            4         1       1  female  35.0      1      0  53.1000   \n",
       "4            5         0       3    male  35.0      0      0   8.0500   \n",
       "\n",
       "  Embarked  NEW_CABIN_BOOL  NEW_NAME_LETTER_COUNT  NEW_NAME_WORD_COUNT  \\\n",
       "0        S               0                   23.0                    4   \n",
       "1        C               1                   51.0                    7   \n",
       "2        S               0                   22.0                    3   \n",
       "3        S               1                   44.0                    7   \n",
       "4        S               0                   24.0                    4   \n",
       "\n",
       "   NEW_NAME_DR NEW_TITLE  NEW_FAMILY_SIZE  NEW_AGE_PCLASS NEW_IS_ALONE  \\\n",
       "0            0        Mr                2            66.0           NO   \n",
       "1            0       Mrs                2            38.0           NO   \n",
       "2            0      Miss                1            78.0          Yes   \n",
       "3            0       Mrs                2            35.0           NO   \n",
       "4            0        Mr                1           105.0          Yes   \n",
       "\n",
       "  NEW_AGE_CAT   NEW_SEX_CAT  \n",
       "0      mature    maturemale  \n",
       "1      mature  maturefemale  \n",
       "2      mature  maturefemale  \n",
       "3      mature  maturefemale  \n",
       "4      mature    maturemale  "
      ]
     },
     "execution_count": 28,
     "metadata": {},
     "output_type": "execute_result"
    }
   ],
   "source": [
    "df.head()\n"
   ]
  },
  {
   "cell_type": "code",
   "execution_count": 29,
   "id": "7492979d",
   "metadata": {
    "execution": {
     "iopub.execute_input": "2024-03-22T17:42:49.261451Z",
     "iopub.status.busy": "2024-03-22T17:42:49.260161Z",
     "iopub.status.idle": "2024-03-22T17:42:49.266374Z",
     "shell.execute_reply": "2024-03-22T17:42:49.265464Z"
    },
    "papermill": {
     "duration": 0.028936,
     "end_time": "2024-03-22T17:42:49.268867",
     "exception": false,
     "start_time": "2024-03-22T17:42:49.239931",
     "status": "completed"
    },
    "tags": []
   },
   "outputs": [],
   "source": [
    "def label_encoder(dataframe, binary_col):\n",
    "  labelencoder = LabelEncoder()\n",
    "  dataframe[binary_col] = labelencoder.fit_transform(dataframe[binary_col])\n",
    "  return dataframe"
   ]
  },
  {
   "cell_type": "code",
   "execution_count": 30,
   "id": "da261c9c",
   "metadata": {
    "execution": {
     "iopub.execute_input": "2024-03-22T17:42:49.308512Z",
     "iopub.status.busy": "2024-03-22T17:42:49.307289Z",
     "iopub.status.idle": "2024-03-22T17:42:49.313983Z",
     "shell.execute_reply": "2024-03-22T17:42:49.313055Z"
    },
    "papermill": {
     "duration": 0.028948,
     "end_time": "2024-03-22T17:42:49.316479",
     "exception": false,
     "start_time": "2024-03-22T17:42:49.287531",
     "status": "completed"
    },
    "tags": []
   },
   "outputs": [],
   "source": [
    "def label_encoder_dataframe(dataframe):\n",
    "  binary_cols = [col for col in dataframe.columns if dataframe[col].dtype not in [\"int\", \"float\"] and dataframe[col].nunique() == 2]\n",
    "  for col in binary_cols:\n",
    "    label_encoder(dataframe, col)"
   ]
  },
  {
   "cell_type": "code",
   "execution_count": 31,
   "id": "2fab4c8f",
   "metadata": {
    "execution": {
     "iopub.execute_input": "2024-03-22T17:42:49.356755Z",
     "iopub.status.busy": "2024-03-22T17:42:49.355850Z",
     "iopub.status.idle": "2024-03-22T17:42:49.366094Z",
     "shell.execute_reply": "2024-03-22T17:42:49.365020Z"
    },
    "papermill": {
     "duration": 0.033069,
     "end_time": "2024-03-22T17:42:49.368843",
     "exception": false,
     "start_time": "2024-03-22T17:42:49.335774",
     "status": "completed"
    },
    "tags": []
   },
   "outputs": [],
   "source": [
    "label_encoder_dataframe(df)\n"
   ]
  },
  {
   "cell_type": "code",
   "execution_count": 32,
   "id": "4cd9b5ec",
   "metadata": {
    "execution": {
     "iopub.execute_input": "2024-03-22T17:42:49.409259Z",
     "iopub.status.busy": "2024-03-22T17:42:49.408036Z",
     "iopub.status.idle": "2024-03-22T17:42:49.439782Z",
     "shell.execute_reply": "2024-03-22T17:42:49.437804Z"
    },
    "papermill": {
     "duration": 0.054975,
     "end_time": "2024-03-22T17:42:49.442781",
     "exception": false,
     "start_time": "2024-03-22T17:42:49.387806",
     "status": "completed"
    },
    "tags": []
   },
   "outputs": [
    {
     "data": {
      "text/html": [
       "<div>\n",
       "<style scoped>\n",
       "    .dataframe tbody tr th:only-of-type {\n",
       "        vertical-align: middle;\n",
       "    }\n",
       "\n",
       "    .dataframe tbody tr th {\n",
       "        vertical-align: top;\n",
       "    }\n",
       "\n",
       "    .dataframe thead th {\n",
       "        text-align: right;\n",
       "    }\n",
       "</style>\n",
       "<table border=\"1\" class=\"dataframe\">\n",
       "  <thead>\n",
       "    <tr style=\"text-align: right;\">\n",
       "      <th></th>\n",
       "      <th>PassengerId</th>\n",
       "      <th>Survived</th>\n",
       "      <th>Pclass</th>\n",
       "      <th>Sex</th>\n",
       "      <th>Age</th>\n",
       "      <th>SibSp</th>\n",
       "      <th>Parch</th>\n",
       "      <th>Fare</th>\n",
       "      <th>Embarked</th>\n",
       "      <th>NEW_CABIN_BOOL</th>\n",
       "      <th>NEW_NAME_LETTER_COUNT</th>\n",
       "      <th>NEW_NAME_WORD_COUNT</th>\n",
       "      <th>NEW_NAME_DR</th>\n",
       "      <th>NEW_TITLE</th>\n",
       "      <th>NEW_FAMILY_SIZE</th>\n",
       "      <th>NEW_AGE_PCLASS</th>\n",
       "      <th>NEW_IS_ALONE</th>\n",
       "      <th>NEW_AGE_CAT</th>\n",
       "      <th>NEW_SEX_CAT</th>\n",
       "    </tr>\n",
       "  </thead>\n",
       "  <tbody>\n",
       "    <tr>\n",
       "      <th>0</th>\n",
       "      <td>1</td>\n",
       "      <td>0</td>\n",
       "      <td>3</td>\n",
       "      <td>1</td>\n",
       "      <td>22.0</td>\n",
       "      <td>1</td>\n",
       "      <td>0</td>\n",
       "      <td>7.2500</td>\n",
       "      <td>S</td>\n",
       "      <td>0</td>\n",
       "      <td>23.0</td>\n",
       "      <td>4</td>\n",
       "      <td>0</td>\n",
       "      <td>Mr</td>\n",
       "      <td>2</td>\n",
       "      <td>66.0</td>\n",
       "      <td>0</td>\n",
       "      <td>mature</td>\n",
       "      <td>maturemale</td>\n",
       "    </tr>\n",
       "    <tr>\n",
       "      <th>1</th>\n",
       "      <td>2</td>\n",
       "      <td>1</td>\n",
       "      <td>1</td>\n",
       "      <td>0</td>\n",
       "      <td>38.0</td>\n",
       "      <td>1</td>\n",
       "      <td>0</td>\n",
       "      <td>71.2833</td>\n",
       "      <td>C</td>\n",
       "      <td>1</td>\n",
       "      <td>51.0</td>\n",
       "      <td>7</td>\n",
       "      <td>0</td>\n",
       "      <td>Mrs</td>\n",
       "      <td>2</td>\n",
       "      <td>38.0</td>\n",
       "      <td>0</td>\n",
       "      <td>mature</td>\n",
       "      <td>maturefemale</td>\n",
       "    </tr>\n",
       "    <tr>\n",
       "      <th>2</th>\n",
       "      <td>3</td>\n",
       "      <td>1</td>\n",
       "      <td>3</td>\n",
       "      <td>0</td>\n",
       "      <td>26.0</td>\n",
       "      <td>0</td>\n",
       "      <td>0</td>\n",
       "      <td>7.9250</td>\n",
       "      <td>S</td>\n",
       "      <td>0</td>\n",
       "      <td>22.0</td>\n",
       "      <td>3</td>\n",
       "      <td>0</td>\n",
       "      <td>Miss</td>\n",
       "      <td>1</td>\n",
       "      <td>78.0</td>\n",
       "      <td>1</td>\n",
       "      <td>mature</td>\n",
       "      <td>maturefemale</td>\n",
       "    </tr>\n",
       "    <tr>\n",
       "      <th>3</th>\n",
       "      <td>4</td>\n",
       "      <td>1</td>\n",
       "      <td>1</td>\n",
       "      <td>0</td>\n",
       "      <td>35.0</td>\n",
       "      <td>1</td>\n",
       "      <td>0</td>\n",
       "      <td>53.1000</td>\n",
       "      <td>S</td>\n",
       "      <td>1</td>\n",
       "      <td>44.0</td>\n",
       "      <td>7</td>\n",
       "      <td>0</td>\n",
       "      <td>Mrs</td>\n",
       "      <td>2</td>\n",
       "      <td>35.0</td>\n",
       "      <td>0</td>\n",
       "      <td>mature</td>\n",
       "      <td>maturefemale</td>\n",
       "    </tr>\n",
       "    <tr>\n",
       "      <th>4</th>\n",
       "      <td>5</td>\n",
       "      <td>0</td>\n",
       "      <td>3</td>\n",
       "      <td>1</td>\n",
       "      <td>35.0</td>\n",
       "      <td>0</td>\n",
       "      <td>0</td>\n",
       "      <td>8.0500</td>\n",
       "      <td>S</td>\n",
       "      <td>0</td>\n",
       "      <td>24.0</td>\n",
       "      <td>4</td>\n",
       "      <td>0</td>\n",
       "      <td>Mr</td>\n",
       "      <td>1</td>\n",
       "      <td>105.0</td>\n",
       "      <td>1</td>\n",
       "      <td>mature</td>\n",
       "      <td>maturemale</td>\n",
       "    </tr>\n",
       "  </tbody>\n",
       "</table>\n",
       "</div>"
      ],
      "text/plain": [
       "   PassengerId  Survived  Pclass  Sex   Age  SibSp  Parch     Fare Embarked  \\\n",
       "0            1         0       3    1  22.0      1      0   7.2500        S   \n",
       "1            2         1       1    0  38.0      1      0  71.2833        C   \n",
       "2            3         1       3    0  26.0      0      0   7.9250        S   \n",
       "3            4         1       1    0  35.0      1      0  53.1000        S   \n",
       "4            5         0       3    1  35.0      0      0   8.0500        S   \n",
       "\n",
       "   NEW_CABIN_BOOL  NEW_NAME_LETTER_COUNT  NEW_NAME_WORD_COUNT  NEW_NAME_DR  \\\n",
       "0               0                   23.0                    4            0   \n",
       "1               1                   51.0                    7            0   \n",
       "2               0                   22.0                    3            0   \n",
       "3               1                   44.0                    7            0   \n",
       "4               0                   24.0                    4            0   \n",
       "\n",
       "  NEW_TITLE  NEW_FAMILY_SIZE  NEW_AGE_PCLASS  NEW_IS_ALONE NEW_AGE_CAT  \\\n",
       "0        Mr                2            66.0             0      mature   \n",
       "1       Mrs                2            38.0             0      mature   \n",
       "2      Miss                1            78.0             1      mature   \n",
       "3       Mrs                2            35.0             0      mature   \n",
       "4        Mr                1           105.0             1      mature   \n",
       "\n",
       "    NEW_SEX_CAT  \n",
       "0    maturemale  \n",
       "1  maturefemale  \n",
       "2  maturefemale  \n",
       "3  maturefemale  \n",
       "4    maturemale  "
      ]
     },
     "execution_count": 32,
     "metadata": {},
     "output_type": "execute_result"
    }
   ],
   "source": [
    "df.head()\n"
   ]
  },
  {
   "cell_type": "code",
   "execution_count": 33,
   "id": "06320fa7",
   "metadata": {
    "execution": {
     "iopub.execute_input": "2024-03-22T17:42:49.487907Z",
     "iopub.status.busy": "2024-03-22T17:42:49.486868Z",
     "iopub.status.idle": "2024-03-22T17:42:49.495432Z",
     "shell.execute_reply": "2024-03-22T17:42:49.494257Z"
    },
    "papermill": {
     "duration": 0.032388,
     "end_time": "2024-03-22T17:42:49.498341",
     "exception": false,
     "start_time": "2024-03-22T17:42:49.465953",
     "status": "completed"
    },
    "tags": []
   },
   "outputs": [],
   "source": [
    "def one_hot_encoding(dataframe, drop_first=True):\n",
    "  label_encoder_dataframe(dataframe)\n",
    "  cat_cols = [col for col in dataframe.columns if 20 >= dataframe[col].nunique() > 2]\n",
    "  dataframe = pd.get_dummies(dataframe, columns=cat_cols, drop_first=drop_first)\n",
    "  return dataframe"
   ]
  },
  {
   "cell_type": "code",
   "execution_count": 34,
   "id": "934c311f",
   "metadata": {
    "execution": {
     "iopub.execute_input": "2024-03-22T17:42:49.539866Z",
     "iopub.status.busy": "2024-03-22T17:42:49.539050Z",
     "iopub.status.idle": "2024-03-22T17:42:49.580697Z",
     "shell.execute_reply": "2024-03-22T17:42:49.579819Z"
    },
    "papermill": {
     "duration": 0.065939,
     "end_time": "2024-03-22T17:42:49.583749",
     "exception": false,
     "start_time": "2024-03-22T17:42:49.517810",
     "status": "completed"
    },
    "tags": []
   },
   "outputs": [
    {
     "data": {
      "text/html": [
       "<div>\n",
       "<style scoped>\n",
       "    .dataframe tbody tr th:only-of-type {\n",
       "        vertical-align: middle;\n",
       "    }\n",
       "\n",
       "    .dataframe tbody tr th {\n",
       "        vertical-align: top;\n",
       "    }\n",
       "\n",
       "    .dataframe thead th {\n",
       "        text-align: right;\n",
       "    }\n",
       "</style>\n",
       "<table border=\"1\" class=\"dataframe\">\n",
       "  <thead>\n",
       "    <tr style=\"text-align: right;\">\n",
       "      <th></th>\n",
       "      <th>PassengerId</th>\n",
       "      <th>Survived</th>\n",
       "      <th>Sex</th>\n",
       "      <th>Age</th>\n",
       "      <th>Fare</th>\n",
       "      <th>NEW_CABIN_BOOL</th>\n",
       "      <th>NEW_NAME_LETTER_COUNT</th>\n",
       "      <th>NEW_NAME_DR</th>\n",
       "      <th>NEW_AGE_PCLASS</th>\n",
       "      <th>NEW_IS_ALONE</th>\n",
       "      <th>...</th>\n",
       "      <th>NEW_FAMILY_SIZE_7</th>\n",
       "      <th>NEW_FAMILY_SIZE_8</th>\n",
       "      <th>NEW_FAMILY_SIZE_11</th>\n",
       "      <th>NEW_AGE_CAT_senior</th>\n",
       "      <th>NEW_AGE_CAT_young</th>\n",
       "      <th>NEW_SEX_CAT_maturemale</th>\n",
       "      <th>NEW_SEX_CAT_seniorfemale</th>\n",
       "      <th>NEW_SEX_CAT_seniormale</th>\n",
       "      <th>NEW_SEX_CAT_youngfemale</th>\n",
       "      <th>NEW_SEX_CAT_youngmale</th>\n",
       "    </tr>\n",
       "  </thead>\n",
       "  <tbody>\n",
       "    <tr>\n",
       "      <th>0</th>\n",
       "      <td>1</td>\n",
       "      <td>0</td>\n",
       "      <td>1</td>\n",
       "      <td>22.0</td>\n",
       "      <td>7.2500</td>\n",
       "      <td>0</td>\n",
       "      <td>23.0</td>\n",
       "      <td>0</td>\n",
       "      <td>66.0</td>\n",
       "      <td>0</td>\n",
       "      <td>...</td>\n",
       "      <td>False</td>\n",
       "      <td>False</td>\n",
       "      <td>False</td>\n",
       "      <td>False</td>\n",
       "      <td>False</td>\n",
       "      <td>True</td>\n",
       "      <td>False</td>\n",
       "      <td>False</td>\n",
       "      <td>False</td>\n",
       "      <td>False</td>\n",
       "    </tr>\n",
       "    <tr>\n",
       "      <th>1</th>\n",
       "      <td>2</td>\n",
       "      <td>1</td>\n",
       "      <td>0</td>\n",
       "      <td>38.0</td>\n",
       "      <td>71.2833</td>\n",
       "      <td>1</td>\n",
       "      <td>51.0</td>\n",
       "      <td>0</td>\n",
       "      <td>38.0</td>\n",
       "      <td>0</td>\n",
       "      <td>...</td>\n",
       "      <td>False</td>\n",
       "      <td>False</td>\n",
       "      <td>False</td>\n",
       "      <td>False</td>\n",
       "      <td>False</td>\n",
       "      <td>False</td>\n",
       "      <td>False</td>\n",
       "      <td>False</td>\n",
       "      <td>False</td>\n",
       "      <td>False</td>\n",
       "    </tr>\n",
       "    <tr>\n",
       "      <th>2</th>\n",
       "      <td>3</td>\n",
       "      <td>1</td>\n",
       "      <td>0</td>\n",
       "      <td>26.0</td>\n",
       "      <td>7.9250</td>\n",
       "      <td>0</td>\n",
       "      <td>22.0</td>\n",
       "      <td>0</td>\n",
       "      <td>78.0</td>\n",
       "      <td>1</td>\n",
       "      <td>...</td>\n",
       "      <td>False</td>\n",
       "      <td>False</td>\n",
       "      <td>False</td>\n",
       "      <td>False</td>\n",
       "      <td>False</td>\n",
       "      <td>False</td>\n",
       "      <td>False</td>\n",
       "      <td>False</td>\n",
       "      <td>False</td>\n",
       "      <td>False</td>\n",
       "    </tr>\n",
       "    <tr>\n",
       "      <th>3</th>\n",
       "      <td>4</td>\n",
       "      <td>1</td>\n",
       "      <td>0</td>\n",
       "      <td>35.0</td>\n",
       "      <td>53.1000</td>\n",
       "      <td>1</td>\n",
       "      <td>44.0</td>\n",
       "      <td>0</td>\n",
       "      <td>35.0</td>\n",
       "      <td>0</td>\n",
       "      <td>...</td>\n",
       "      <td>False</td>\n",
       "      <td>False</td>\n",
       "      <td>False</td>\n",
       "      <td>False</td>\n",
       "      <td>False</td>\n",
       "      <td>False</td>\n",
       "      <td>False</td>\n",
       "      <td>False</td>\n",
       "      <td>False</td>\n",
       "      <td>False</td>\n",
       "    </tr>\n",
       "    <tr>\n",
       "      <th>4</th>\n",
       "      <td>5</td>\n",
       "      <td>0</td>\n",
       "      <td>1</td>\n",
       "      <td>35.0</td>\n",
       "      <td>8.0500</td>\n",
       "      <td>0</td>\n",
       "      <td>24.0</td>\n",
       "      <td>0</td>\n",
       "      <td>105.0</td>\n",
       "      <td>1</td>\n",
       "      <td>...</td>\n",
       "      <td>False</td>\n",
       "      <td>False</td>\n",
       "      <td>False</td>\n",
       "      <td>False</td>\n",
       "      <td>False</td>\n",
       "      <td>True</td>\n",
       "      <td>False</td>\n",
       "      <td>False</td>\n",
       "      <td>False</td>\n",
       "      <td>False</td>\n",
       "    </tr>\n",
       "  </tbody>\n",
       "</table>\n",
       "<p>5 rows × 64 columns</p>\n",
       "</div>"
      ],
      "text/plain": [
       "   PassengerId  Survived  Sex   Age     Fare  NEW_CABIN_BOOL  \\\n",
       "0            1         0    1  22.0   7.2500               0   \n",
       "1            2         1    0  38.0  71.2833               1   \n",
       "2            3         1    0  26.0   7.9250               0   \n",
       "3            4         1    0  35.0  53.1000               1   \n",
       "4            5         0    1  35.0   8.0500               0   \n",
       "\n",
       "   NEW_NAME_LETTER_COUNT  NEW_NAME_DR  NEW_AGE_PCLASS  NEW_IS_ALONE  ...  \\\n",
       "0                   23.0            0            66.0             0  ...   \n",
       "1                   51.0            0            38.0             0  ...   \n",
       "2                   22.0            0            78.0             1  ...   \n",
       "3                   44.0            0            35.0             0  ...   \n",
       "4                   24.0            0           105.0             1  ...   \n",
       "\n",
       "   NEW_FAMILY_SIZE_7  NEW_FAMILY_SIZE_8  NEW_FAMILY_SIZE_11  \\\n",
       "0              False              False               False   \n",
       "1              False              False               False   \n",
       "2              False              False               False   \n",
       "3              False              False               False   \n",
       "4              False              False               False   \n",
       "\n",
       "   NEW_AGE_CAT_senior  NEW_AGE_CAT_young  NEW_SEX_CAT_maturemale  \\\n",
       "0               False              False                    True   \n",
       "1               False              False                   False   \n",
       "2               False              False                   False   \n",
       "3               False              False                   False   \n",
       "4               False              False                    True   \n",
       "\n",
       "   NEW_SEX_CAT_seniorfemale  NEW_SEX_CAT_seniormale  NEW_SEX_CAT_youngfemale  \\\n",
       "0                     False                   False                    False   \n",
       "1                     False                   False                    False   \n",
       "2                     False                   False                    False   \n",
       "3                     False                   False                    False   \n",
       "4                     False                   False                    False   \n",
       "\n",
       "   NEW_SEX_CAT_youngmale  \n",
       "0                  False  \n",
       "1                  False  \n",
       "2                  False  \n",
       "3                  False  \n",
       "4                  False  \n",
       "\n",
       "[5 rows x 64 columns]"
      ]
     },
     "execution_count": 34,
     "metadata": {},
     "output_type": "execute_result"
    }
   ],
   "source": [
    "df = one_hot_encoding(df)\n",
    "df.head()"
   ]
  },
  {
   "cell_type": "code",
   "execution_count": 35,
   "id": "4eed7eef",
   "metadata": {
    "execution": {
     "iopub.execute_input": "2024-03-22T17:42:49.630317Z",
     "iopub.status.busy": "2024-03-22T17:42:49.629849Z",
     "iopub.status.idle": "2024-03-22T17:42:49.636048Z",
     "shell.execute_reply": "2024-03-22T17:42:49.634752Z"
    },
    "papermill": {
     "duration": 0.030739,
     "end_time": "2024-03-22T17:42:49.638632",
     "exception": false,
     "start_time": "2024-03-22T17:42:49.607893",
     "status": "completed"
    },
    "tags": []
   },
   "outputs": [],
   "source": [
    "def robust_scaler(dataframe, num_col):\n",
    "  temp_df = dataframe.copy()\n",
    "  rs = RobustScaler()\n",
    "  temp_df[num_col] = rs.fit_transform(temp_df[[num_col]])\n",
    "  return temp_df"
   ]
  },
  {
   "cell_type": "code",
   "execution_count": 36,
   "id": "2d71eda1",
   "metadata": {
    "execution": {
     "iopub.execute_input": "2024-03-22T17:42:49.679357Z",
     "iopub.status.busy": "2024-03-22T17:42:49.678962Z",
     "iopub.status.idle": "2024-03-22T17:42:49.685062Z",
     "shell.execute_reply": "2024-03-22T17:42:49.683918Z"
    },
    "papermill": {
     "duration": 0.029186,
     "end_time": "2024-03-22T17:42:49.687502",
     "exception": false,
     "start_time": "2024-03-22T17:42:49.658316",
     "status": "completed"
    },
    "tags": []
   },
   "outputs": [],
   "source": [
    "def robust_scaler_dataframe(dataframe):\n",
    "  temp_df = dataframe.copy()\n",
    "  rs = RobustScaler()\n",
    "  cat_cols, num_cols, cat_but_car, num_but_cat = grab_col_names(dataframe)\n",
    "  for col in num_cols:\n",
    "    temp_df[col] = rs.fit_transform(temp_df[[col]])\n",
    "  return temp_df"
   ]
  },
  {
   "cell_type": "code",
   "execution_count": 37,
   "id": "6e142b3b",
   "metadata": {
    "execution": {
     "iopub.execute_input": "2024-03-22T17:42:49.728200Z",
     "iopub.status.busy": "2024-03-22T17:42:49.727790Z",
     "iopub.status.idle": "2024-03-22T17:42:49.767908Z",
     "shell.execute_reply": "2024-03-22T17:42:49.766476Z"
    },
    "papermill": {
     "duration": 0.064537,
     "end_time": "2024-03-22T17:42:49.770943",
     "exception": false,
     "start_time": "2024-03-22T17:42:49.706406",
     "status": "completed"
    },
    "tags": []
   },
   "outputs": [],
   "source": [
    "df = robust_scaler_dataframe(df)\n"
   ]
  },
  {
   "cell_type": "code",
   "execution_count": 38,
   "id": "61112fe1",
   "metadata": {
    "execution": {
     "iopub.execute_input": "2024-03-22T17:42:49.812393Z",
     "iopub.status.busy": "2024-03-22T17:42:49.811985Z",
     "iopub.status.idle": "2024-03-22T17:42:49.819014Z",
     "shell.execute_reply": "2024-03-22T17:42:49.817739Z"
    },
    "papermill": {
     "duration": 0.031355,
     "end_time": "2024-03-22T17:42:49.821850",
     "exception": false,
     "start_time": "2024-03-22T17:42:49.790495",
     "status": "completed"
    },
    "tags": []
   },
   "outputs": [],
   "source": [
    "df.drop(\"PassengerId\", axis=1, inplace=True)\n"
   ]
  },
  {
   "cell_type": "code",
   "execution_count": 39,
   "id": "2098a989",
   "metadata": {
    "execution": {
     "iopub.execute_input": "2024-03-22T17:42:49.867502Z",
     "iopub.status.busy": "2024-03-22T17:42:49.866340Z",
     "iopub.status.idle": "2024-03-22T17:42:49.895381Z",
     "shell.execute_reply": "2024-03-22T17:42:49.894249Z"
    },
    "papermill": {
     "duration": 0.056856,
     "end_time": "2024-03-22T17:42:49.897909",
     "exception": false,
     "start_time": "2024-03-22T17:42:49.841053",
     "status": "completed"
    },
    "tags": []
   },
   "outputs": [
    {
     "data": {
      "text/html": [
       "<div>\n",
       "<style scoped>\n",
       "    .dataframe tbody tr th:only-of-type {\n",
       "        vertical-align: middle;\n",
       "    }\n",
       "\n",
       "    .dataframe tbody tr th {\n",
       "        vertical-align: top;\n",
       "    }\n",
       "\n",
       "    .dataframe thead th {\n",
       "        text-align: right;\n",
       "    }\n",
       "</style>\n",
       "<table border=\"1\" class=\"dataframe\">\n",
       "  <thead>\n",
       "    <tr style=\"text-align: right;\">\n",
       "      <th></th>\n",
       "      <th>Survived</th>\n",
       "      <th>Sex</th>\n",
       "      <th>Age</th>\n",
       "      <th>Fare</th>\n",
       "      <th>NEW_CABIN_BOOL</th>\n",
       "      <th>NEW_NAME_LETTER_COUNT</th>\n",
       "      <th>NEW_NAME_DR</th>\n",
       "      <th>NEW_AGE_PCLASS</th>\n",
       "      <th>NEW_IS_ALONE</th>\n",
       "      <th>Pclass_2</th>\n",
       "      <th>...</th>\n",
       "      <th>NEW_FAMILY_SIZE_7</th>\n",
       "      <th>NEW_FAMILY_SIZE_8</th>\n",
       "      <th>NEW_FAMILY_SIZE_11</th>\n",
       "      <th>NEW_AGE_CAT_senior</th>\n",
       "      <th>NEW_AGE_CAT_young</th>\n",
       "      <th>NEW_SEX_CAT_maturemale</th>\n",
       "      <th>NEW_SEX_CAT_seniorfemale</th>\n",
       "      <th>NEW_SEX_CAT_seniormale</th>\n",
       "      <th>NEW_SEX_CAT_youngfemale</th>\n",
       "      <th>NEW_SEX_CAT_youngmale</th>\n",
       "    </tr>\n",
       "  </thead>\n",
       "  <tbody>\n",
       "    <tr>\n",
       "      <th>0</th>\n",
       "      <td>0</td>\n",
       "      <td>1</td>\n",
       "      <td>-0.571429</td>\n",
       "      <td>-0.312011</td>\n",
       "      <td>0</td>\n",
       "      <td>-0.2</td>\n",
       "      <td>0</td>\n",
       "      <td>0.08</td>\n",
       "      <td>0</td>\n",
       "      <td>False</td>\n",
       "      <td>...</td>\n",
       "      <td>False</td>\n",
       "      <td>False</td>\n",
       "      <td>False</td>\n",
       "      <td>False</td>\n",
       "      <td>False</td>\n",
       "      <td>True</td>\n",
       "      <td>False</td>\n",
       "      <td>False</td>\n",
       "      <td>False</td>\n",
       "      <td>False</td>\n",
       "    </tr>\n",
       "    <tr>\n",
       "      <th>1</th>\n",
       "      <td>1</td>\n",
       "      <td>0</td>\n",
       "      <td>0.571429</td>\n",
       "      <td>2.461242</td>\n",
       "      <td>1</td>\n",
       "      <td>2.6</td>\n",
       "      <td>0</td>\n",
       "      <td>-0.48</td>\n",
       "      <td>0</td>\n",
       "      <td>False</td>\n",
       "      <td>...</td>\n",
       "      <td>False</td>\n",
       "      <td>False</td>\n",
       "      <td>False</td>\n",
       "      <td>False</td>\n",
       "      <td>False</td>\n",
       "      <td>False</td>\n",
       "      <td>False</td>\n",
       "      <td>False</td>\n",
       "      <td>False</td>\n",
       "      <td>False</td>\n",
       "    </tr>\n",
       "    <tr>\n",
       "      <th>2</th>\n",
       "      <td>1</td>\n",
       "      <td>0</td>\n",
       "      <td>-0.285714</td>\n",
       "      <td>-0.282777</td>\n",
       "      <td>0</td>\n",
       "      <td>-0.3</td>\n",
       "      <td>0</td>\n",
       "      <td>0.32</td>\n",
       "      <td>1</td>\n",
       "      <td>False</td>\n",
       "      <td>...</td>\n",
       "      <td>False</td>\n",
       "      <td>False</td>\n",
       "      <td>False</td>\n",
       "      <td>False</td>\n",
       "      <td>False</td>\n",
       "      <td>False</td>\n",
       "      <td>False</td>\n",
       "      <td>False</td>\n",
       "      <td>False</td>\n",
       "      <td>False</td>\n",
       "    </tr>\n",
       "    <tr>\n",
       "      <th>3</th>\n",
       "      <td>1</td>\n",
       "      <td>0</td>\n",
       "      <td>0.357143</td>\n",
       "      <td>1.673732</td>\n",
       "      <td>1</td>\n",
       "      <td>1.9</td>\n",
       "      <td>0</td>\n",
       "      <td>-0.54</td>\n",
       "      <td>0</td>\n",
       "      <td>False</td>\n",
       "      <td>...</td>\n",
       "      <td>False</td>\n",
       "      <td>False</td>\n",
       "      <td>False</td>\n",
       "      <td>False</td>\n",
       "      <td>False</td>\n",
       "      <td>False</td>\n",
       "      <td>False</td>\n",
       "      <td>False</td>\n",
       "      <td>False</td>\n",
       "      <td>False</td>\n",
       "    </tr>\n",
       "    <tr>\n",
       "      <th>4</th>\n",
       "      <td>0</td>\n",
       "      <td>1</td>\n",
       "      <td>0.357143</td>\n",
       "      <td>-0.277363</td>\n",
       "      <td>0</td>\n",
       "      <td>-0.1</td>\n",
       "      <td>0</td>\n",
       "      <td>0.86</td>\n",
       "      <td>1</td>\n",
       "      <td>False</td>\n",
       "      <td>...</td>\n",
       "      <td>False</td>\n",
       "      <td>False</td>\n",
       "      <td>False</td>\n",
       "      <td>False</td>\n",
       "      <td>False</td>\n",
       "      <td>True</td>\n",
       "      <td>False</td>\n",
       "      <td>False</td>\n",
       "      <td>False</td>\n",
       "      <td>False</td>\n",
       "    </tr>\n",
       "  </tbody>\n",
       "</table>\n",
       "<p>5 rows × 63 columns</p>\n",
       "</div>"
      ],
      "text/plain": [
       "   Survived  Sex       Age      Fare  NEW_CABIN_BOOL  NEW_NAME_LETTER_COUNT  \\\n",
       "0         0    1 -0.571429 -0.312011               0                   -0.2   \n",
       "1         1    0  0.571429  2.461242               1                    2.6   \n",
       "2         1    0 -0.285714 -0.282777               0                   -0.3   \n",
       "3         1    0  0.357143  1.673732               1                    1.9   \n",
       "4         0    1  0.357143 -0.277363               0                   -0.1   \n",
       "\n",
       "   NEW_NAME_DR  NEW_AGE_PCLASS  NEW_IS_ALONE  Pclass_2  ...  \\\n",
       "0            0            0.08             0     False  ...   \n",
       "1            0           -0.48             0     False  ...   \n",
       "2            0            0.32             1     False  ...   \n",
       "3            0           -0.54             0     False  ...   \n",
       "4            0            0.86             1     False  ...   \n",
       "\n",
       "   NEW_FAMILY_SIZE_7  NEW_FAMILY_SIZE_8  NEW_FAMILY_SIZE_11  \\\n",
       "0              False              False               False   \n",
       "1              False              False               False   \n",
       "2              False              False               False   \n",
       "3              False              False               False   \n",
       "4              False              False               False   \n",
       "\n",
       "   NEW_AGE_CAT_senior  NEW_AGE_CAT_young  NEW_SEX_CAT_maturemale  \\\n",
       "0               False              False                    True   \n",
       "1               False              False                   False   \n",
       "2               False              False                   False   \n",
       "3               False              False                   False   \n",
       "4               False              False                    True   \n",
       "\n",
       "   NEW_SEX_CAT_seniorfemale  NEW_SEX_CAT_seniormale  NEW_SEX_CAT_youngfemale  \\\n",
       "0                     False                   False                    False   \n",
       "1                     False                   False                    False   \n",
       "2                     False                   False                    False   \n",
       "3                     False                   False                    False   \n",
       "4                     False                   False                    False   \n",
       "\n",
       "   NEW_SEX_CAT_youngmale  \n",
       "0                  False  \n",
       "1                  False  \n",
       "2                  False  \n",
       "3                  False  \n",
       "4                  False  \n",
       "\n",
       "[5 rows x 63 columns]"
      ]
     },
     "execution_count": 39,
     "metadata": {},
     "output_type": "execute_result"
    }
   ],
   "source": [
    "df.head()"
   ]
  },
  {
   "cell_type": "code",
   "execution_count": null,
   "id": "176f7b06",
   "metadata": {
    "papermill": {
     "duration": 0.020355,
     "end_time": "2024-03-22T17:42:49.938104",
     "exception": false,
     "start_time": "2024-03-22T17:42:49.917749",
     "status": "completed"
    },
    "tags": []
   },
   "outputs": [],
   "source": []
  },
  {
   "cell_type": "code",
   "execution_count": 40,
   "id": "1071b155",
   "metadata": {
    "execution": {
     "iopub.execute_input": "2024-03-22T17:42:49.980772Z",
     "iopub.status.busy": "2024-03-22T17:42:49.979284Z",
     "iopub.status.idle": "2024-03-22T17:42:49.990667Z",
     "shell.execute_reply": "2024-03-22T17:42:49.989751Z"
    },
    "papermill": {
     "duration": 0.03543,
     "end_time": "2024-03-22T17:42:49.993253",
     "exception": false,
     "start_time": "2024-03-22T17:42:49.957823",
     "status": "completed"
    },
    "tags": []
   },
   "outputs": [],
   "source": [
    "def RF_Model_FI(dataframe, target, test_size=0.30, save=False):\n",
    "  y = dataframe[target]\n",
    "  X = dataframe.drop(target, axis=1)\n",
    "  X_train, X_test, y_train, y_test = train_test_split(X, y, test_size=test_size, random_state=17)\n",
    "  rf_model = RandomForestClassifier(random_state=17).fit(X_train, y_train)\n",
    "  y_pred = rf_model.predict(X_test)\n",
    "\n",
    "  print(15*\"#\", \"Model Metrics Using Feature Engineering\", 15*\"#\")\n",
    "  print(f\"Acuuracy: {round(accuracy_score(y_pred, y_test), 2)}\")\n",
    "  print(f\"Recall: {round(recall_score(y_pred, y_test), 2)}\")\n",
    "  print(f\"Precision: {round(precision_score(y_pred, y_test), 2)}\")\n",
    "  print(f\"ROC_AUC: {round(roc_auc_score(y_pred, y_test), 2)}\")\n",
    "  print(f\"F1: {round(f1_score(y_pred, y_test), 2)}\")\n",
    "\n",
    "  feature_imp = pd.DataFrame({'Value': rf_model.feature_importances_, 'Feature': X.columns})\n",
    "  plt.figure(figsize=(14,14))\n",
    "  sns.set(font_scale=1)\n",
    "  sns.barplot(x=\"Value\", y=\"Feature\", data=feature_imp.sort_values(by=\"Value\", ascending=False))\n",
    "  plt.title(\"Features\")\n",
    "  plt.tight_layout()\n",
    "  if save:\n",
    "    plt.savefig(\"importance_features.jpg\")\n"
   ]
  },
  {
   "cell_type": "code",
   "execution_count": 41,
   "id": "a430038d",
   "metadata": {
    "execution": {
     "iopub.execute_input": "2024-03-22T17:42:50.035136Z",
     "iopub.status.busy": "2024-03-22T17:42:50.034339Z",
     "iopub.status.idle": "2024-03-22T17:42:51.970120Z",
     "shell.execute_reply": "2024-03-22T17:42:51.969026Z"
    },
    "papermill": {
     "duration": 1.961447,
     "end_time": "2024-03-22T17:42:51.974360",
     "exception": false,
     "start_time": "2024-03-22T17:42:50.012913",
     "status": "completed"
    },
    "tags": []
   },
   "outputs": [
    {
     "name": "stdout",
     "output_type": "stream",
     "text": [
      "############### Model Metrics Using Feature Engineering ###############\n",
      "Acuuracy: 0.8\n",
      "Recall: 0.79\n",
      "Precision: 0.69\n",
      "ROC_AUC: 0.8\n",
      "F1: 0.74\n"
     ]
    },
    {
     "data": {
      "image/png": "[encoded data removed]",
      "text/plain": [
       "<Figure size 1400x1400 with 1 Axes>"
      ]
     },
     "metadata": {},
     "output_type": "display_data"
    }
   ],
   "source": [
    "RF_Model_FI(df, \"Survived\")\n"
   ]
  },
  {
   "cell_type": "code",
   "execution_count": null,
   "id": "1b4faf3c",
   "metadata": {
    "papermill": {
     "duration": 0.022186,
     "end_time": "2024-03-22T17:42:52.019808",
     "exception": false,
     "start_time": "2024-03-22T17:42:51.997622",
     "status": "completed"
    },
    "tags": []
   },
   "outputs": [],
   "source": []
  },
  {
   "cell_type": "markdown",
   "id": "1e34ffcd",
   "metadata": {
    "papermill": {
     "duration": 0.022321,
     "end_time": "2024-03-22T17:42:52.064950",
     "exception": false,
     "start_time": "2024-03-22T17:42:52.042629",
     "status": "completed"
    },
    "tags": []
   },
   "source": [
    "# For testing we apply regression models "
   ]
  },
  {
   "cell_type": "code",
   "execution_count": 42,
   "id": "3c329c5c",
   "metadata": {
    "execution": {
     "iopub.execute_input": "2024-03-22T17:42:52.113360Z",
     "iopub.status.busy": "2024-03-22T17:42:52.112878Z",
     "iopub.status.idle": "2024-03-22T17:42:54.064234Z",
     "shell.execute_reply": "2024-03-22T17:42:54.062966Z"
    },
    "papermill": {
     "duration": 1.980956,
     "end_time": "2024-03-22T17:42:54.068357",
     "exception": false,
     "start_time": "2024-03-22T17:42:52.087401",
     "status": "completed"
    },
    "tags": []
   },
   "outputs": [
    {
     "name": "stdout",
     "output_type": "stream",
     "text": [
      "############### Model Metrics Using Feature Engineering ###############\n",
      "Mean Squared Error: 0.16\n",
      "Mean Absolute Error: 0.27\n",
      "R2 Score: 0.32\n"
     ]
    },
    {
     "data": {
      "image/png": "[encoded data removed]",
      "text/plain": [
       "<Figure size 1400x1400 with 1 Axes>"
      ]
     },
     "metadata": {},
     "output_type": "display_data"
    }
   ],
   "source": [
    "from sklearn.model_selection import train_test_split\n",
    "from sklearn.ensemble import RandomForestRegressor\n",
    "from sklearn.metrics import mean_squared_error, mean_absolute_error, r2_score\n",
    "import matplotlib.pyplot as plt\n",
    "import seaborn as sns\n",
    "\n",
    "def RF_Model_FI_Regression(dataframe, target, test_size=0.30, save=False):\n",
    "    y = dataframe[target]\n",
    "    X = dataframe.drop(target, axis=1)\n",
    "    X_train, X_test, y_train, y_test = train_test_split(X, y, test_size=test_size, random_state=17)\n",
    "    \n",
    "    rf_model = RandomForestRegressor(random_state=17)\n",
    "    rf_model.fit(X_train, y_train)\n",
    "    y_pred = rf_model.predict(X_test)\n",
    "\n",
    "    print(15*\"#\", \"Model Metrics Using Feature Engineering\", 15*\"#\")\n",
    "    print(f\"Mean Squared Error: {round(mean_squared_error(y_test, y_pred), 2)}\")\n",
    "    print(f\"Mean Absolute Error: {round(mean_absolute_error(y_test, y_pred), 2)}\")\n",
    "    print(f\"R2 Score: {round(r2_score(y_test, y_pred), 2)}\")\n",
    "\n",
    "    feature_imp = pd.DataFrame({'Value': rf_model.feature_importances_, 'Feature': X.columns})\n",
    "    plt.figure(figsize=(14,14))\n",
    "    sns.set(font_scale=1)\n",
    "    sns.barplot(x=\"Value\", y=\"Feature\", data=feature_imp.sort_values(by=\"Value\", ascending=False))\n",
    "    plt.title(\"Features\")\n",
    "    plt.tight_layout()\n",
    "    if save:\n",
    "        plt.savefig(\"importance_features_regression.jpg\")\n",
    "\n",
    "# Example usage for regression\n",
    "# Example usage for regression\n",
    "RF_Model_FI_Regression(df, \"Survived\")\n",
    "\n"
   ]
  },
  {
   "cell_type": "code",
   "execution_count": null,
   "id": "7dfb7f0a",
   "metadata": {
    "papermill": {
     "duration": 0.027524,
     "end_time": "2024-03-22T17:42:54.125214",
     "exception": false,
     "start_time": "2024-03-22T17:42:54.097690",
     "status": "completed"
    },
    "tags": []
   },
   "outputs": [],
   "source": []
  }
 ],
 "metadata": {
  "kaggle": {
   "accelerator": "none",
   "dataSources": [
    {
     "databundleVersionId": 26502,
     "sourceId": 3136,
     "sourceType": "competition"
    }
   ],
   "dockerImageVersionId": 30673,
   "isGpuEnabled": false,
   "isInternetEnabled": true,
   "language": "python",
   "sourceType": "notebook"
  },
  "kernelspec": {
   "display_name": "Python 3",
   "language": "python",
   "name": "python3"
  },
  "language_info": {
   "codemirror_mode": {
    "name": "ipython",
    "version": 3
   },
   "file_extension": ".py",
   "mimetype": "text/x-python",
   "name": "python",
   "nbconvert_exporter": "python",
   "pygments_lexer": "ipython3",
   "version": "3.10.13"
  },
  "papermill": {
   "default_parameters": {},
   "duration": 14.705639,
   "end_time": "2024-03-22T17:42:54.874705",
   "environment_variables": {},
   "exception": null,
   "input_path": "__notebook__.ipynb",
   "output_path": "__notebook__.ipynb",
   "parameters": {},
   "start_time": "2024-03-22T17:42:40.169066",
   "version": "2.5.0"
  }
 },
 "nbformat": 4,
 "nbformat_minor": 5
}
