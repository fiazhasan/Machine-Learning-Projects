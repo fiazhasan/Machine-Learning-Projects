{
  "cells": [
    {
      "cell_type": "markdown",
      "metadata": {
        "id": "VJNziwgWP51i"
      },
      "source": [
        "<a id='top'></a>\n",
        "<p style=\"background-color:#6A5ACD;font-family:Tahoma, Geneva, sans-serif;color:#FFFFFF;font-size:150%;text-align:center;border-radius:10px;padding:10px;\"> 🚗 Fastag Fraud Detection System 🛣️ </p>\n",
        "\n",
        "### `Problem Statement`\n",
        "\n",
        "<p style=\"font-family: 'Segoe UI', Tahoma, Geneva, sans-serif; font-size: 16px;\">\n",
        "This internship project focuses on leveraging machine learning classification techniques to develop an\n",
        "effective fraud detection system for Fastag transactions. The dataset comprises key features such as\n",
        "transaction details, vehicle information, geographical location, and transaction amounts. The goal is to\n",
        "create a robust model that can accurately identify instances of fraudulent activity, ensuring the integrity\n",
        "and security of Fastag transactions.\n",
        "</p>\n",
        "\n",
        "### `Dataset Description`\n",
        "\n",
        "<h4 style=\"color:orange\">Columns in Dataset:</h4>\n",
        "<ol style=\"font-family: 'Segoe UI', Tahoma, Geneva, sans-serif; font-size: 16px;\">\n",
        "    <li><strong>Transaction_ID:</strong> Unique identifier for each transaction.</li>\n",
        "    <li><strong>Timestamp:</strong> Date and time of the transaction.</li>\n",
        "    <li><strong>Vehicle_Type:</strong> Type of vehicle involved in the transaction.</li>\n",
        "    <li><strong>FastagID:</strong> Unique identifier for Fastag.</li>\n",
        "    <li><strong>TollBoothID:</strong> Identifier for the toll booth.</li>\n",
        "    <li><strong>Lane_Type:</strong> Type of lane used for the transaction.</li>\n",
        "    <li><strong>Vehicle_Dimensions:</strong> Dimensions of the vehicle.</li>\n",
        "    <li><strong>Transaction_Amount:</strong> Amount associated with the transaction.</li>\n",
        "    <li><strong>Amount_paid:</strong> Amount paid for the transaction.</li>\n",
        "    <li><strong>Geographical_Location:</strong> Location details of the transaction.</li>\n",
        "    <li><strong>Vehicle_Speed:</strong> Speed of the vehicle during the transaction.</li>\n",
        "    <li><strong>Vehicle_Plate_Number:</strong> License plate number of the vehicle.</li>\n",
        "    <li><strong>Fraud_indicator:</strong> Binary indicator of fraudulent activity (target variable).</li>\n",
        "</ol>\n",
        "\n",
        "<!-- .......................................................................................................................... -->\n",
        "\n",
        "<p style=\"background-color:#20B2AA;font-family:Arial, sans-serif;color:#FFFFFF;font-size:150%;text-align:center;border-radius:10px;padding:10px;border:2px solid #FFFFFF;\"> 🎯 Project Objectives 📝 </p>\n",
        "\n",
        "<ul style=\"font-size: 18px; font-family: 'Segoe UI';\">\n",
        "    <li><strong>Data Exploration:</strong> Explore the dataset to understand the distribution of features and the prevalence of fraud indicators.</li>\n",
        "    <li><strong>Feature Engineering:</strong> Identify and engineer relevant features that contribute to fraud detection accuracy.</li>\n",
        "    <li><strong>Model Development:</strong>\n",
        "        <ul>\n",
        "            <li>Build a machine learning classification model to predict and detect Fastag transaction fraud.</li>\n",
        "            <li>Evaluate and fine-tune model performance using appropriate metrics.</li>\n",
        "        </ul>\n",
        "    </li>\n",
        "    <li><strong>Real-time Fraud Detection:</strong> Explore the feasibility of implementing the model for real-time Fastag fraud detection.</li>\n",
        "    <li><strong>Explanatory Analysis:</strong> Provide insights into the factors contributing to fraudulent transactions.</li>\n",
        "</ul>\n",
        "\n",
        "<!-- >>>>>>>>>>>>>>>>>>>>>>>>>>>>>>>>>>>>>>>>>>>>>>>>>>>>>>>>>>>>>>>>>>>>>>>>>>>>>>>>>>>>>>>>>>>>>>>>>>>>>>>>>>>>>>>>>>>>>>>>>>>>>>>>>>>>>>>>>>>>>>>>>>>>>>>>>>>>>>>>>>>>>>>>>>>>>>>>>>>>>>>>>>>>>> -->\n",
        "\n",
        "<p style=\"background-color: #FF6347; font-family: Arial, sans-serif; color: #ffffff; font-size: 24px; text-align: center; padding: 10px; border-radius: 10px;\">🚧 Challenges 🚧</p>\n",
        "\n",
        "<ul style=\"font-size: 18px; font-family: 'Segoe UI';\">\n",
        "    <li>Imbalanced dataset issues due to the likely low occurrence of fraud.</li>\n",
        "    <li>Feature engineering to capture nuanced patterns indicative of fraud.</li>\n",
        "</ul>\n",
        "\n",
        "<!-- ................................................................................................................................................. -->\n",
        "\n",
        "<p style=\"background-color:#4682B4;font-family:Arial, sans-serif;color:#FFFFFF;font-size:150%;text-align:center;border-radius:10px;padding:10px;border:2px solid #FFFFFF;\">📊 Evaluation Criteria 📊</p>\n",
        "\n",
        "<ul style=\"font-size: 18px; font-family: 'Segoe UI';\">\n",
        "    <li>Model performance assessed using metrics such as precision, recall, F1 score, and accuracy.</li>\n",
        "</ul>\n",
        "\n",
        "<!-- ................................................................................................................................................. -->\n",
        "\n",
        "<p style=\"background-color:#32CD32;font-family:Arial, sans-serif;color:#FFFFFF;font-size:150%;text-align:center;border-radius:10px;padding:10px;border:2px solid #FFFFFF;\">📁 Deliverables 📁</p>\n",
        "\n",
        "<ul style=\"font-size: 18px; font-family: 'Segoe UI';\">\n",
        "    <li>Trained machine learning model for Fastag fraud detection.</li>\n",
        "    <li>Evaluation metrics and analysis report.</li>\n",
        "    <li>Documentation on relevant features and their impact on fraud detection.</li>\n",
        "</ul>\n",
        "\n",
        "<!-- ................................................................................................................................................. -->\n",
        "\n",
        "<p style=\"background-color:#FFD700;font-family:Arial, sans-serif;color:#FFFFFF;font-size:150%;text-align:center;border-radius:10px;padding:10px;border:2px solid #FFFFFF;\">🎉 Expected Outcome 🎉</p>\n",
        "\n",
        "<ul style=\"font-size: 18px; font-family: 'Segoe UI';\">\n",
        "    <li>An effective and scalable Fastag fraud detection system capable of minimizing financial losses and ensuring the security of digital toll transactions.</li>\n",
        "</ul>\n"
      ]
    },
    {
      "cell_type": "markdown",
      "metadata": {
        "id": "C-cUlN7zP51l"
      },
      "source": [
        "\n",
        "\n",
        "# <p style=\"background-color:#682F2F;font-family:newtimeroman;color:#FFF9ED;font-size:80%;text-align:center;border-radius:10px; border: 2px solid #FFA500; padding: 10px;\"><b>1|</b> 📚 IMPORTING LIBRARIES 📚</p>"
      ]
    },
    {
      "cell_type": "code",
      "execution_count": null,
      "metadata": {
        "_cell_guid": "b1076dfc-b9ad-4769-8c92-a6c4dae69d19",
        "_uuid": "8f2839f25d086af736a60e9eeb907d3b93b6e0e5",
        "execution": {
          "iopub.execute_input": "2024-06-26T10:50:22.662455Z",
          "iopub.status.busy": "2024-06-26T10:50:22.66199Z",
          "iopub.status.idle": "2024-06-26T10:50:22.669555Z",
          "shell.execute_reply": "2024-06-26T10:50:22.66809Z",
          "shell.execute_reply.started": "2024-06-26T10:50:22.662411Z"
        },
        "id": "gF3ZiljbP51m",
        "trusted": true
      },
      "outputs": [],
      "source": [
        "import numpy as np\n",
        "import pandas as pd\n",
        "import sklearn\n",
        "from sklearn.preprocessing import OrdinalEncoder\n",
        "from sklearn.preprocessing import OneHotEncoder\n",
        "from sklearn.model_selection import train_test_split\n",
        "from sklearn.linear_model import LogisticRegression\n",
        "from sklearn.tree import DecisionTreeClassifier\n",
        "from sklearn.ensemble import RandomForestClassifier\n",
        "from sklearn.svm import SVC\n",
        "from sklearn.metrics import classification_report,accuracy_score, confusion_matrix, precision_score, f1_score, recall_score"
      ]
    },
    {
      "cell_type": "markdown",
      "metadata": {
        "id": "c_S0dt3eP51m"
      },
      "source": [
        "\n",
        "\n",
        "# <p style=\"background-color: #20B2AA; font-family: Arial, sans-serif; color: #FFFFFF; font-size: 80%; text-align: center; border-radius: 10px; padding: 15px; border: 4px solid yellow; border-style: dashed;\"><b>2|</b> 🔄 LOADING DATASET 🤖 </p>\n",
        "\n",
        "\n"
      ]
    },
    {
      "cell_type": "code",
      "execution_count": null,
      "metadata": {
        "execution": {
          "iopub.execute_input": "2024-06-26T10:48:31.146076Z",
          "iopub.status.busy": "2024-06-26T10:48:31.14567Z",
          "iopub.status.idle": "2024-06-26T10:48:31.183532Z",
          "shell.execute_reply": "2024-06-26T10:48:31.182392Z",
          "shell.execute_reply.started": "2024-06-26T10:48:31.146046Z"
        },
        "id": "EQ1IdWI3P51n",
        "trusted": true
      },
      "outputs": [],
      "source": [
        "data = pd.read_csv(\"/kaggle/input/fastagfruddetection/FastagFraudDetection.csv\")"
      ]
    },
    {
      "cell_type": "markdown",
      "metadata": {
        "id": "NdT4FyGiP51o"
      },
      "source": [
        "# <div style=\"color: #FFA500; display: inline-block; border-radius: 15px; background-color: #FFEFD5; font-family: 'Arial', sans-serif; overflow: hidden; border: 5px solid #FFA500;width:60%\"><p style=\"padding: 15px; color: #FFA500; overflow: hidden; font-size: 70%; letter-spacing: 1px; margin: 0; width: 750%;\"><b> 2) Checks Data </b></p>\n",
        "</div>\n",
        "  <ul style=\"border: 2px solid #4CAF50; border-radius: 8px; margin-top: 10px; width:57%\">\n",
        "    <li>Check Head</li>\n",
        "    <li>Check Tail</li>\n",
        "    <li>Check data type</li>\n",
        "    <li>Check info</li>\n",
        "    <li>Check Describe</li>\n",
        "    <li>Check Columns</li>\n",
        "    <li>Check Size</li>\n",
        "    <li>Check Shape</li>\n",
        "  </ul>"
      ]
    },
    {
      "cell_type": "code",
      "execution_count": null,
      "metadata": {
        "execution": {
          "iopub.execute_input": "2024-06-26T10:48:31.300348Z",
          "iopub.status.busy": "2024-06-26T10:48:31.299968Z",
          "iopub.status.idle": "2024-06-26T10:48:31.31591Z",
          "shell.execute_reply": "2024-06-26T10:48:31.314433Z",
          "shell.execute_reply.started": "2024-06-26T10:48:31.300319Z"
        },
        "id": "dvtpvdJtP51p",
        "outputId": "f1761b1f-032c-4a1a-af04-70eca7545095",
        "trusted": true
      },
      "outputs": [
        {
          "data": {
            "text/html": [
              "<style type=\"text/css\">\n",
              "#T_3eb54 th {\n",
              "  color: black;\n",
              "  background-color: #FF00CC;\n",
              "}\n",
              "</style>\n",
              "<table id=\"T_3eb54\">\n",
              "  <thead>\n",
              "    <tr>\n",
              "      <th class=\"blank level0\" >&nbsp;</th>\n",
              "      <th id=\"T_3eb54_level0_col0\" class=\"col_heading level0 col0\" >Transaction_ID</th>\n",
              "      <th id=\"T_3eb54_level0_col1\" class=\"col_heading level0 col1\" >Timestamp</th>\n",
              "      <th id=\"T_3eb54_level0_col2\" class=\"col_heading level0 col2\" >Vehicle_Type</th>\n",
              "      <th id=\"T_3eb54_level0_col3\" class=\"col_heading level0 col3\" >FastagID</th>\n",
              "      <th id=\"T_3eb54_level0_col4\" class=\"col_heading level0 col4\" >TollBoothID</th>\n",
              "      <th id=\"T_3eb54_level0_col5\" class=\"col_heading level0 col5\" >Lane_Type</th>\n",
              "      <th id=\"T_3eb54_level0_col6\" class=\"col_heading level0 col6\" >Vehicle_Dimensions</th>\n",
              "      <th id=\"T_3eb54_level0_col7\" class=\"col_heading level0 col7\" >Transaction_Amount</th>\n",
              "      <th id=\"T_3eb54_level0_col8\" class=\"col_heading level0 col8\" >Amount_paid</th>\n",
              "      <th id=\"T_3eb54_level0_col9\" class=\"col_heading level0 col9\" >Geographical_Location</th>\n",
              "      <th id=\"T_3eb54_level0_col10\" class=\"col_heading level0 col10\" >Vehicle_Speed</th>\n",
              "      <th id=\"T_3eb54_level0_col11\" class=\"col_heading level0 col11\" >Vehicle_Plate_Number</th>\n",
              "      <th id=\"T_3eb54_level0_col12\" class=\"col_heading level0 col12\" >Fraud_indicator</th>\n",
              "    </tr>\n",
              "  </thead>\n",
              "  <tbody>\n",
              "    <tr>\n",
              "      <th id=\"T_3eb54_level0_row0\" class=\"row_heading level0 row0\" >0</th>\n",
              "      <td id=\"T_3eb54_row0_col0\" class=\"data row0 col0\" >1</td>\n",
              "      <td id=\"T_3eb54_row0_col1\" class=\"data row0 col1\" >1/6/2023 11:20</td>\n",
              "      <td id=\"T_3eb54_row0_col2\" class=\"data row0 col2\" >Bus </td>\n",
              "      <td id=\"T_3eb54_row0_col3\" class=\"data row0 col3\" >FTG-001-ABC-121</td>\n",
              "      <td id=\"T_3eb54_row0_col4\" class=\"data row0 col4\" >A-101</td>\n",
              "      <td id=\"T_3eb54_row0_col5\" class=\"data row0 col5\" >Express</td>\n",
              "      <td id=\"T_3eb54_row0_col6\" class=\"data row0 col6\" >Large</td>\n",
              "      <td id=\"T_3eb54_row0_col7\" class=\"data row0 col7\" >350</td>\n",
              "      <td id=\"T_3eb54_row0_col8\" class=\"data row0 col8\" >120</td>\n",
              "      <td id=\"T_3eb54_row0_col9\" class=\"data row0 col9\" >13.059816123454882, 77.77068662374292</td>\n",
              "      <td id=\"T_3eb54_row0_col10\" class=\"data row0 col10\" >65</td>\n",
              "      <td id=\"T_3eb54_row0_col11\" class=\"data row0 col11\" >KA11AB1234</td>\n",
              "      <td id=\"T_3eb54_row0_col12\" class=\"data row0 col12\" >Fraud</td>\n",
              "    </tr>\n",
              "    <tr>\n",
              "      <th id=\"T_3eb54_level0_row1\" class=\"row_heading level0 row1\" >1</th>\n",
              "      <td id=\"T_3eb54_row1_col0\" class=\"data row1 col0\" >2</td>\n",
              "      <td id=\"T_3eb54_row1_col1\" class=\"data row1 col1\" >1/7/2023 14:55</td>\n",
              "      <td id=\"T_3eb54_row1_col2\" class=\"data row1 col2\" >Car</td>\n",
              "      <td id=\"T_3eb54_row1_col3\" class=\"data row1 col3\" >FTG-002-XYZ-451</td>\n",
              "      <td id=\"T_3eb54_row1_col4\" class=\"data row1 col4\" >B-102</td>\n",
              "      <td id=\"T_3eb54_row1_col5\" class=\"data row1 col5\" >Regular</td>\n",
              "      <td id=\"T_3eb54_row1_col6\" class=\"data row1 col6\" >Small</td>\n",
              "      <td id=\"T_3eb54_row1_col7\" class=\"data row1 col7\" >120</td>\n",
              "      <td id=\"T_3eb54_row1_col8\" class=\"data row1 col8\" >100</td>\n",
              "      <td id=\"T_3eb54_row1_col9\" class=\"data row1 col9\" >13.059816123454882, 77.77068662374292</td>\n",
              "      <td id=\"T_3eb54_row1_col10\" class=\"data row1 col10\" >78</td>\n",
              "      <td id=\"T_3eb54_row1_col11\" class=\"data row1 col11\" >KA66CD5678</td>\n",
              "      <td id=\"T_3eb54_row1_col12\" class=\"data row1 col12\" >Fraud</td>\n",
              "    </tr>\n",
              "    <tr>\n",
              "      <th id=\"T_3eb54_level0_row2\" class=\"row_heading level0 row2\" >2</th>\n",
              "      <td id=\"T_3eb54_row2_col0\" class=\"data row2 col0\" >3</td>\n",
              "      <td id=\"T_3eb54_row2_col1\" class=\"data row2 col1\" >1/8/2023 18:25</td>\n",
              "      <td id=\"T_3eb54_row2_col2\" class=\"data row2 col2\" >Motorcycle</td>\n",
              "      <td id=\"T_3eb54_row2_col3\" class=\"data row2 col3\" >nan</td>\n",
              "      <td id=\"T_3eb54_row2_col4\" class=\"data row2 col4\" >D-104</td>\n",
              "      <td id=\"T_3eb54_row2_col5\" class=\"data row2 col5\" >Regular</td>\n",
              "      <td id=\"T_3eb54_row2_col6\" class=\"data row2 col6\" >Small</td>\n",
              "      <td id=\"T_3eb54_row2_col7\" class=\"data row2 col7\" >0</td>\n",
              "      <td id=\"T_3eb54_row2_col8\" class=\"data row2 col8\" >0</td>\n",
              "      <td id=\"T_3eb54_row2_col9\" class=\"data row2 col9\" >13.059816123454882, 77.77068662374292</td>\n",
              "      <td id=\"T_3eb54_row2_col10\" class=\"data row2 col10\" >53</td>\n",
              "      <td id=\"T_3eb54_row2_col11\" class=\"data row2 col11\" >KA88EF9012</td>\n",
              "      <td id=\"T_3eb54_row2_col12\" class=\"data row2 col12\" >Not Fraud</td>\n",
              "    </tr>\n",
              "    <tr>\n",
              "      <th id=\"T_3eb54_level0_row3\" class=\"row_heading level0 row3\" >3</th>\n",
              "      <td id=\"T_3eb54_row3_col0\" class=\"data row3 col0\" >4</td>\n",
              "      <td id=\"T_3eb54_row3_col1\" class=\"data row3 col1\" >1/9/2023 2:05</td>\n",
              "      <td id=\"T_3eb54_row3_col2\" class=\"data row3 col2\" >Truck</td>\n",
              "      <td id=\"T_3eb54_row3_col3\" class=\"data row3 col3\" >FTG-044-LMN-322</td>\n",
              "      <td id=\"T_3eb54_row3_col4\" class=\"data row3 col4\" >C-103</td>\n",
              "      <td id=\"T_3eb54_row3_col5\" class=\"data row3 col5\" >Regular</td>\n",
              "      <td id=\"T_3eb54_row3_col6\" class=\"data row3 col6\" >Large</td>\n",
              "      <td id=\"T_3eb54_row3_col7\" class=\"data row3 col7\" >350</td>\n",
              "      <td id=\"T_3eb54_row3_col8\" class=\"data row3 col8\" >120</td>\n",
              "      <td id=\"T_3eb54_row3_col9\" class=\"data row3 col9\" >13.059816123454882, 77.77068662374292</td>\n",
              "      <td id=\"T_3eb54_row3_col10\" class=\"data row3 col10\" >92</td>\n",
              "      <td id=\"T_3eb54_row3_col11\" class=\"data row3 col11\" >KA11GH3456</td>\n",
              "      <td id=\"T_3eb54_row3_col12\" class=\"data row3 col12\" >Fraud</td>\n",
              "    </tr>\n",
              "    <tr>\n",
              "      <th id=\"T_3eb54_level0_row4\" class=\"row_heading level0 row4\" >4</th>\n",
              "      <td id=\"T_3eb54_row4_col0\" class=\"data row4 col0\" >5</td>\n",
              "      <td id=\"T_3eb54_row4_col1\" class=\"data row4 col1\" >1/10/2023 6:35</td>\n",
              "      <td id=\"T_3eb54_row4_col2\" class=\"data row4 col2\" >Van</td>\n",
              "      <td id=\"T_3eb54_row4_col3\" class=\"data row4 col3\" >FTG-505-DEF-652</td>\n",
              "      <td id=\"T_3eb54_row4_col4\" class=\"data row4 col4\" >B-102</td>\n",
              "      <td id=\"T_3eb54_row4_col5\" class=\"data row4 col5\" >Express</td>\n",
              "      <td id=\"T_3eb54_row4_col6\" class=\"data row4 col6\" >Medium</td>\n",
              "      <td id=\"T_3eb54_row4_col7\" class=\"data row4 col7\" >140</td>\n",
              "      <td id=\"T_3eb54_row4_col8\" class=\"data row4 col8\" >100</td>\n",
              "      <td id=\"T_3eb54_row4_col9\" class=\"data row4 col9\" >13.059816123454882, 77.77068662374292</td>\n",
              "      <td id=\"T_3eb54_row4_col10\" class=\"data row4 col10\" >60</td>\n",
              "      <td id=\"T_3eb54_row4_col11\" class=\"data row4 col11\" >KA44IJ6789</td>\n",
              "      <td id=\"T_3eb54_row4_col12\" class=\"data row4 col12\" >Fraud</td>\n",
              "    </tr>\n",
              "  </tbody>\n",
              "</table>\n"
            ],
            "text/plain": [
              "<pandas.io.formats.style.Styler at 0x7e4de04446d0>"
            ]
          },
          "execution_count": 24,
          "metadata": {},
          "output_type": "execute_result"
        }
      ],
      "source": [
        "styled_df = data.head()\n",
        "styled_df = styled_df.style.set_table_styles([\n",
        "    {\"selector\": \"th\", \"props\": [(\"color\", 'black'), (\"background-color\", \"#FF00CC\")]}\n",
        "])\n",
        "styled_df"
      ]
    },
    {
      "cell_type": "code",
      "execution_count": null,
      "metadata": {
        "execution": {
          "iopub.execute_input": "2024-06-26T10:48:31.607696Z",
          "iopub.status.busy": "2024-06-26T10:48:31.607256Z",
          "iopub.status.idle": "2024-06-26T10:48:31.620177Z",
          "shell.execute_reply": "2024-06-26T10:48:31.618772Z",
          "shell.execute_reply.started": "2024-06-26T10:48:31.607665Z"
        },
        "id": "3XWIKWDnP51r",
        "outputId": "6704cd74-125e-40c4-e909-cd363d90f193",
        "trusted": true
      },
      "outputs": [
        {
          "data": {
            "text/html": [
              "<style type=\"text/css\">\n",
              "#T_1de6d th {\n",
              "  color: black;\n",
              "  background-color: #FF00CC;\n",
              "}\n",
              "</style>\n",
              "<table id=\"T_1de6d\">\n",
              "  <thead>\n",
              "    <tr>\n",
              "      <th class=\"blank level0\" >&nbsp;</th>\n",
              "      <th id=\"T_1de6d_level0_col0\" class=\"col_heading level0 col0\" >Transaction_ID</th>\n",
              "      <th id=\"T_1de6d_level0_col1\" class=\"col_heading level0 col1\" >Timestamp</th>\n",
              "      <th id=\"T_1de6d_level0_col2\" class=\"col_heading level0 col2\" >Vehicle_Type</th>\n",
              "      <th id=\"T_1de6d_level0_col3\" class=\"col_heading level0 col3\" >FastagID</th>\n",
              "      <th id=\"T_1de6d_level0_col4\" class=\"col_heading level0 col4\" >TollBoothID</th>\n",
              "      <th id=\"T_1de6d_level0_col5\" class=\"col_heading level0 col5\" >Lane_Type</th>\n",
              "      <th id=\"T_1de6d_level0_col6\" class=\"col_heading level0 col6\" >Vehicle_Dimensions</th>\n",
              "      <th id=\"T_1de6d_level0_col7\" class=\"col_heading level0 col7\" >Transaction_Amount</th>\n",
              "      <th id=\"T_1de6d_level0_col8\" class=\"col_heading level0 col8\" >Amount_paid</th>\n",
              "      <th id=\"T_1de6d_level0_col9\" class=\"col_heading level0 col9\" >Geographical_Location</th>\n",
              "      <th id=\"T_1de6d_level0_col10\" class=\"col_heading level0 col10\" >Vehicle_Speed</th>\n",
              "      <th id=\"T_1de6d_level0_col11\" class=\"col_heading level0 col11\" >Vehicle_Plate_Number</th>\n",
              "      <th id=\"T_1de6d_level0_col12\" class=\"col_heading level0 col12\" >Fraud_indicator</th>\n",
              "    </tr>\n",
              "  </thead>\n",
              "  <tbody>\n",
              "    <tr>\n",
              "      <th id=\"T_1de6d_level0_row0\" class=\"row_heading level0 row0\" >4995</th>\n",
              "      <td id=\"T_1de6d_row0_col0\" class=\"data row0 col0\" >4996</td>\n",
              "      <td id=\"T_1de6d_row0_col1\" class=\"data row0 col1\" >1/1/2023 22:18</td>\n",
              "      <td id=\"T_1de6d_row0_col2\" class=\"data row0 col2\" >Truck</td>\n",
              "      <td id=\"T_1de6d_row0_col3\" class=\"data row0 col3\" >FTG-445-EDC-765</td>\n",
              "      <td id=\"T_1de6d_row0_col4\" class=\"data row0 col4\" >C-103</td>\n",
              "      <td id=\"T_1de6d_row0_col5\" class=\"data row0 col5\" >Regular</td>\n",
              "      <td id=\"T_1de6d_row0_col6\" class=\"data row0 col6\" >Large</td>\n",
              "      <td id=\"T_1de6d_row0_col7\" class=\"data row0 col7\" >330</td>\n",
              "      <td id=\"T_1de6d_row0_col8\" class=\"data row0 col8\" >330</td>\n",
              "      <td id=\"T_1de6d_row0_col9\" class=\"data row0 col9\" >13.21331620748757, 77.55413526894684</td>\n",
              "      <td id=\"T_1de6d_row0_col10\" class=\"data row0 col10\" >81</td>\n",
              "      <td id=\"T_1de6d_row0_col11\" class=\"data row0 col11\" >KA74ST0123</td>\n",
              "      <td id=\"T_1de6d_row0_col12\" class=\"data row0 col12\" >Not Fraud</td>\n",
              "    </tr>\n",
              "    <tr>\n",
              "      <th id=\"T_1de6d_level0_row1\" class=\"row_heading level0 row1\" >4996</th>\n",
              "      <td id=\"T_1de6d_row1_col0\" class=\"data row1 col0\" >4997</td>\n",
              "      <td id=\"T_1de6d_row1_col1\" class=\"data row1 col1\" >1/17/2023 13:43</td>\n",
              "      <td id=\"T_1de6d_row1_col2\" class=\"data row1 col2\" >Van</td>\n",
              "      <td id=\"T_1de6d_row1_col3\" class=\"data row1 col3\" >FTG-446-LMK-432</td>\n",
              "      <td id=\"T_1de6d_row1_col4\" class=\"data row1 col4\" >B-102</td>\n",
              "      <td id=\"T_1de6d_row1_col5\" class=\"data row1 col5\" >Express</td>\n",
              "      <td id=\"T_1de6d_row1_col6\" class=\"data row1 col6\" >Medium</td>\n",
              "      <td id=\"T_1de6d_row1_col7\" class=\"data row1 col7\" >125</td>\n",
              "      <td id=\"T_1de6d_row1_col8\" class=\"data row1 col8\" >125</td>\n",
              "      <td id=\"T_1de6d_row1_col9\" class=\"data row1 col9\" >13.21331620748757, 77.55413526894684</td>\n",
              "      <td id=\"T_1de6d_row1_col10\" class=\"data row1 col10\" >64</td>\n",
              "      <td id=\"T_1de6d_row1_col11\" class=\"data row1 col11\" >KA38UV3456</td>\n",
              "      <td id=\"T_1de6d_row1_col12\" class=\"data row1 col12\" >Not Fraud</td>\n",
              "    </tr>\n",
              "    <tr>\n",
              "      <th id=\"T_1de6d_level0_row2\" class=\"row_heading level0 row2\" >4997</th>\n",
              "      <td id=\"T_1de6d_row2_col0\" class=\"data row2 col0\" >4998</td>\n",
              "      <td id=\"T_1de6d_row2_col1\" class=\"data row2 col1\" >2/5/2023 5:08</td>\n",
              "      <td id=\"T_1de6d_row2_col2\" class=\"data row2 col2\" >Sedan</td>\n",
              "      <td id=\"T_1de6d_row2_col3\" class=\"data row2 col3\" >FTG-447-PLN-109</td>\n",
              "      <td id=\"T_1de6d_row2_col4\" class=\"data row2 col4\" >A-101</td>\n",
              "      <td id=\"T_1de6d_row2_col5\" class=\"data row2 col5\" >Regular</td>\n",
              "      <td id=\"T_1de6d_row2_col6\" class=\"data row2 col6\" >Medium</td>\n",
              "      <td id=\"T_1de6d_row2_col7\" class=\"data row2 col7\" >115</td>\n",
              "      <td id=\"T_1de6d_row2_col8\" class=\"data row2 col8\" >115</td>\n",
              "      <td id=\"T_1de6d_row2_col9\" class=\"data row2 col9\" >13.21331620748757, 77.55413526894684</td>\n",
              "      <td id=\"T_1de6d_row2_col10\" class=\"data row2 col10\" >93</td>\n",
              "      <td id=\"T_1de6d_row2_col11\" class=\"data row2 col11\" >KA33WX6789</td>\n",
              "      <td id=\"T_1de6d_row2_col12\" class=\"data row2 col12\" >Not Fraud</td>\n",
              "    </tr>\n",
              "    <tr>\n",
              "      <th id=\"T_1de6d_level0_row3\" class=\"row_heading level0 row3\" >4998</th>\n",
              "      <td id=\"T_1de6d_row3_col0\" class=\"data row3 col0\" >4999</td>\n",
              "      <td id=\"T_1de6d_row3_col1\" class=\"data row3 col1\" >2/20/2023 20:34</td>\n",
              "      <td id=\"T_1de6d_row3_col2\" class=\"data row3 col2\" >SUV</td>\n",
              "      <td id=\"T_1de6d_row3_col3\" class=\"data row3 col3\" >FTG-458-VFR-876</td>\n",
              "      <td id=\"T_1de6d_row3_col4\" class=\"data row3 col4\" >B-102</td>\n",
              "      <td id=\"T_1de6d_row3_col5\" class=\"data row3 col5\" >Express</td>\n",
              "      <td id=\"T_1de6d_row3_col6\" class=\"data row3 col6\" >Large</td>\n",
              "      <td id=\"T_1de6d_row3_col7\" class=\"data row3 col7\" >145</td>\n",
              "      <td id=\"T_1de6d_row3_col8\" class=\"data row3 col8\" >145</td>\n",
              "      <td id=\"T_1de6d_row3_col9\" class=\"data row3 col9\" >13.21331620748757, 77.55413526894684</td>\n",
              "      <td id=\"T_1de6d_row3_col10\" class=\"data row3 col10\" >57</td>\n",
              "      <td id=\"T_1de6d_row3_col11\" class=\"data row3 col11\" >KA35YZ0123</td>\n",
              "      <td id=\"T_1de6d_row3_col12\" class=\"data row3 col12\" >Not Fraud</td>\n",
              "    </tr>\n",
              "    <tr>\n",
              "      <th id=\"T_1de6d_level0_row4\" class=\"row_heading level0 row4\" >4999</th>\n",
              "      <td id=\"T_1de6d_row4_col0\" class=\"data row4 col0\" >5000</td>\n",
              "      <td id=\"T_1de6d_row4_col1\" class=\"data row4 col1\" >3/10/2023 0:59</td>\n",
              "      <td id=\"T_1de6d_row4_col2\" class=\"data row4 col2\" >Bus </td>\n",
              "      <td id=\"T_1de6d_row4_col3\" class=\"data row4 col3\" >FTG-459-WSX-543</td>\n",
              "      <td id=\"T_1de6d_row4_col4\" class=\"data row4 col4\" >C-103</td>\n",
              "      <td id=\"T_1de6d_row4_col5\" class=\"data row4 col5\" >Regular</td>\n",
              "      <td id=\"T_1de6d_row4_col6\" class=\"data row4 col6\" >Large</td>\n",
              "      <td id=\"T_1de6d_row4_col7\" class=\"data row4 col7\" >330</td>\n",
              "      <td id=\"T_1de6d_row4_col8\" class=\"data row4 col8\" >125</td>\n",
              "      <td id=\"T_1de6d_row4_col9\" class=\"data row4 col9\" >13.21331620748757, 77.55413526894684</td>\n",
              "      <td id=\"T_1de6d_row4_col10\" class=\"data row4 col10\" >86</td>\n",
              "      <td id=\"T_1de6d_row4_col11\" class=\"data row4 col11\" >KA37AB3456</td>\n",
              "      <td id=\"T_1de6d_row4_col12\" class=\"data row4 col12\" >Fraud</td>\n",
              "    </tr>\n",
              "  </tbody>\n",
              "</table>\n"
            ],
            "text/plain": [
              "<pandas.io.formats.style.Styler at 0x7e4de0297340>"
            ]
          },
          "execution_count": 25,
          "metadata": {},
          "output_type": "execute_result"
        }
      ],
      "source": [
        "styled_df = data.tail()\n",
        "styled_df = styled_df.style.set_table_styles([\n",
        "    {\"selector\": \"th\", \"props\": [(\"color\", 'black'), (\"background-color\", \"#FF00CC\")]}\n",
        "])\n",
        "styled_df"
      ]
    },
    {
      "cell_type": "code",
      "execution_count": null,
      "metadata": {
        "execution": {
          "iopub.execute_input": "2024-06-26T10:48:31.915558Z",
          "iopub.status.busy": "2024-06-26T10:48:31.915168Z",
          "iopub.status.idle": "2024-06-26T10:48:31.930862Z",
          "shell.execute_reply": "2024-06-26T10:48:31.929631Z",
          "shell.execute_reply.started": "2024-06-26T10:48:31.915528Z"
        },
        "id": "-FzjLELXP51r",
        "outputId": "3c978b9f-9cf0-4183-b618-a14b6ff8ff38",
        "trusted": true
      },
      "outputs": [
        {
          "name": "stdout",
          "output_type": "stream",
          "text": [
            "<class 'pandas.core.frame.DataFrame'>\n",
            "RangeIndex: 5000 entries, 0 to 4999\n",
            "Data columns (total 13 columns):\n",
            " #   Column                 Non-Null Count  Dtype \n",
            "---  ------                 --------------  ----- \n",
            " 0   Transaction_ID         5000 non-null   int64 \n",
            " 1   Timestamp              5000 non-null   object\n",
            " 2   Vehicle_Type           5000 non-null   object\n",
            " 3   FastagID               4451 non-null   object\n",
            " 4   TollBoothID            5000 non-null   object\n",
            " 5   Lane_Type              5000 non-null   object\n",
            " 6   Vehicle_Dimensions     5000 non-null   object\n",
            " 7   Transaction_Amount     5000 non-null   int64 \n",
            " 8   Amount_paid            5000 non-null   int64 \n",
            " 9   Geographical_Location  5000 non-null   object\n",
            " 10  Vehicle_Speed          5000 non-null   int64 \n",
            " 11  Vehicle_Plate_Number   5000 non-null   object\n",
            " 12  Fraud_indicator        5000 non-null   object\n",
            "dtypes: int64(4), object(9)\n",
            "memory usage: 507.9+ KB\n"
          ]
        }
      ],
      "source": [
        "data.info()"
      ]
    },
    {
      "cell_type": "code",
      "execution_count": null,
      "metadata": {
        "execution": {
          "iopub.execute_input": "2024-06-26T10:48:32.221366Z",
          "iopub.status.busy": "2024-06-26T10:48:32.220982Z",
          "iopub.status.idle": "2024-06-26T10:48:32.245859Z",
          "shell.execute_reply": "2024-06-26T10:48:32.244122Z",
          "shell.execute_reply.started": "2024-06-26T10:48:32.221337Z"
        },
        "id": "lN8o8SitP51s",
        "outputId": "81295c1c-da98-4345-8df8-a7a23b5d7eb8",
        "trusted": true
      },
      "outputs": [
        {
          "data": {
            "text/html": [
              "<style type=\"text/css\">\n",
              "#T_6df8e th {\n",
              "  color: black;\n",
              "  background-color: #FF00CC;\n",
              "}\n",
              "</style>\n",
              "<table id=\"T_6df8e\">\n",
              "  <thead>\n",
              "    <tr>\n",
              "      <th class=\"blank level0\" >&nbsp;</th>\n",
              "      <th id=\"T_6df8e_level0_col0\" class=\"col_heading level0 col0\" >Transaction_ID</th>\n",
              "      <th id=\"T_6df8e_level0_col1\" class=\"col_heading level0 col1\" >Transaction_Amount</th>\n",
              "      <th id=\"T_6df8e_level0_col2\" class=\"col_heading level0 col2\" >Amount_paid</th>\n",
              "      <th id=\"T_6df8e_level0_col3\" class=\"col_heading level0 col3\" >Vehicle_Speed</th>\n",
              "    </tr>\n",
              "  </thead>\n",
              "  <tbody>\n",
              "    <tr>\n",
              "      <th id=\"T_6df8e_level0_row0\" class=\"row_heading level0 row0\" >count</th>\n",
              "      <td id=\"T_6df8e_row0_col0\" class=\"data row0 col0\" >5000.000000</td>\n",
              "      <td id=\"T_6df8e_row0_col1\" class=\"data row0 col1\" >5000.000000</td>\n",
              "      <td id=\"T_6df8e_row0_col2\" class=\"data row0 col2\" >5000.000000</td>\n",
              "      <td id=\"T_6df8e_row0_col3\" class=\"data row0 col3\" >5000.000000</td>\n",
              "    </tr>\n",
              "    <tr>\n",
              "      <th id=\"T_6df8e_level0_row1\" class=\"row_heading level0 row1\" >mean</th>\n",
              "      <td id=\"T_6df8e_row1_col0\" class=\"data row1 col0\" >2500.500000</td>\n",
              "      <td id=\"T_6df8e_row1_col1\" class=\"data row1 col1\" >161.062000</td>\n",
              "      <td id=\"T_6df8e_row1_col2\" class=\"data row1 col2\" >141.261000</td>\n",
              "      <td id=\"T_6df8e_row1_col3\" class=\"data row1 col3\" >67.851200</td>\n",
              "    </tr>\n",
              "    <tr>\n",
              "      <th id=\"T_6df8e_level0_row2\" class=\"row_heading level0 row2\" >std</th>\n",
              "      <td id=\"T_6df8e_row2_col0\" class=\"data row2 col0\" >1443.520003</td>\n",
              "      <td id=\"T_6df8e_row2_col1\" class=\"data row2 col1\" >112.449950</td>\n",
              "      <td id=\"T_6df8e_row2_col2\" class=\"data row2 col2\" >106.480996</td>\n",
              "      <td id=\"T_6df8e_row2_col3\" class=\"data row2 col3\" >16.597547</td>\n",
              "    </tr>\n",
              "    <tr>\n",
              "      <th id=\"T_6df8e_level0_row3\" class=\"row_heading level0 row3\" >min</th>\n",
              "      <td id=\"T_6df8e_row3_col0\" class=\"data row3 col0\" >1.000000</td>\n",
              "      <td id=\"T_6df8e_row3_col1\" class=\"data row3 col1\" >0.000000</td>\n",
              "      <td id=\"T_6df8e_row3_col2\" class=\"data row3 col2\" >0.000000</td>\n",
              "      <td id=\"T_6df8e_row3_col3\" class=\"data row3 col3\" >10.000000</td>\n",
              "    </tr>\n",
              "    <tr>\n",
              "      <th id=\"T_6df8e_level0_row4\" class=\"row_heading level0 row4\" >25%</th>\n",
              "      <td id=\"T_6df8e_row4_col0\" class=\"data row4 col0\" >1250.750000</td>\n",
              "      <td id=\"T_6df8e_row4_col1\" class=\"data row4 col1\" >100.000000</td>\n",
              "      <td id=\"T_6df8e_row4_col2\" class=\"data row4 col2\" >90.000000</td>\n",
              "      <td id=\"T_6df8e_row4_col3\" class=\"data row4 col3\" >54.000000</td>\n",
              "    </tr>\n",
              "    <tr>\n",
              "      <th id=\"T_6df8e_level0_row5\" class=\"row_heading level0 row5\" >50%</th>\n",
              "      <td id=\"T_6df8e_row5_col0\" class=\"data row5 col0\" >2500.500000</td>\n",
              "      <td id=\"T_6df8e_row5_col1\" class=\"data row5 col1\" >130.000000</td>\n",
              "      <td id=\"T_6df8e_row5_col2\" class=\"data row5 col2\" >120.000000</td>\n",
              "      <td id=\"T_6df8e_row5_col3\" class=\"data row5 col3\" >67.000000</td>\n",
              "    </tr>\n",
              "    <tr>\n",
              "      <th id=\"T_6df8e_level0_row6\" class=\"row_heading level0 row6\" >75%</th>\n",
              "      <td id=\"T_6df8e_row6_col0\" class=\"data row6 col0\" >3750.250000</td>\n",
              "      <td id=\"T_6df8e_row6_col1\" class=\"data row6 col1\" >290.000000</td>\n",
              "      <td id=\"T_6df8e_row6_col2\" class=\"data row6 col2\" >160.000000</td>\n",
              "      <td id=\"T_6df8e_row6_col3\" class=\"data row6 col3\" >82.000000</td>\n",
              "    </tr>\n",
              "    <tr>\n",
              "      <th id=\"T_6df8e_level0_row7\" class=\"row_heading level0 row7\" >max</th>\n",
              "      <td id=\"T_6df8e_row7_col0\" class=\"data row7 col0\" >5000.000000</td>\n",
              "      <td id=\"T_6df8e_row7_col1\" class=\"data row7 col1\" >350.000000</td>\n",
              "      <td id=\"T_6df8e_row7_col2\" class=\"data row7 col2\" >350.000000</td>\n",
              "      <td id=\"T_6df8e_row7_col3\" class=\"data row7 col3\" >118.000000</td>\n",
              "    </tr>\n",
              "  </tbody>\n",
              "</table>\n"
            ],
            "text/plain": [
              "<pandas.io.formats.style.Styler at 0x7e4de04445e0>"
            ]
          },
          "execution_count": 27,
          "metadata": {},
          "output_type": "execute_result"
        }
      ],
      "source": [
        "# df.describe()\n",
        "styled_df = data.describe()\n",
        "styled_df = styled_df.style.set_table_styles([\n",
        "    {\"selector\": \"th\", \"props\": [(\"color\", 'black'), (\"background-color\", \"#FF00CC\")]}\n",
        "])\n",
        "styled_df"
      ]
    },
    {
      "cell_type": "code",
      "execution_count": null,
      "metadata": {
        "execution": {
          "iopub.execute_input": "2024-06-26T10:48:32.530094Z",
          "iopub.status.busy": "2024-06-26T10:48:32.529603Z",
          "iopub.status.idle": "2024-06-26T10:48:32.537673Z",
          "shell.execute_reply": "2024-06-26T10:48:32.536391Z",
          "shell.execute_reply.started": "2024-06-26T10:48:32.530059Z"
        },
        "id": "aeC0cj4zP51t",
        "outputId": "5f326831-ea3d-4338-e94e-78604e3cff7c",
        "trusted": true
      },
      "outputs": [
        {
          "data": {
            "text/plain": [
              "(5000, 13)"
            ]
          },
          "execution_count": 28,
          "metadata": {},
          "output_type": "execute_result"
        }
      ],
      "source": [
        "data.shape"
      ]
    },
    {
      "cell_type": "code",
      "execution_count": null,
      "metadata": {
        "execution": {
          "iopub.execute_input": "2024-06-26T10:48:32.836669Z",
          "iopub.status.busy": "2024-06-26T10:48:32.836246Z",
          "iopub.status.idle": "2024-06-26T10:48:32.843641Z",
          "shell.execute_reply": "2024-06-26T10:48:32.842527Z",
          "shell.execute_reply.started": "2024-06-26T10:48:32.836637Z"
        },
        "id": "TVyOphd5P51t",
        "outputId": "78256e28-d9f3-4f79-ffac-30311b6e9996",
        "trusted": true
      },
      "outputs": [
        {
          "data": {
            "text/plain": [
              "65000"
            ]
          },
          "execution_count": 29,
          "metadata": {},
          "output_type": "execute_result"
        }
      ],
      "source": [
        "data.size"
      ]
    },
    {
      "cell_type": "code",
      "execution_count": null,
      "metadata": {
        "execution": {
          "iopub.execute_input": "2024-06-26T10:48:33.75898Z",
          "iopub.status.busy": "2024-06-26T10:48:33.758319Z",
          "iopub.status.idle": "2024-06-26T10:48:33.766358Z",
          "shell.execute_reply": "2024-06-26T10:48:33.765198Z",
          "shell.execute_reply.started": "2024-06-26T10:48:33.758935Z"
        },
        "id": "m9ZTyzJuP51u",
        "outputId": "d99e2c27-8f67-4e88-9ec9-a84456f7c72c",
        "trusted": true
      },
      "outputs": [
        {
          "data": {
            "text/plain": [
              "Index(['Transaction_ID', 'Timestamp', 'Vehicle_Type', 'FastagID',\n",
              "       'TollBoothID', 'Lane_Type', 'Vehicle_Dimensions', 'Transaction_Amount',\n",
              "       'Amount_paid', 'Geographical_Location', 'Vehicle_Speed',\n",
              "       'Vehicle_Plate_Number', 'Fraud_indicator'],\n",
              "      dtype='object')"
            ]
          },
          "execution_count": 30,
          "metadata": {},
          "output_type": "execute_result"
        }
      ],
      "source": [
        "data.columns"
      ]
    },
    {
      "cell_type": "code",
      "execution_count": null,
      "metadata": {
        "execution": {
          "iopub.execute_input": "2024-06-26T10:48:33.912456Z",
          "iopub.status.busy": "2024-06-26T10:48:33.912029Z",
          "iopub.status.idle": "2024-06-26T10:48:33.923819Z",
          "shell.execute_reply": "2024-06-26T10:48:33.92266Z",
          "shell.execute_reply.started": "2024-06-26T10:48:33.912425Z"
        },
        "id": "V2fi5ba4P51u",
        "outputId": "69551b0a-12ce-436d-ebb5-e1d145f44eb4",
        "trusted": true
      },
      "outputs": [
        {
          "data": {
            "text/plain": [
              "Transaction_ID             0\n",
              "Timestamp                  0\n",
              "Vehicle_Type               0\n",
              "FastagID                 549\n",
              "TollBoothID                0\n",
              "Lane_Type                  0\n",
              "Vehicle_Dimensions         0\n",
              "Transaction_Amount         0\n",
              "Amount_paid                0\n",
              "Geographical_Location      0\n",
              "Vehicle_Speed              0\n",
              "Vehicle_Plate_Number       0\n",
              "Fraud_indicator            0\n",
              "dtype: int64"
            ]
          },
          "execution_count": 31,
          "metadata": {},
          "output_type": "execute_result"
        }
      ],
      "source": [
        "data.isnull().sum()"
      ]
    },
    {
      "cell_type": "markdown",
      "metadata": {
        "id": "oSKyFvY8P51u"
      },
      "source": [
        "<p style = \"color: #19bd7c;\n",
        "            font: bold 18px arial;\n",
        "            padding: 15px;\n",
        "            background-color: #111;\n",
        "            border: 3px solid lightgreen;\n",
        "            border-radius: 8px\">\n",
        "    ♣ Feature Engineering 👨‍\n",
        "</p>\n",
        "\n",
        "<div style=\"border: 2px solid #1E90FF; border-radius: 10px; margin-top: 10px; width:50%\">\n",
        "    <ol style=\"list-style-type: none; padding: 10px;\">\n",
        "        <li>Identify and engineer relevant features that contribute to fraud detection accuracy.</li>\n",
        "    </ol>\n",
        "</div>\n"
      ]
    },
    {
      "cell_type": "markdown",
      "metadata": {
        "id": "aZEYw6v5P51u"
      },
      "source": [
        "> <span style='font-size:15px; font-family:Verdana;color: #FF00CC;'><b>OneHot Encoding</b></span>\n",
        "\n"
      ]
    },
    {
      "cell_type": "code",
      "execution_count": null,
      "metadata": {
        "execution": {
          "iopub.execute_input": "2024-06-26T10:48:34.52445Z",
          "iopub.status.busy": "2024-06-26T10:48:34.523739Z",
          "iopub.status.idle": "2024-06-26T10:48:34.534151Z",
          "shell.execute_reply": "2024-06-26T10:48:34.53299Z",
          "shell.execute_reply.started": "2024-06-26T10:48:34.5244Z"
        },
        "id": "eBKMCoI4P51u",
        "outputId": "d363f6cd-e6e0-4948-b225-796ba8cb642d",
        "trusted": true
      },
      "outputs": [
        {
          "data": {
            "text/plain": [
              "array(['Bus ', 'Car', 'Motorcycle', 'Truck', 'Van', 'Sedan', 'SUV'],\n",
              "      dtype=object)"
            ]
          },
          "execution_count": 32,
          "metadata": {},
          "output_type": "execute_result"
        }
      ],
      "source": [
        "data['Vehicle_Type'].unique()"
      ]
    },
    {
      "cell_type": "code",
      "execution_count": null,
      "metadata": {
        "execution": {
          "iopub.execute_input": "2024-06-26T10:49:25.070924Z",
          "iopub.status.busy": "2024-06-26T10:49:25.069476Z",
          "iopub.status.idle": "2024-06-26T10:49:25.077984Z",
          "shell.execute_reply": "2024-06-26T10:49:25.076282Z",
          "shell.execute_reply.started": "2024-06-26T10:49:25.070869Z"
        },
        "id": "_2h4Zb5XP51v",
        "trusted": true
      },
      "outputs": [],
      "source": [
        "Lane_order=['Express', 'Regular']\n",
        "Vehicle_Dimensions_order=['Large', 'Small', 'Medium']\n",
        "Fraud_indicator_order=['Not Fraud','Fraud']"
      ]
    },
    {
      "cell_type": "code",
      "execution_count": null,
      "metadata": {
        "execution": {
          "iopub.execute_input": "2024-06-26T10:50:30.506735Z",
          "iopub.status.busy": "2024-06-26T10:50:30.506346Z",
          "iopub.status.idle": "2024-06-26T10:50:30.521937Z",
          "shell.execute_reply": "2024-06-26T10:50:30.520121Z",
          "shell.execute_reply.started": "2024-06-26T10:50:30.506705Z"
        },
        "id": "hbnQlPdTP51v",
        "trusted": true
      },
      "outputs": [],
      "source": [
        "ohe = OneHotEncoder()\n",
        "encode0 = ohe.fit_transform(data[['Vehicle_Type']]).toarray()"
      ]
    },
    {
      "cell_type": "code",
      "execution_count": null,
      "metadata": {
        "execution": {
          "iopub.execute_input": "2024-06-26T10:50:43.55395Z",
          "iopub.status.busy": "2024-06-26T10:50:43.553556Z",
          "iopub.status.idle": "2024-06-26T10:50:43.562849Z",
          "shell.execute_reply": "2024-06-26T10:50:43.561381Z",
          "shell.execute_reply.started": "2024-06-26T10:50:43.553919Z"
        },
        "id": "UGhpzmEAP51v",
        "outputId": "4dae76cd-de84-4cb0-c2a6-98d3eb17c5e9",
        "trusted": true
      },
      "outputs": [
        {
          "data": {
            "text/plain": [
              "array(['Bus ', 'Car', 'Motorcycle', 'SUV', 'Sedan', 'Truck', 'Van'],\n",
              "      dtype=object)"
            ]
          },
          "execution_count": 37,
          "metadata": {},
          "output_type": "execute_result"
        }
      ],
      "source": [
        "feature_labels = ohe.categories_\n",
        "np.array(feature_labels).ravel()"
      ]
    },
    {
      "cell_type": "code",
      "execution_count": null,
      "metadata": {
        "execution": {
          "iopub.execute_input": "2024-06-26T10:50:52.722784Z",
          "iopub.status.busy": "2024-06-26T10:50:52.722394Z",
          "iopub.status.idle": "2024-06-26T10:50:52.728789Z",
          "shell.execute_reply": "2024-06-26T10:50:52.727553Z",
          "shell.execute_reply.started": "2024-06-26T10:50:52.722754Z"
        },
        "id": "wLWDYL3WP51v",
        "outputId": "51f8277a-2ea8-4dcd-b5c8-64f105e39a91",
        "trusted": true
      },
      "outputs": [
        {
          "name": "stdout",
          "output_type": "stream",
          "text": [
            "['Bus ' 'Car' 'Motorcycle' 'SUV' 'Sedan' 'Truck' 'Van']\n"
          ]
        }
      ],
      "source": [
        "feature_labels = np.array(feature_labels).ravel()\n",
        "print(feature_labels)"
      ]
    },
    {
      "cell_type": "code",
      "execution_count": null,
      "metadata": {
        "execution": {
          "iopub.execute_input": "2024-06-26T10:51:00.456082Z",
          "iopub.status.busy": "2024-06-26T10:51:00.455707Z",
          "iopub.status.idle": "2024-06-26T10:51:00.463Z",
          "shell.execute_reply": "2024-06-26T10:51:00.461161Z",
          "shell.execute_reply.started": "2024-06-26T10:51:00.456055Z"
        },
        "id": "qaiEnAVEP51v",
        "trusted": true
      },
      "outputs": [],
      "source": [
        "features = pd.DataFrame(encode0, columns = feature_labels)"
      ]
    },
    {
      "cell_type": "code",
      "execution_count": null,
      "metadata": {
        "execution": {
          "iopub.execute_input": "2024-06-26T10:51:07.066058Z",
          "iopub.status.busy": "2024-06-26T10:51:07.065546Z",
          "iopub.status.idle": "2024-06-26T10:51:07.074483Z",
          "shell.execute_reply": "2024-06-26T10:51:07.072389Z",
          "shell.execute_reply.started": "2024-06-26T10:51:07.066021Z"
        },
        "id": "Y73dS8tCP51v",
        "trusted": true
      },
      "outputs": [],
      "source": [
        "df_new = pd.concat([data, features], axis=1)"
      ]
    },
    {
      "cell_type": "code",
      "execution_count": null,
      "metadata": {
        "execution": {
          "iopub.execute_input": "2024-06-26T10:51:16.588704Z",
          "iopub.status.busy": "2024-06-26T10:51:16.588286Z",
          "iopub.status.idle": "2024-06-26T10:51:16.597288Z",
          "shell.execute_reply": "2024-06-26T10:51:16.595969Z",
          "shell.execute_reply.started": "2024-06-26T10:51:16.588673Z"
        },
        "id": "qzlapmBjP51v",
        "trusted": true
      },
      "outputs": [],
      "source": [
        "new_dataset=df_new.drop(['Timestamp','FastagID','Vehicle_Type','TollBoothID','Geographical_Location','Vehicle_Plate_Number'], axis=1)"
      ]
    },
    {
      "cell_type": "code",
      "execution_count": null,
      "metadata": {
        "execution": {
          "iopub.execute_input": "2024-06-26T10:51:54.214831Z",
          "iopub.status.busy": "2024-06-26T10:51:54.21446Z",
          "iopub.status.idle": "2024-06-26T10:51:54.229783Z",
          "shell.execute_reply": "2024-06-26T10:51:54.228278Z",
          "shell.execute_reply.started": "2024-06-26T10:51:54.214804Z"
        },
        "id": "X3kUW02PP51v",
        "outputId": "a2127054-1619-432f-cb37-a63477b89ddb",
        "trusted": true
      },
      "outputs": [
        {
          "data": {
            "text/html": [
              "<style type=\"text/css\">\n",
              "#T_43700 th {\n",
              "  color: black;\n",
              "  background-color: #FF00CC;\n",
              "}\n",
              "</style>\n",
              "<table id=\"T_43700\">\n",
              "  <thead>\n",
              "    <tr>\n",
              "      <th class=\"blank level0\" >&nbsp;</th>\n",
              "      <th id=\"T_43700_level0_col0\" class=\"col_heading level0 col0\" >Transaction_ID</th>\n",
              "      <th id=\"T_43700_level0_col1\" class=\"col_heading level0 col1\" >Lane_Type</th>\n",
              "      <th id=\"T_43700_level0_col2\" class=\"col_heading level0 col2\" >Vehicle_Dimensions</th>\n",
              "      <th id=\"T_43700_level0_col3\" class=\"col_heading level0 col3\" >Transaction_Amount</th>\n",
              "      <th id=\"T_43700_level0_col4\" class=\"col_heading level0 col4\" >Amount_paid</th>\n",
              "      <th id=\"T_43700_level0_col5\" class=\"col_heading level0 col5\" >Vehicle_Speed</th>\n",
              "      <th id=\"T_43700_level0_col6\" class=\"col_heading level0 col6\" >Fraud_indicator</th>\n",
              "      <th id=\"T_43700_level0_col7\" class=\"col_heading level0 col7\" >Bus </th>\n",
              "      <th id=\"T_43700_level0_col8\" class=\"col_heading level0 col8\" >Car</th>\n",
              "      <th id=\"T_43700_level0_col9\" class=\"col_heading level0 col9\" >Motorcycle</th>\n",
              "      <th id=\"T_43700_level0_col10\" class=\"col_heading level0 col10\" >SUV</th>\n",
              "      <th id=\"T_43700_level0_col11\" class=\"col_heading level0 col11\" >Sedan</th>\n",
              "      <th id=\"T_43700_level0_col12\" class=\"col_heading level0 col12\" >Truck</th>\n",
              "      <th id=\"T_43700_level0_col13\" class=\"col_heading level0 col13\" >Van</th>\n",
              "    </tr>\n",
              "  </thead>\n",
              "  <tbody>\n",
              "    <tr>\n",
              "      <th id=\"T_43700_level0_row0\" class=\"row_heading level0 row0\" >0</th>\n",
              "      <td id=\"T_43700_row0_col0\" class=\"data row0 col0\" >1</td>\n",
              "      <td id=\"T_43700_row0_col1\" class=\"data row0 col1\" >Express</td>\n",
              "      <td id=\"T_43700_row0_col2\" class=\"data row0 col2\" >Large</td>\n",
              "      <td id=\"T_43700_row0_col3\" class=\"data row0 col3\" >350</td>\n",
              "      <td id=\"T_43700_row0_col4\" class=\"data row0 col4\" >120</td>\n",
              "      <td id=\"T_43700_row0_col5\" class=\"data row0 col5\" >65</td>\n",
              "      <td id=\"T_43700_row0_col6\" class=\"data row0 col6\" >Fraud</td>\n",
              "      <td id=\"T_43700_row0_col7\" class=\"data row0 col7\" >1.000000</td>\n",
              "      <td id=\"T_43700_row0_col8\" class=\"data row0 col8\" >0.000000</td>\n",
              "      <td id=\"T_43700_row0_col9\" class=\"data row0 col9\" >0.000000</td>\n",
              "      <td id=\"T_43700_row0_col10\" class=\"data row0 col10\" >0.000000</td>\n",
              "      <td id=\"T_43700_row0_col11\" class=\"data row0 col11\" >0.000000</td>\n",
              "      <td id=\"T_43700_row0_col12\" class=\"data row0 col12\" >0.000000</td>\n",
              "      <td id=\"T_43700_row0_col13\" class=\"data row0 col13\" >0.000000</td>\n",
              "    </tr>\n",
              "    <tr>\n",
              "      <th id=\"T_43700_level0_row1\" class=\"row_heading level0 row1\" >1</th>\n",
              "      <td id=\"T_43700_row1_col0\" class=\"data row1 col0\" >2</td>\n",
              "      <td id=\"T_43700_row1_col1\" class=\"data row1 col1\" >Regular</td>\n",
              "      <td id=\"T_43700_row1_col2\" class=\"data row1 col2\" >Small</td>\n",
              "      <td id=\"T_43700_row1_col3\" class=\"data row1 col3\" >120</td>\n",
              "      <td id=\"T_43700_row1_col4\" class=\"data row1 col4\" >100</td>\n",
              "      <td id=\"T_43700_row1_col5\" class=\"data row1 col5\" >78</td>\n",
              "      <td id=\"T_43700_row1_col6\" class=\"data row1 col6\" >Fraud</td>\n",
              "      <td id=\"T_43700_row1_col7\" class=\"data row1 col7\" >0.000000</td>\n",
              "      <td id=\"T_43700_row1_col8\" class=\"data row1 col8\" >1.000000</td>\n",
              "      <td id=\"T_43700_row1_col9\" class=\"data row1 col9\" >0.000000</td>\n",
              "      <td id=\"T_43700_row1_col10\" class=\"data row1 col10\" >0.000000</td>\n",
              "      <td id=\"T_43700_row1_col11\" class=\"data row1 col11\" >0.000000</td>\n",
              "      <td id=\"T_43700_row1_col12\" class=\"data row1 col12\" >0.000000</td>\n",
              "      <td id=\"T_43700_row1_col13\" class=\"data row1 col13\" >0.000000</td>\n",
              "    </tr>\n",
              "    <tr>\n",
              "      <th id=\"T_43700_level0_row2\" class=\"row_heading level0 row2\" >2</th>\n",
              "      <td id=\"T_43700_row2_col0\" class=\"data row2 col0\" >3</td>\n",
              "      <td id=\"T_43700_row2_col1\" class=\"data row2 col1\" >Regular</td>\n",
              "      <td id=\"T_43700_row2_col2\" class=\"data row2 col2\" >Small</td>\n",
              "      <td id=\"T_43700_row2_col3\" class=\"data row2 col3\" >0</td>\n",
              "      <td id=\"T_43700_row2_col4\" class=\"data row2 col4\" >0</td>\n",
              "      <td id=\"T_43700_row2_col5\" class=\"data row2 col5\" >53</td>\n",
              "      <td id=\"T_43700_row2_col6\" class=\"data row2 col6\" >Not Fraud</td>\n",
              "      <td id=\"T_43700_row2_col7\" class=\"data row2 col7\" >0.000000</td>\n",
              "      <td id=\"T_43700_row2_col8\" class=\"data row2 col8\" >0.000000</td>\n",
              "      <td id=\"T_43700_row2_col9\" class=\"data row2 col9\" >1.000000</td>\n",
              "      <td id=\"T_43700_row2_col10\" class=\"data row2 col10\" >0.000000</td>\n",
              "      <td id=\"T_43700_row2_col11\" class=\"data row2 col11\" >0.000000</td>\n",
              "      <td id=\"T_43700_row2_col12\" class=\"data row2 col12\" >0.000000</td>\n",
              "      <td id=\"T_43700_row2_col13\" class=\"data row2 col13\" >0.000000</td>\n",
              "    </tr>\n",
              "    <tr>\n",
              "      <th id=\"T_43700_level0_row3\" class=\"row_heading level0 row3\" >3</th>\n",
              "      <td id=\"T_43700_row3_col0\" class=\"data row3 col0\" >4</td>\n",
              "      <td id=\"T_43700_row3_col1\" class=\"data row3 col1\" >Regular</td>\n",
              "      <td id=\"T_43700_row3_col2\" class=\"data row3 col2\" >Large</td>\n",
              "      <td id=\"T_43700_row3_col3\" class=\"data row3 col3\" >350</td>\n",
              "      <td id=\"T_43700_row3_col4\" class=\"data row3 col4\" >120</td>\n",
              "      <td id=\"T_43700_row3_col5\" class=\"data row3 col5\" >92</td>\n",
              "      <td id=\"T_43700_row3_col6\" class=\"data row3 col6\" >Fraud</td>\n",
              "      <td id=\"T_43700_row3_col7\" class=\"data row3 col7\" >0.000000</td>\n",
              "      <td id=\"T_43700_row3_col8\" class=\"data row3 col8\" >0.000000</td>\n",
              "      <td id=\"T_43700_row3_col9\" class=\"data row3 col9\" >0.000000</td>\n",
              "      <td id=\"T_43700_row3_col10\" class=\"data row3 col10\" >0.000000</td>\n",
              "      <td id=\"T_43700_row3_col11\" class=\"data row3 col11\" >0.000000</td>\n",
              "      <td id=\"T_43700_row3_col12\" class=\"data row3 col12\" >1.000000</td>\n",
              "      <td id=\"T_43700_row3_col13\" class=\"data row3 col13\" >0.000000</td>\n",
              "    </tr>\n",
              "    <tr>\n",
              "      <th id=\"T_43700_level0_row4\" class=\"row_heading level0 row4\" >4</th>\n",
              "      <td id=\"T_43700_row4_col0\" class=\"data row4 col0\" >5</td>\n",
              "      <td id=\"T_43700_row4_col1\" class=\"data row4 col1\" >Express</td>\n",
              "      <td id=\"T_43700_row4_col2\" class=\"data row4 col2\" >Medium</td>\n",
              "      <td id=\"T_43700_row4_col3\" class=\"data row4 col3\" >140</td>\n",
              "      <td id=\"T_43700_row4_col4\" class=\"data row4 col4\" >100</td>\n",
              "      <td id=\"T_43700_row4_col5\" class=\"data row4 col5\" >60</td>\n",
              "      <td id=\"T_43700_row4_col6\" class=\"data row4 col6\" >Fraud</td>\n",
              "      <td id=\"T_43700_row4_col7\" class=\"data row4 col7\" >0.000000</td>\n",
              "      <td id=\"T_43700_row4_col8\" class=\"data row4 col8\" >0.000000</td>\n",
              "      <td id=\"T_43700_row4_col9\" class=\"data row4 col9\" >0.000000</td>\n",
              "      <td id=\"T_43700_row4_col10\" class=\"data row4 col10\" >0.000000</td>\n",
              "      <td id=\"T_43700_row4_col11\" class=\"data row4 col11\" >0.000000</td>\n",
              "      <td id=\"T_43700_row4_col12\" class=\"data row4 col12\" >0.000000</td>\n",
              "      <td id=\"T_43700_row4_col13\" class=\"data row4 col13\" >1.000000</td>\n",
              "    </tr>\n",
              "  </tbody>\n",
              "</table>\n"
            ],
            "text/plain": [
              "<pandas.io.formats.style.Styler at 0x7e4de02b8460>"
            ]
          },
          "execution_count": 43,
          "metadata": {},
          "output_type": "execute_result"
        }
      ],
      "source": [
        "styled_df = new_dataset.head()\n",
        "styled_df = styled_df.style.set_table_styles([\n",
        "    {\"selector\": \"th\", \"props\": [(\"color\", 'black'), (\"background-color\", \"#FF00CC\")]}\n",
        "])\n",
        "styled_df"
      ]
    },
    {
      "cell_type": "markdown",
      "metadata": {
        "id": "92imk-z7P51w"
      },
      "source": [
        "> <span style='font-size:15px; font-family:Verdana;color: #FF00CC;'><b>Ordinal Encoding</b></span>\n",
        "\n"
      ]
    },
    {
      "cell_type": "code",
      "execution_count": null,
      "metadata": {
        "execution": {
          "iopub.execute_input": "2024-06-26T10:52:43.519554Z",
          "iopub.status.busy": "2024-06-26T10:52:43.519105Z",
          "iopub.status.idle": "2024-06-26T10:52:43.525023Z",
          "shell.execute_reply": "2024-06-26T10:52:43.523831Z",
          "shell.execute_reply.started": "2024-06-26T10:52:43.519523Z"
        },
        "id": "om9j2ru1P51w",
        "trusted": true
      },
      "outputs": [],
      "source": [
        "encode1 = OrdinalEncoder(categories=[Lane_order])\n",
        "encode2 = OrdinalEncoder(categories=[Vehicle_Dimensions_order])\n",
        "encode3 = OrdinalEncoder(categories=[Fraud_indicator_order])"
      ]
    },
    {
      "cell_type": "code",
      "execution_count": null,
      "metadata": {
        "execution": {
          "iopub.execute_input": "2024-06-26T10:52:50.737483Z",
          "iopub.status.busy": "2024-06-26T10:52:50.737094Z",
          "iopub.status.idle": "2024-06-26T10:52:50.75385Z",
          "shell.execute_reply": "2024-06-26T10:52:50.752467Z",
          "shell.execute_reply.started": "2024-06-26T10:52:50.737457Z"
        },
        "id": "KktKvgCIP51w",
        "outputId": "1c21a26e-e306-461c-cfca-bee5d5f8d0bc",
        "trusted": true
      },
      "outputs": [
        {
          "data": {
            "text/html": [
              "<style>#sk-container-id-1 {color: black;background-color: white;}#sk-container-id-1 pre{padding: 0;}#sk-container-id-1 div.sk-toggleable {background-color: white;}#sk-container-id-1 label.sk-toggleable__label {cursor: pointer;display: block;width: 100%;margin-bottom: 0;padding: 0.3em;box-sizing: border-box;text-align: center;}#sk-container-id-1 label.sk-toggleable__label-arrow:before {content: \"▸\";float: left;margin-right: 0.25em;color: #696969;}#sk-container-id-1 label.sk-toggleable__label-arrow:hover:before {color: black;}#sk-container-id-1 div.sk-estimator:hover label.sk-toggleable__label-arrow:before {color: black;}#sk-container-id-1 div.sk-toggleable__content {max-height: 0;max-width: 0;overflow: hidden;text-align: left;background-color: #f0f8ff;}#sk-container-id-1 div.sk-toggleable__content pre {margin: 0.2em;color: black;border-radius: 0.25em;background-color: #f0f8ff;}#sk-container-id-1 input.sk-toggleable__control:checked~div.sk-toggleable__content {max-height: 200px;max-width: 100%;overflow: auto;}#sk-container-id-1 input.sk-toggleable__control:checked~label.sk-toggleable__label-arrow:before {content: \"▾\";}#sk-container-id-1 div.sk-estimator input.sk-toggleable__control:checked~label.sk-toggleable__label {background-color: #d4ebff;}#sk-container-id-1 div.sk-label input.sk-toggleable__control:checked~label.sk-toggleable__label {background-color: #d4ebff;}#sk-container-id-1 input.sk-hidden--visually {border: 0;clip: rect(1px 1px 1px 1px);clip: rect(1px, 1px, 1px, 1px);height: 1px;margin: -1px;overflow: hidden;padding: 0;position: absolute;width: 1px;}#sk-container-id-1 div.sk-estimator {font-family: monospace;background-color: #f0f8ff;border: 1px dotted black;border-radius: 0.25em;box-sizing: border-box;margin-bottom: 0.5em;}#sk-container-id-1 div.sk-estimator:hover {background-color: #d4ebff;}#sk-container-id-1 div.sk-parallel-item::after {content: \"\";width: 100%;border-bottom: 1px solid gray;flex-grow: 1;}#sk-container-id-1 div.sk-label:hover label.sk-toggleable__label {background-color: #d4ebff;}#sk-container-id-1 div.sk-serial::before {content: \"\";position: absolute;border-left: 1px solid gray;box-sizing: border-box;top: 0;bottom: 0;left: 50%;z-index: 0;}#sk-container-id-1 div.sk-serial {display: flex;flex-direction: column;align-items: center;background-color: white;padding-right: 0.2em;padding-left: 0.2em;position: relative;}#sk-container-id-1 div.sk-item {position: relative;z-index: 1;}#sk-container-id-1 div.sk-parallel {display: flex;align-items: stretch;justify-content: center;background-color: white;position: relative;}#sk-container-id-1 div.sk-item::before, #sk-container-id-1 div.sk-parallel-item::before {content: \"\";position: absolute;border-left: 1px solid gray;box-sizing: border-box;top: 0;bottom: 0;left: 50%;z-index: -1;}#sk-container-id-1 div.sk-parallel-item {display: flex;flex-direction: column;z-index: 1;position: relative;background-color: white;}#sk-container-id-1 div.sk-parallel-item:first-child::after {align-self: flex-end;width: 50%;}#sk-container-id-1 div.sk-parallel-item:last-child::after {align-self: flex-start;width: 50%;}#sk-container-id-1 div.sk-parallel-item:only-child::after {width: 0;}#sk-container-id-1 div.sk-dashed-wrapped {border: 1px dashed gray;margin: 0 0.4em 0.5em 0.4em;box-sizing: border-box;padding-bottom: 0.4em;background-color: white;}#sk-container-id-1 div.sk-label label {font-family: monospace;font-weight: bold;display: inline-block;line-height: 1.2em;}#sk-container-id-1 div.sk-label-container {text-align: center;}#sk-container-id-1 div.sk-container {/* jupyter's `normalize.less` sets `[hidden] { display: none; }` but bootstrap.min.css set `[hidden] { display: none !important; }` so we also need the `!important` here to be able to override the default hidden behavior on the sphinx rendered scikit-learn.org. See: https://github.com/scikit-learn/scikit-learn/issues/21755 */display: inline-block !important;position: relative;}#sk-container-id-1 div.sk-text-repr-fallback {display: none;}</style><div id=\"sk-container-id-1\" class=\"sk-top-container\"><div class=\"sk-text-repr-fallback\"><pre>OrdinalEncoder(categories=[[&#x27;Not Fraud&#x27;, &#x27;Fraud&#x27;]])</pre><b>In a Jupyter environment, please rerun this cell to show the HTML representation or trust the notebook. <br />On GitHub, the HTML representation is unable to render, please try loading this page with nbviewer.org.</b></div><div class=\"sk-container\" hidden><div class=\"sk-item\"><div class=\"sk-estimator sk-toggleable\"><input class=\"sk-toggleable__control sk-hidden--visually\" id=\"sk-estimator-id-1\" type=\"checkbox\" checked><label for=\"sk-estimator-id-1\" class=\"sk-toggleable__label sk-toggleable__label-arrow\">OrdinalEncoder</label><div class=\"sk-toggleable__content\"><pre>OrdinalEncoder(categories=[[&#x27;Not Fraud&#x27;, &#x27;Fraud&#x27;]])</pre></div></div></div></div></div>"
            ],
            "text/plain": [
              "OrdinalEncoder(categories=[['Not Fraud', 'Fraud']])"
            ]
          },
          "execution_count": 45,
          "metadata": {},
          "output_type": "execute_result"
        }
      ],
      "source": [
        "encode1.fit(new_dataset[['Lane_Type']])\n",
        "encode2.fit(new_dataset[['Vehicle_Dimensions']])\n",
        "encode3.fit(new_dataset[['Fraud_indicator']])"
      ]
    },
    {
      "cell_type": "code",
      "execution_count": null,
      "metadata": {
        "execution": {
          "iopub.execute_input": "2024-06-26T10:52:58.571711Z",
          "iopub.status.busy": "2024-06-26T10:52:58.571187Z",
          "iopub.status.idle": "2024-06-26T10:52:58.587254Z",
          "shell.execute_reply": "2024-06-26T10:52:58.58593Z",
          "shell.execute_reply.started": "2024-06-26T10:52:58.571678Z"
        },
        "id": "btsfS1gmP51w",
        "trusted": true
      },
      "outputs": [],
      "source": [
        "new_lane=pd.DataFrame(encode1.transform(new_dataset[['Lane_Type']]))\n",
        "new_dimensuions=pd.DataFrame(encode2.transform(new_dataset[['Vehicle_Dimensions']]))\n",
        "new_fraud_indicator=pd.DataFrame(encode3.transform(new_dataset[['Fraud_indicator']]))"
      ]
    },
    {
      "cell_type": "code",
      "execution_count": null,
      "metadata": {
        "execution": {
          "iopub.execute_input": "2024-06-26T10:53:05.787969Z",
          "iopub.status.busy": "2024-06-26T10:53:05.787569Z",
          "iopub.status.idle": "2024-06-26T10:53:05.796933Z",
          "shell.execute_reply": "2024-06-26T10:53:05.795259Z",
          "shell.execute_reply.started": "2024-06-26T10:53:05.787938Z"
        },
        "id": "dTcPrLNMP51w",
        "trusted": true
      },
      "outputs": [],
      "source": [
        "new_dataset['Lane_Type']= new_lane\n",
        "new_dataset['Vehicle_Dimensions']= new_dimensuions\n",
        "new_dataset['Fraud_indicator']=new_fraud_indicator"
      ]
    },
    {
      "cell_type": "code",
      "execution_count": null,
      "metadata": {
        "execution": {
          "iopub.execute_input": "2024-06-26T10:53:20.688822Z",
          "iopub.status.busy": "2024-06-26T10:53:20.68842Z",
          "iopub.status.idle": "2024-06-26T10:53:20.704496Z",
          "shell.execute_reply": "2024-06-26T10:53:20.702937Z",
          "shell.execute_reply.started": "2024-06-26T10:53:20.688792Z"
        },
        "id": "Z2RCCU3oP51w",
        "outputId": "4555cee7-278e-42a2-acc8-0f018219d5f3",
        "trusted": true
      },
      "outputs": [
        {
          "data": {
            "text/html": [
              "<style type=\"text/css\">\n",
              "#T_4e43c th {\n",
              "  color: black;\n",
              "  background-color: #FF00CC;\n",
              "}\n",
              "</style>\n",
              "<table id=\"T_4e43c\">\n",
              "  <thead>\n",
              "    <tr>\n",
              "      <th class=\"blank level0\" >&nbsp;</th>\n",
              "      <th id=\"T_4e43c_level0_col0\" class=\"col_heading level0 col0\" >Transaction_ID</th>\n",
              "      <th id=\"T_4e43c_level0_col1\" class=\"col_heading level0 col1\" >Lane_Type</th>\n",
              "      <th id=\"T_4e43c_level0_col2\" class=\"col_heading level0 col2\" >Vehicle_Dimensions</th>\n",
              "      <th id=\"T_4e43c_level0_col3\" class=\"col_heading level0 col3\" >Transaction_Amount</th>\n",
              "      <th id=\"T_4e43c_level0_col4\" class=\"col_heading level0 col4\" >Amount_paid</th>\n",
              "      <th id=\"T_4e43c_level0_col5\" class=\"col_heading level0 col5\" >Vehicle_Speed</th>\n",
              "      <th id=\"T_4e43c_level0_col6\" class=\"col_heading level0 col6\" >Fraud_indicator</th>\n",
              "      <th id=\"T_4e43c_level0_col7\" class=\"col_heading level0 col7\" >Bus </th>\n",
              "      <th id=\"T_4e43c_level0_col8\" class=\"col_heading level0 col8\" >Car</th>\n",
              "      <th id=\"T_4e43c_level0_col9\" class=\"col_heading level0 col9\" >Motorcycle</th>\n",
              "      <th id=\"T_4e43c_level0_col10\" class=\"col_heading level0 col10\" >SUV</th>\n",
              "      <th id=\"T_4e43c_level0_col11\" class=\"col_heading level0 col11\" >Sedan</th>\n",
              "      <th id=\"T_4e43c_level0_col12\" class=\"col_heading level0 col12\" >Truck</th>\n",
              "      <th id=\"T_4e43c_level0_col13\" class=\"col_heading level0 col13\" >Van</th>\n",
              "    </tr>\n",
              "  </thead>\n",
              "  <tbody>\n",
              "    <tr>\n",
              "      <th id=\"T_4e43c_level0_row0\" class=\"row_heading level0 row0\" >0</th>\n",
              "      <td id=\"T_4e43c_row0_col0\" class=\"data row0 col0\" >1</td>\n",
              "      <td id=\"T_4e43c_row0_col1\" class=\"data row0 col1\" >0.000000</td>\n",
              "      <td id=\"T_4e43c_row0_col2\" class=\"data row0 col2\" >0.000000</td>\n",
              "      <td id=\"T_4e43c_row0_col3\" class=\"data row0 col3\" >350</td>\n",
              "      <td id=\"T_4e43c_row0_col4\" class=\"data row0 col4\" >120</td>\n",
              "      <td id=\"T_4e43c_row0_col5\" class=\"data row0 col5\" >65</td>\n",
              "      <td id=\"T_4e43c_row0_col6\" class=\"data row0 col6\" >1.000000</td>\n",
              "      <td id=\"T_4e43c_row0_col7\" class=\"data row0 col7\" >1.000000</td>\n",
              "      <td id=\"T_4e43c_row0_col8\" class=\"data row0 col8\" >0.000000</td>\n",
              "      <td id=\"T_4e43c_row0_col9\" class=\"data row0 col9\" >0.000000</td>\n",
              "      <td id=\"T_4e43c_row0_col10\" class=\"data row0 col10\" >0.000000</td>\n",
              "      <td id=\"T_4e43c_row0_col11\" class=\"data row0 col11\" >0.000000</td>\n",
              "      <td id=\"T_4e43c_row0_col12\" class=\"data row0 col12\" >0.000000</td>\n",
              "      <td id=\"T_4e43c_row0_col13\" class=\"data row0 col13\" >0.000000</td>\n",
              "    </tr>\n",
              "    <tr>\n",
              "      <th id=\"T_4e43c_level0_row1\" class=\"row_heading level0 row1\" >1</th>\n",
              "      <td id=\"T_4e43c_row1_col0\" class=\"data row1 col0\" >2</td>\n",
              "      <td id=\"T_4e43c_row1_col1\" class=\"data row1 col1\" >1.000000</td>\n",
              "      <td id=\"T_4e43c_row1_col2\" class=\"data row1 col2\" >1.000000</td>\n",
              "      <td id=\"T_4e43c_row1_col3\" class=\"data row1 col3\" >120</td>\n",
              "      <td id=\"T_4e43c_row1_col4\" class=\"data row1 col4\" >100</td>\n",
              "      <td id=\"T_4e43c_row1_col5\" class=\"data row1 col5\" >78</td>\n",
              "      <td id=\"T_4e43c_row1_col6\" class=\"data row1 col6\" >1.000000</td>\n",
              "      <td id=\"T_4e43c_row1_col7\" class=\"data row1 col7\" >0.000000</td>\n",
              "      <td id=\"T_4e43c_row1_col8\" class=\"data row1 col8\" >1.000000</td>\n",
              "      <td id=\"T_4e43c_row1_col9\" class=\"data row1 col9\" >0.000000</td>\n",
              "      <td id=\"T_4e43c_row1_col10\" class=\"data row1 col10\" >0.000000</td>\n",
              "      <td id=\"T_4e43c_row1_col11\" class=\"data row1 col11\" >0.000000</td>\n",
              "      <td id=\"T_4e43c_row1_col12\" class=\"data row1 col12\" >0.000000</td>\n",
              "      <td id=\"T_4e43c_row1_col13\" class=\"data row1 col13\" >0.000000</td>\n",
              "    </tr>\n",
              "    <tr>\n",
              "      <th id=\"T_4e43c_level0_row2\" class=\"row_heading level0 row2\" >2</th>\n",
              "      <td id=\"T_4e43c_row2_col0\" class=\"data row2 col0\" >3</td>\n",
              "      <td id=\"T_4e43c_row2_col1\" class=\"data row2 col1\" >1.000000</td>\n",
              "      <td id=\"T_4e43c_row2_col2\" class=\"data row2 col2\" >1.000000</td>\n",
              "      <td id=\"T_4e43c_row2_col3\" class=\"data row2 col3\" >0</td>\n",
              "      <td id=\"T_4e43c_row2_col4\" class=\"data row2 col4\" >0</td>\n",
              "      <td id=\"T_4e43c_row2_col5\" class=\"data row2 col5\" >53</td>\n",
              "      <td id=\"T_4e43c_row2_col6\" class=\"data row2 col6\" >0.000000</td>\n",
              "      <td id=\"T_4e43c_row2_col7\" class=\"data row2 col7\" >0.000000</td>\n",
              "      <td id=\"T_4e43c_row2_col8\" class=\"data row2 col8\" >0.000000</td>\n",
              "      <td id=\"T_4e43c_row2_col9\" class=\"data row2 col9\" >1.000000</td>\n",
              "      <td id=\"T_4e43c_row2_col10\" class=\"data row2 col10\" >0.000000</td>\n",
              "      <td id=\"T_4e43c_row2_col11\" class=\"data row2 col11\" >0.000000</td>\n",
              "      <td id=\"T_4e43c_row2_col12\" class=\"data row2 col12\" >0.000000</td>\n",
              "      <td id=\"T_4e43c_row2_col13\" class=\"data row2 col13\" >0.000000</td>\n",
              "    </tr>\n",
              "    <tr>\n",
              "      <th id=\"T_4e43c_level0_row3\" class=\"row_heading level0 row3\" >3</th>\n",
              "      <td id=\"T_4e43c_row3_col0\" class=\"data row3 col0\" >4</td>\n",
              "      <td id=\"T_4e43c_row3_col1\" class=\"data row3 col1\" >1.000000</td>\n",
              "      <td id=\"T_4e43c_row3_col2\" class=\"data row3 col2\" >0.000000</td>\n",
              "      <td id=\"T_4e43c_row3_col3\" class=\"data row3 col3\" >350</td>\n",
              "      <td id=\"T_4e43c_row3_col4\" class=\"data row3 col4\" >120</td>\n",
              "      <td id=\"T_4e43c_row3_col5\" class=\"data row3 col5\" >92</td>\n",
              "      <td id=\"T_4e43c_row3_col6\" class=\"data row3 col6\" >1.000000</td>\n",
              "      <td id=\"T_4e43c_row3_col7\" class=\"data row3 col7\" >0.000000</td>\n",
              "      <td id=\"T_4e43c_row3_col8\" class=\"data row3 col8\" >0.000000</td>\n",
              "      <td id=\"T_4e43c_row3_col9\" class=\"data row3 col9\" >0.000000</td>\n",
              "      <td id=\"T_4e43c_row3_col10\" class=\"data row3 col10\" >0.000000</td>\n",
              "      <td id=\"T_4e43c_row3_col11\" class=\"data row3 col11\" >0.000000</td>\n",
              "      <td id=\"T_4e43c_row3_col12\" class=\"data row3 col12\" >1.000000</td>\n",
              "      <td id=\"T_4e43c_row3_col13\" class=\"data row3 col13\" >0.000000</td>\n",
              "    </tr>\n",
              "    <tr>\n",
              "      <th id=\"T_4e43c_level0_row4\" class=\"row_heading level0 row4\" >4</th>\n",
              "      <td id=\"T_4e43c_row4_col0\" class=\"data row4 col0\" >5</td>\n",
              "      <td id=\"T_4e43c_row4_col1\" class=\"data row4 col1\" >0.000000</td>\n",
              "      <td id=\"T_4e43c_row4_col2\" class=\"data row4 col2\" >2.000000</td>\n",
              "      <td id=\"T_4e43c_row4_col3\" class=\"data row4 col3\" >140</td>\n",
              "      <td id=\"T_4e43c_row4_col4\" class=\"data row4 col4\" >100</td>\n",
              "      <td id=\"T_4e43c_row4_col5\" class=\"data row4 col5\" >60</td>\n",
              "      <td id=\"T_4e43c_row4_col6\" class=\"data row4 col6\" >1.000000</td>\n",
              "      <td id=\"T_4e43c_row4_col7\" class=\"data row4 col7\" >0.000000</td>\n",
              "      <td id=\"T_4e43c_row4_col8\" class=\"data row4 col8\" >0.000000</td>\n",
              "      <td id=\"T_4e43c_row4_col9\" class=\"data row4 col9\" >0.000000</td>\n",
              "      <td id=\"T_4e43c_row4_col10\" class=\"data row4 col10\" >0.000000</td>\n",
              "      <td id=\"T_4e43c_row4_col11\" class=\"data row4 col11\" >0.000000</td>\n",
              "      <td id=\"T_4e43c_row4_col12\" class=\"data row4 col12\" >0.000000</td>\n",
              "      <td id=\"T_4e43c_row4_col13\" class=\"data row4 col13\" >1.000000</td>\n",
              "    </tr>\n",
              "  </tbody>\n",
              "</table>\n"
            ],
            "text/plain": [
              "<pandas.io.formats.style.Styler at 0x7e4de02ba2f0>"
            ]
          },
          "execution_count": 48,
          "metadata": {},
          "output_type": "execute_result"
        }
      ],
      "source": [
        "styled_df = new_dataset.head()\n",
        "styled_df = styled_df.style.set_table_styles([\n",
        "    {\"selector\": \"th\", \"props\": [(\"color\", 'black'), (\"background-color\", \"#FF00CC\")]}\n",
        "])\n",
        "styled_df"
      ]
    },
    {
      "cell_type": "markdown",
      "metadata": {
        "id": "BOzAy9EfP51w"
      },
      "source": [
        "> <span style='font-size:15px; font-family:Verdana;color: #FF00CC;'><b>Handling Missing values</b></span>"
      ]
    },
    {
      "cell_type": "code",
      "execution_count": null,
      "metadata": {
        "execution": {
          "iopub.execute_input": "2024-06-26T10:54:20.288363Z",
          "iopub.status.busy": "2024-06-26T10:54:20.287887Z",
          "iopub.status.idle": "2024-06-26T10:54:20.299355Z",
          "shell.execute_reply": "2024-06-26T10:54:20.296808Z",
          "shell.execute_reply.started": "2024-06-26T10:54:20.288331Z"
        },
        "id": "WDaWvDCpP51x",
        "trusted": true
      },
      "outputs": [],
      "source": [
        "# handlling missing values in dataset with dropping method\n",
        "data = new_dataset.dropna(how='any')"
      ]
    },
    {
      "cell_type": "code",
      "execution_count": null,
      "metadata": {
        "execution": {
          "iopub.execute_input": "2024-06-26T10:54:30.269234Z",
          "iopub.status.busy": "2024-06-26T10:54:30.26882Z",
          "iopub.status.idle": "2024-06-26T10:54:30.281474Z",
          "shell.execute_reply": "2024-06-26T10:54:30.279659Z",
          "shell.execute_reply.started": "2024-06-26T10:54:30.269202Z"
        },
        "id": "Tapd79xmP51x",
        "outputId": "6965cc1d-15c8-4524-a55b-7d54f5b27ca1",
        "trusted": true
      },
      "outputs": [
        {
          "data": {
            "text/plain": [
              "Transaction_ID        0\n",
              "Lane_Type             0\n",
              "Vehicle_Dimensions    0\n",
              "Transaction_Amount    0\n",
              "Amount_paid           0\n",
              "Vehicle_Speed         0\n",
              "Fraud_indicator       0\n",
              "Bus                   0\n",
              "Car                   0\n",
              "Motorcycle            0\n",
              "SUV                   0\n",
              "Sedan                 0\n",
              "Truck                 0\n",
              "Van                   0\n",
              "dtype: int64"
            ]
          },
          "execution_count": 50,
          "metadata": {},
          "output_type": "execute_result"
        }
      ],
      "source": [
        "# checking the missing values of each column\n",
        "data.isnull().sum()"
      ]
    },
    {
      "cell_type": "markdown",
      "metadata": {
        "id": "dQMfk7TYP51x"
      },
      "source": [
        "dristibution of legit and fraud transactions"
      ]
    },
    {
      "cell_type": "markdown",
      "metadata": {
        "id": "zfMQYblsP51x"
      },
      "source": [
        "\n",
        "<div style=\"text-align: center; background:  #FF00CC; font-family: 'Trebuchet MS', Arial, sans-serif; color: white; padding: 15px; font-size: 26px; font-weight: bold; line-height: 1; border-radius: 50% 0 50% 0 / 40px; margin-bottom: 20px; box-shadow: 0px 4px 6px rgba(0, 0, 0, 0.1);\">dristibution of legit and fraud transactions</div>"
      ]
    },
    {
      "cell_type": "code",
      "execution_count": null,
      "metadata": {
        "execution": {
          "iopub.execute_input": "2024-06-26T10:59:54.391935Z",
          "iopub.status.busy": "2024-06-26T10:59:54.391182Z",
          "iopub.status.idle": "2024-06-26T10:59:54.402518Z",
          "shell.execute_reply": "2024-06-26T10:59:54.401115Z",
          "shell.execute_reply.started": "2024-06-26T10:59:54.391885Z"
        },
        "id": "YpDeBa3yP51x",
        "outputId": "a8d26497-c6d0-46d8-b0b7-bfbf883156d0",
        "trusted": true
      },
      "outputs": [
        {
          "name": "stderr",
          "output_type": "stream",
          "text": [
            "/tmp/ipykernel_33/3939681688.py:1: FutureWarning: Downcasting behavior in `replace` is deprecated and will be removed in a future version. To retain the old behavior, explicitly call `result.infer_objects(copy=False)`. To opt-in to the future behavior, set `pd.set_option('future.no_silent_downcasting', True)`\n",
            "  data['Fraud_indicator'] = data['Fraud_indicator'].replace({'Non-Fraud':0 , 'Fraud':1})\n"
          ]
        }
      ],
      "source": [
        "data['Fraud_indicator'] = data['Fraud_indicator'].replace({'Non-Fraud':0 , 'Fraud':1})\n"
      ]
    },
    {
      "cell_type": "code",
      "execution_count": null,
      "metadata": {
        "execution": {
          "iopub.execute_input": "2024-06-26T10:59:54.821318Z",
          "iopub.status.busy": "2024-06-26T10:59:54.8209Z",
          "iopub.status.idle": "2024-06-26T10:59:54.834286Z",
          "shell.execute_reply": "2024-06-26T10:59:54.832538Z",
          "shell.execute_reply.started": "2024-06-26T10:59:54.821264Z"
        },
        "id": "d_5qcq0aP51x",
        "outputId": "6de138ed-d493-4bd0-a5b1-bd0d170339ab",
        "trusted": true
      },
      "outputs": [
        {
          "data": {
            "text/plain": [
              "Fraud_indicator\n",
              "0    4017\n",
              "1     983\n",
              "Name: count, dtype: int64"
            ]
          },
          "execution_count": 56,
          "metadata": {},
          "output_type": "execute_result"
        }
      ],
      "source": [
        "data['Fraud_indicator'].value_counts()"
      ]
    },
    {
      "cell_type": "markdown",
      "metadata": {
        "id": "cODSpUnzP511"
      },
      "source": [
        "<h2 style= \"background-color: #222;\n",
        "            padding: 10px;\n",
        "            font: bold 26px tahoma;\n",
        "            text-align:center;\n",
        "            color:gold;\n",
        "            border: 2px solid tomato;\n",
        "            border-radius: 5px;\">   \n",
        "    😍🥰Highly Unblanced dataset🤩📊\n",
        "</h2>\n",
        "\n",
        "<div style=\"border: 2px solid #1E90FF; border-radius: 10px; margin-top: 10px; width:50%\">\n",
        "    <ol style=\"list-style-type: none; padding: 10px;\">\n",
        "        <li>0-> normal transaction</li>\n",
        "        <li>1-> Fraud transaction</li>\n",
        "    </ol>\n",
        "</div>"
      ]
    },
    {
      "cell_type": "code",
      "execution_count": null,
      "metadata": {
        "execution": {
          "iopub.execute_input": "2024-06-26T11:04:54.434382Z",
          "iopub.status.busy": "2024-06-26T11:04:54.433867Z",
          "iopub.status.idle": "2024-06-26T11:04:54.44527Z",
          "shell.execute_reply": "2024-06-26T11:04:54.444042Z",
          "shell.execute_reply.started": "2024-06-26T11:04:54.434343Z"
        },
        "id": "eg2yWC7vP512",
        "trusted": true
      },
      "outputs": [],
      "source": [
        "# separating data for analysis\n",
        "legit = data[data.Fraud_indicator == 0]\n",
        "fraud = data[data.Fraud_indicator == 1]"
      ]
    },
    {
      "cell_type": "code",
      "execution_count": null,
      "metadata": {
        "execution": {
          "iopub.execute_input": "2024-06-26T11:05:03.304883Z",
          "iopub.status.busy": "2024-06-26T11:05:03.304483Z",
          "iopub.status.idle": "2024-06-26T11:05:03.311488Z",
          "shell.execute_reply": "2024-06-26T11:05:03.309665Z",
          "shell.execute_reply.started": "2024-06-26T11:05:03.304852Z"
        },
        "id": "N8PRP98yP512",
        "outputId": "bfeca64e-48ea-472f-cdfe-463040c13dd6",
        "trusted": true
      },
      "outputs": [
        {
          "name": "stdout",
          "output_type": "stream",
          "text": [
            "(4017, 14)\n",
            "(983, 14)\n"
          ]
        }
      ],
      "source": [
        "print(legit.shape)\n",
        "print(fraud.shape)"
      ]
    },
    {
      "cell_type": "code",
      "execution_count": null,
      "metadata": {
        "execution": {
          "iopub.execute_input": "2024-06-26T11:05:12.968102Z",
          "iopub.status.busy": "2024-06-26T11:05:12.967696Z",
          "iopub.status.idle": "2024-06-26T11:05:12.981623Z",
          "shell.execute_reply": "2024-06-26T11:05:12.979756Z",
          "shell.execute_reply.started": "2024-06-26T11:05:12.968075Z"
        },
        "id": "Q8hSnQ83P512",
        "outputId": "f5e64922-5074-4409-ed24-226c3175ba99",
        "trusted": true
      },
      "outputs": [
        {
          "data": {
            "text/plain": [
              "count    4017.000000\n",
              "mean      153.110530\n",
              "std       114.435986\n",
              "min         0.000000\n",
              "25%        90.000000\n",
              "50%       125.000000\n",
              "75%       290.000000\n",
              "max       350.000000\n",
              "Name: Transaction_Amount, dtype: float64"
            ]
          },
          "execution_count": 60,
          "metadata": {},
          "output_type": "execute_result"
        }
      ],
      "source": [
        "#statistical method of the data\n",
        "legit.Transaction_Amount.describe()"
      ]
    },
    {
      "cell_type": "code",
      "execution_count": null,
      "metadata": {
        "execution": {
          "iopub.execute_input": "2024-06-26T11:05:21.423206Z",
          "iopub.status.busy": "2024-06-26T11:05:21.422656Z",
          "iopub.status.idle": "2024-06-26T11:05:21.436441Z",
          "shell.execute_reply": "2024-06-26T11:05:21.434617Z",
          "shell.execute_reply.started": "2024-06-26T11:05:21.423168Z"
        },
        "id": "2VkfnZOEP512",
        "outputId": "cee80ad1-34e8-4c7a-a607-c9df7e1c6334",
        "trusted": true
      },
      "outputs": [
        {
          "data": {
            "text/plain": [
              "count    983.000000\n",
              "mean     193.555443\n",
              "std       97.465586\n",
              "min       60.000000\n",
              "25%      120.000000\n",
              "50%      145.000000\n",
              "75%      300.000000\n",
              "max      350.000000\n",
              "Name: Transaction_Amount, dtype: float64"
            ]
          },
          "execution_count": 61,
          "metadata": {},
          "output_type": "execute_result"
        }
      ],
      "source": [
        "fraud.Transaction_Amount.describe()"
      ]
    },
    {
      "cell_type": "code",
      "execution_count": null,
      "metadata": {
        "execution": {
          "iopub.execute_input": "2024-06-26T11:05:55.461142Z",
          "iopub.status.busy": "2024-06-26T11:05:55.460692Z",
          "iopub.status.idle": "2024-06-26T11:05:55.487665Z",
          "shell.execute_reply": "2024-06-26T11:05:55.486287Z",
          "shell.execute_reply.started": "2024-06-26T11:05:55.461108Z"
        },
        "id": "4Hc7_tzQP512",
        "outputId": "ed2fd65a-e05e-4ad9-e649-327ec30947f7",
        "trusted": true
      },
      "outputs": [
        {
          "data": {
            "text/html": [
              "<div>\n",
              "<style scoped>\n",
              "    .dataframe tbody tr th:only-of-type {\n",
              "        vertical-align: middle;\n",
              "    }\n",
              "\n",
              "    .dataframe tbody tr th {\n",
              "        vertical-align: top;\n",
              "    }\n",
              "\n",
              "    .dataframe thead th {\n",
              "        text-align: right;\n",
              "    }\n",
              "</style>\n",
              "<table border=\"1\" class=\"dataframe\">\n",
              "  <thead>\n",
              "    <tr style=\"text-align: right;\">\n",
              "      <th></th>\n",
              "      <th>Transaction_ID</th>\n",
              "      <th>Lane_Type</th>\n",
              "      <th>Vehicle_Dimensions</th>\n",
              "      <th>Transaction_Amount</th>\n",
              "      <th>Amount_paid</th>\n",
              "      <th>Vehicle_Speed</th>\n",
              "      <th>Bus</th>\n",
              "      <th>Car</th>\n",
              "      <th>Motorcycle</th>\n",
              "      <th>SUV</th>\n",
              "      <th>Sedan</th>\n",
              "      <th>Truck</th>\n",
              "      <th>Van</th>\n",
              "    </tr>\n",
              "    <tr>\n",
              "      <th>Fraud_indicator</th>\n",
              "      <th></th>\n",
              "      <th></th>\n",
              "      <th></th>\n",
              "      <th></th>\n",
              "      <th></th>\n",
              "      <th></th>\n",
              "      <th></th>\n",
              "      <th></th>\n",
              "      <th></th>\n",
              "      <th></th>\n",
              "      <th></th>\n",
              "      <th></th>\n",
              "      <th></th>\n",
              "    </tr>\n",
              "  </thead>\n",
              "  <tbody>\n",
              "    <tr>\n",
              "      <th>0</th>\n",
              "      <td>2618.246950</td>\n",
              "      <td>0.588748</td>\n",
              "      <td>0.865820</td>\n",
              "      <td>153.110530</td>\n",
              "      <td>153.11053</td>\n",
              "      <td>67.731392</td>\n",
              "      <td>0.134180</td>\n",
              "      <td>0.147374</td>\n",
              "      <td>0.177745</td>\n",
              "      <td>0.131939</td>\n",
              "      <td>0.137665</td>\n",
              "      <td>0.138412</td>\n",
              "      <td>0.132686</td>\n",
              "    </tr>\n",
              "    <tr>\n",
              "      <th>1</th>\n",
              "      <td>2019.330621</td>\n",
              "      <td>0.501526</td>\n",
              "      <td>0.819939</td>\n",
              "      <td>193.555443</td>\n",
              "      <td>92.83825</td>\n",
              "      <td>68.340793</td>\n",
              "      <td>0.180061</td>\n",
              "      <td>0.124110</td>\n",
              "      <td>0.000000</td>\n",
              "      <td>0.187182</td>\n",
              "      <td>0.163784</td>\n",
              "      <td>0.160732</td>\n",
              "      <td>0.184130</td>\n",
              "    </tr>\n",
              "  </tbody>\n",
              "</table>\n",
              "</div>"
            ],
            "text/plain": [
              "                 Transaction_ID  Lane_Type  Vehicle_Dimensions  \\\n",
              "Fraud_indicator                                                  \n",
              "0                   2618.246950   0.588748            0.865820   \n",
              "1                   2019.330621   0.501526            0.819939   \n",
              "\n",
              "                 Transaction_Amount  Amount_paid  Vehicle_Speed      Bus   \\\n",
              "Fraud_indicator                                                             \n",
              "0                        153.110530    153.11053      67.731392  0.134180   \n",
              "1                        193.555443     92.83825      68.340793  0.180061   \n",
              "\n",
              "                      Car  Motorcycle       SUV     Sedan     Truck       Van  \n",
              "Fraud_indicator                                                                \n",
              "0                0.147374    0.177745  0.131939  0.137665  0.138412  0.132686  \n",
              "1                0.124110    0.000000  0.187182  0.163784  0.160732  0.184130  "
            ]
          },
          "execution_count": 63,
          "metadata": {},
          "output_type": "execute_result"
        }
      ],
      "source": [
        "#compare the values for both transactions\n",
        "data.groupby('Fraud_indicator').mean()"
      ]
    },
    {
      "cell_type": "markdown",
      "metadata": {
        "id": "yLDHfoE6P512"
      },
      "source": [
        "<h2 style= \"background-color: #222;\n",
        "            padding: 10px;\n",
        "            font: bold 26px tahoma;\n",
        "            text-align:center;\n",
        "            color:gold;\n",
        "            border: 2px solid tomato;\n",
        "            border-radius: 5px;\">   \n",
        "    😍Under Sampling📊\n",
        "</h2>\n",
        "\n"
      ]
    },
    {
      "cell_type": "code",
      "execution_count": null,
      "metadata": {
        "execution": {
          "iopub.execute_input": "2024-06-26T11:07:33.897131Z",
          "iopub.status.busy": "2024-06-26T11:07:33.895323Z",
          "iopub.status.idle": "2024-06-26T11:07:33.905184Z",
          "shell.execute_reply": "2024-06-26T11:07:33.903576Z",
          "shell.execute_reply.started": "2024-06-26T11:07:33.897075Z"
        },
        "id": "lM8N6yuyP513",
        "trusted": true
      },
      "outputs": [],
      "source": [
        "legit_sample = legit.sample(n=983)"
      ]
    },
    {
      "cell_type": "markdown",
      "metadata": {
        "id": "49IAKA2OP513"
      },
      "source": [
        "> <span style='font-size:15px; font-family:Verdana;color: #FF00CC;'><b>Concatenating two DataFrames</b></span>"
      ]
    },
    {
      "cell_type": "code",
      "execution_count": null,
      "metadata": {
        "execution": {
          "iopub.execute_input": "2024-06-26T11:08:21.681018Z",
          "iopub.status.busy": "2024-06-26T11:08:21.680586Z",
          "iopub.status.idle": "2024-06-26T11:08:21.688739Z",
          "shell.execute_reply": "2024-06-26T11:08:21.687346Z",
          "shell.execute_reply.started": "2024-06-26T11:08:21.680988Z"
        },
        "id": "-hk_pSYlP513",
        "trusted": true
      },
      "outputs": [],
      "source": [
        "new_dataset = pd.concat([legit_sample, fraud], axis=0)"
      ]
    },
    {
      "cell_type": "code",
      "execution_count": null,
      "metadata": {
        "execution": {
          "iopub.execute_input": "2024-06-26T11:08:27.989135Z",
          "iopub.status.busy": "2024-06-26T11:08:27.988743Z",
          "iopub.status.idle": "2024-06-26T11:08:28.012215Z",
          "shell.execute_reply": "2024-06-26T11:08:28.010603Z",
          "shell.execute_reply.started": "2024-06-26T11:08:27.989106Z"
        },
        "id": "HOIze6SeP513",
        "outputId": "90e1c584-d738-4fb1-b951-13314d71e0d0",
        "trusted": true
      },
      "outputs": [
        {
          "data": {
            "text/html": [
              "<div>\n",
              "<style scoped>\n",
              "    .dataframe tbody tr th:only-of-type {\n",
              "        vertical-align: middle;\n",
              "    }\n",
              "\n",
              "    .dataframe tbody tr th {\n",
              "        vertical-align: top;\n",
              "    }\n",
              "\n",
              "    .dataframe thead th {\n",
              "        text-align: right;\n",
              "    }\n",
              "</style>\n",
              "<table border=\"1\" class=\"dataframe\">\n",
              "  <thead>\n",
              "    <tr style=\"text-align: right;\">\n",
              "      <th></th>\n",
              "      <th>Transaction_ID</th>\n",
              "      <th>Lane_Type</th>\n",
              "      <th>Vehicle_Dimensions</th>\n",
              "      <th>Transaction_Amount</th>\n",
              "      <th>Amount_paid</th>\n",
              "      <th>Vehicle_Speed</th>\n",
              "      <th>Fraud_indicator</th>\n",
              "      <th>Bus</th>\n",
              "      <th>Car</th>\n",
              "      <th>Motorcycle</th>\n",
              "      <th>SUV</th>\n",
              "      <th>Sedan</th>\n",
              "      <th>Truck</th>\n",
              "      <th>Van</th>\n",
              "    </tr>\n",
              "  </thead>\n",
              "  <tbody>\n",
              "    <tr>\n",
              "      <th>2320</th>\n",
              "      <td>2321</td>\n",
              "      <td>0.0</td>\n",
              "      <td>0.0</td>\n",
              "      <td>330</td>\n",
              "      <td>330</td>\n",
              "      <td>57</td>\n",
              "      <td>0</td>\n",
              "      <td>0.0</td>\n",
              "      <td>0.0</td>\n",
              "      <td>0.0</td>\n",
              "      <td>0.0</td>\n",
              "      <td>0.0</td>\n",
              "      <td>1.0</td>\n",
              "      <td>0.0</td>\n",
              "    </tr>\n",
              "    <tr>\n",
              "      <th>624</th>\n",
              "      <td>625</td>\n",
              "      <td>0.0</td>\n",
              "      <td>1.0</td>\n",
              "      <td>60</td>\n",
              "      <td>60</td>\n",
              "      <td>55</td>\n",
              "      <td>0</td>\n",
              "      <td>0.0</td>\n",
              "      <td>1.0</td>\n",
              "      <td>0.0</td>\n",
              "      <td>0.0</td>\n",
              "      <td>0.0</td>\n",
              "      <td>0.0</td>\n",
              "      <td>0.0</td>\n",
              "    </tr>\n",
              "    <tr>\n",
              "      <th>716</th>\n",
              "      <td>717</td>\n",
              "      <td>1.0</td>\n",
              "      <td>1.0</td>\n",
              "      <td>0</td>\n",
              "      <td>0</td>\n",
              "      <td>55</td>\n",
              "      <td>0</td>\n",
              "      <td>0.0</td>\n",
              "      <td>0.0</td>\n",
              "      <td>1.0</td>\n",
              "      <td>0.0</td>\n",
              "      <td>0.0</td>\n",
              "      <td>0.0</td>\n",
              "      <td>0.0</td>\n",
              "    </tr>\n",
              "    <tr>\n",
              "      <th>4956</th>\n",
              "      <td>4957</td>\n",
              "      <td>0.0</td>\n",
              "      <td>0.0</td>\n",
              "      <td>145</td>\n",
              "      <td>145</td>\n",
              "      <td>58</td>\n",
              "      <td>0</td>\n",
              "      <td>0.0</td>\n",
              "      <td>0.0</td>\n",
              "      <td>0.0</td>\n",
              "      <td>1.0</td>\n",
              "      <td>0.0</td>\n",
              "      <td>0.0</td>\n",
              "      <td>0.0</td>\n",
              "    </tr>\n",
              "    <tr>\n",
              "      <th>2073</th>\n",
              "      <td>2074</td>\n",
              "      <td>1.0</td>\n",
              "      <td>1.0</td>\n",
              "      <td>90</td>\n",
              "      <td>90</td>\n",
              "      <td>79</td>\n",
              "      <td>0</td>\n",
              "      <td>0.0</td>\n",
              "      <td>1.0</td>\n",
              "      <td>0.0</td>\n",
              "      <td>0.0</td>\n",
              "      <td>0.0</td>\n",
              "      <td>0.0</td>\n",
              "      <td>0.0</td>\n",
              "    </tr>\n",
              "  </tbody>\n",
              "</table>\n",
              "</div>"
            ],
            "text/plain": [
              "      Transaction_ID  Lane_Type  Vehicle_Dimensions  Transaction_Amount  \\\n",
              "2320            2321        0.0                 0.0                 330   \n",
              "624              625        0.0                 1.0                  60   \n",
              "716              717        1.0                 1.0                   0   \n",
              "4956            4957        0.0                 0.0                 145   \n",
              "2073            2074        1.0                 1.0                  90   \n",
              "\n",
              "      Amount_paid  Vehicle_Speed  Fraud_indicator  Bus   Car  Motorcycle  SUV  \\\n",
              "2320          330             57                0   0.0  0.0         0.0  0.0   \n",
              "624            60             55                0   0.0  1.0         0.0  0.0   \n",
              "716             0             55                0   0.0  0.0         1.0  0.0   \n",
              "4956          145             58                0   0.0  0.0         0.0  1.0   \n",
              "2073           90             79                0   0.0  1.0         0.0  0.0   \n",
              "\n",
              "      Sedan  Truck  Van  \n",
              "2320    0.0    1.0  0.0  \n",
              "624     0.0    0.0  0.0  \n",
              "716     0.0    0.0  0.0  \n",
              "4956    0.0    0.0  0.0  \n",
              "2073    0.0    0.0  0.0  "
            ]
          },
          "execution_count": 66,
          "metadata": {},
          "output_type": "execute_result"
        }
      ],
      "source": [
        "new_dataset.head()"
      ]
    },
    {
      "cell_type": "code",
      "execution_count": null,
      "metadata": {
        "execution": {
          "iopub.execute_input": "2024-06-26T11:08:47.905284Z",
          "iopub.status.busy": "2024-06-26T11:08:47.904884Z",
          "iopub.status.idle": "2024-06-26T11:08:47.914639Z",
          "shell.execute_reply": "2024-06-26T11:08:47.913098Z",
          "shell.execute_reply.started": "2024-06-26T11:08:47.905255Z"
        },
        "id": "n6fsZY5BP513",
        "outputId": "ce457bba-7820-438a-fc1f-142a5dd0eb41",
        "trusted": true
      },
      "outputs": [
        {
          "data": {
            "text/plain": [
              "Fraud_indicator\n",
              "0    983\n",
              "1    983\n",
              "Name: count, dtype: int64"
            ]
          },
          "execution_count": 68,
          "metadata": {},
          "output_type": "execute_result"
        }
      ],
      "source": [
        "#dristibution of legit and fraud transactions in new dataset\n",
        "new_dataset['Fraud_indicator'].value_counts()"
      ]
    },
    {
      "cell_type": "code",
      "execution_count": null,
      "metadata": {
        "execution": {
          "iopub.execute_input": "2024-06-26T11:09:03.436182Z",
          "iopub.status.busy": "2024-06-26T11:09:03.435601Z",
          "iopub.status.idle": "2024-06-26T11:09:03.462142Z",
          "shell.execute_reply": "2024-06-26T11:09:03.460407Z",
          "shell.execute_reply.started": "2024-06-26T11:09:03.43611Z"
        },
        "id": "VfIr7-FPP513",
        "outputId": "440b5e94-8fbe-4202-d330-3973d17c3112",
        "trusted": true
      },
      "outputs": [
        {
          "data": {
            "text/html": [
              "<div>\n",
              "<style scoped>\n",
              "    .dataframe tbody tr th:only-of-type {\n",
              "        vertical-align: middle;\n",
              "    }\n",
              "\n",
              "    .dataframe tbody tr th {\n",
              "        vertical-align: top;\n",
              "    }\n",
              "\n",
              "    .dataframe thead th {\n",
              "        text-align: right;\n",
              "    }\n",
              "</style>\n",
              "<table border=\"1\" class=\"dataframe\">\n",
              "  <thead>\n",
              "    <tr style=\"text-align: right;\">\n",
              "      <th></th>\n",
              "      <th>Transaction_ID</th>\n",
              "      <th>Lane_Type</th>\n",
              "      <th>Vehicle_Dimensions</th>\n",
              "      <th>Transaction_Amount</th>\n",
              "      <th>Amount_paid</th>\n",
              "      <th>Vehicle_Speed</th>\n",
              "      <th>Bus</th>\n",
              "      <th>Car</th>\n",
              "      <th>Motorcycle</th>\n",
              "      <th>SUV</th>\n",
              "      <th>Sedan</th>\n",
              "      <th>Truck</th>\n",
              "      <th>Van</th>\n",
              "    </tr>\n",
              "    <tr>\n",
              "      <th>Fraud_indicator</th>\n",
              "      <th></th>\n",
              "      <th></th>\n",
              "      <th></th>\n",
              "      <th></th>\n",
              "      <th></th>\n",
              "      <th></th>\n",
              "      <th></th>\n",
              "      <th></th>\n",
              "      <th></th>\n",
              "      <th></th>\n",
              "      <th></th>\n",
              "      <th></th>\n",
              "      <th></th>\n",
              "    </tr>\n",
              "  </thead>\n",
              "  <tbody>\n",
              "    <tr>\n",
              "      <th>0</th>\n",
              "      <td>2600.619532</td>\n",
              "      <td>0.594100</td>\n",
              "      <td>0.885046</td>\n",
              "      <td>152.772126</td>\n",
              "      <td>152.772126</td>\n",
              "      <td>68.324517</td>\n",
              "      <td>0.134283</td>\n",
              "      <td>0.141404</td>\n",
              "      <td>0.178026</td>\n",
              "      <td>0.131231</td>\n",
              "      <td>0.158698</td>\n",
              "      <td>0.132248</td>\n",
              "      <td>0.12411</td>\n",
              "    </tr>\n",
              "    <tr>\n",
              "      <th>1</th>\n",
              "      <td>2019.330621</td>\n",
              "      <td>0.501526</td>\n",
              "      <td>0.819939</td>\n",
              "      <td>193.555443</td>\n",
              "      <td>92.838250</td>\n",
              "      <td>68.340793</td>\n",
              "      <td>0.180061</td>\n",
              "      <td>0.124110</td>\n",
              "      <td>0.000000</td>\n",
              "      <td>0.187182</td>\n",
              "      <td>0.163784</td>\n",
              "      <td>0.160732</td>\n",
              "      <td>0.18413</td>\n",
              "    </tr>\n",
              "  </tbody>\n",
              "</table>\n",
              "</div>"
            ],
            "text/plain": [
              "                 Transaction_ID  Lane_Type  Vehicle_Dimensions  \\\n",
              "Fraud_indicator                                                  \n",
              "0                   2600.619532   0.594100            0.885046   \n",
              "1                   2019.330621   0.501526            0.819939   \n",
              "\n",
              "                 Transaction_Amount  Amount_paid  Vehicle_Speed      Bus   \\\n",
              "Fraud_indicator                                                             \n",
              "0                        152.772126   152.772126      68.324517  0.134283   \n",
              "1                        193.555443    92.838250      68.340793  0.180061   \n",
              "\n",
              "                      Car  Motorcycle       SUV     Sedan     Truck      Van  \n",
              "Fraud_indicator                                                               \n",
              "0                0.141404    0.178026  0.131231  0.158698  0.132248  0.12411  \n",
              "1                0.124110    0.000000  0.187182  0.163784  0.160732  0.18413  "
            ]
          },
          "execution_count": 70,
          "metadata": {},
          "output_type": "execute_result"
        }
      ],
      "source": [
        "new_dataset.groupby('Fraud_indicator').mean()"
      ]
    },
    {
      "cell_type": "markdown",
      "metadata": {
        "id": "310A6zaJP513"
      },
      "source": [
        "<p style=\"background-color: #4cbb17; font-family: Arial, sans-serif; color: #ffffff; font-size: 24px; text-align: center; padding: 10px; border-radius: 10px;\">📋 Splitting the data into features and targets 📋</p>\n",
        "\n"
      ]
    },
    {
      "cell_type": "code",
      "execution_count": null,
      "metadata": {
        "execution": {
          "iopub.execute_input": "2024-06-26T11:10:15.550343Z",
          "iopub.status.busy": "2024-06-26T11:10:15.54981Z",
          "iopub.status.idle": "2024-06-26T11:10:15.557807Z",
          "shell.execute_reply": "2024-06-26T11:10:15.556505Z",
          "shell.execute_reply.started": "2024-06-26T11:10:15.550292Z"
        },
        "id": "f5p4tLjmP513",
        "trusted": true
      },
      "outputs": [],
      "source": [
        "X = new_dataset.drop(columns='Fraud_indicator', axis=1)\n",
        "Y = new_dataset['Fraud_indicator']"
      ]
    },
    {
      "cell_type": "markdown",
      "metadata": {
        "id": "_twubRziP513"
      },
      "source": [
        "<p style=\"background-color:#6A5ACD;font-family:Tahoma, Geneva, sans-serif;color:#FFFFFF;font-size:150%;text-align:center;border-radius:10px;padding:10px;\"> 📊 Split data into training and testing 📈 </p>\n"
      ]
    },
    {
      "cell_type": "code",
      "execution_count": null,
      "metadata": {
        "execution": {
          "iopub.execute_input": "2024-06-26T11:23:43.663052Z",
          "iopub.status.busy": "2024-06-26T11:23:43.662645Z",
          "iopub.status.idle": "2024-06-26T11:23:43.674351Z",
          "shell.execute_reply": "2024-06-26T11:23:43.672882Z",
          "shell.execute_reply.started": "2024-06-26T11:23:43.663024Z"
        },
        "id": "uh0BBa7vP513",
        "trusted": true
      },
      "outputs": [],
      "source": [
        "X_train, X_test, Y_train, Y_test = train_test_split(X, Y, test_size=0.2, train_size=0.8, stratify=Y, random_state=2)"
      ]
    },
    {
      "cell_type": "code",
      "execution_count": null,
      "metadata": {
        "execution": {
          "iopub.execute_input": "2024-06-26T11:23:45.215545Z",
          "iopub.status.busy": "2024-06-26T11:23:45.214873Z",
          "iopub.status.idle": "2024-06-26T11:23:45.222851Z",
          "shell.execute_reply": "2024-06-26T11:23:45.220924Z",
          "shell.execute_reply.started": "2024-06-26T11:23:45.215506Z"
        },
        "id": "TBkSQV4zP514",
        "outputId": "65c8c56e-0da6-441b-fbe6-bc4289d469b1",
        "trusted": true
      },
      "outputs": [
        {
          "name": "stdout",
          "output_type": "stream",
          "text": [
            "(1966, 13) (1572, 13) (394, 13)\n"
          ]
        }
      ],
      "source": [
        "print(X.shape, X_train.shape, X_test.shape)"
      ]
    },
    {
      "cell_type": "code",
      "execution_count": null,
      "metadata": {
        "execution": {
          "iopub.execute_input": "2024-06-26T11:23:45.553713Z",
          "iopub.status.busy": "2024-06-26T11:23:45.553315Z",
          "iopub.status.idle": "2024-06-26T11:23:45.570663Z",
          "shell.execute_reply": "2024-06-26T11:23:45.568754Z",
          "shell.execute_reply.started": "2024-06-26T11:23:45.553682Z"
        },
        "id": "ykS6U4cUP514",
        "outputId": "ce72eaec-cee7-4337-c504-f86f5d6fd045",
        "trusted": true
      },
      "outputs": [
        {
          "data": {
            "text/html": [
              "<style type=\"text/css\">\n",
              "#T_a8bcf th {\n",
              "  color: black;\n",
              "  background-color: #FF00CC;\n",
              "}\n",
              "</style>\n",
              "<table id=\"T_a8bcf\">\n",
              "  <thead>\n",
              "    <tr>\n",
              "      <th class=\"blank level0\" >&nbsp;</th>\n",
              "      <th id=\"T_a8bcf_level0_col0\" class=\"col_heading level0 col0\" >Transaction_ID</th>\n",
              "      <th id=\"T_a8bcf_level0_col1\" class=\"col_heading level0 col1\" >Lane_Type</th>\n",
              "      <th id=\"T_a8bcf_level0_col2\" class=\"col_heading level0 col2\" >Vehicle_Dimensions</th>\n",
              "      <th id=\"T_a8bcf_level0_col3\" class=\"col_heading level0 col3\" >Transaction_Amount</th>\n",
              "      <th id=\"T_a8bcf_level0_col4\" class=\"col_heading level0 col4\" >Amount_paid</th>\n",
              "      <th id=\"T_a8bcf_level0_col5\" class=\"col_heading level0 col5\" >Vehicle_Speed</th>\n",
              "      <th id=\"T_a8bcf_level0_col6\" class=\"col_heading level0 col6\" >Bus </th>\n",
              "      <th id=\"T_a8bcf_level0_col7\" class=\"col_heading level0 col7\" >Car</th>\n",
              "      <th id=\"T_a8bcf_level0_col8\" class=\"col_heading level0 col8\" >Motorcycle</th>\n",
              "      <th id=\"T_a8bcf_level0_col9\" class=\"col_heading level0 col9\" >SUV</th>\n",
              "      <th id=\"T_a8bcf_level0_col10\" class=\"col_heading level0 col10\" >Sedan</th>\n",
              "      <th id=\"T_a8bcf_level0_col11\" class=\"col_heading level0 col11\" >Truck</th>\n",
              "      <th id=\"T_a8bcf_level0_col12\" class=\"col_heading level0 col12\" >Van</th>\n",
              "    </tr>\n",
              "  </thead>\n",
              "  <tbody>\n",
              "    <tr>\n",
              "      <th id=\"T_a8bcf_level0_row0\" class=\"row_heading level0 row0\" >4618</th>\n",
              "      <td id=\"T_a8bcf_row0_col0\" class=\"data row0 col0\" >4619</td>\n",
              "      <td id=\"T_a8bcf_row0_col1\" class=\"data row0 col1\" >0.000000</td>\n",
              "      <td id=\"T_a8bcf_row0_col2\" class=\"data row0 col2\" >2.000000</td>\n",
              "      <td id=\"T_a8bcf_row0_col3\" class=\"data row0 col3\" >125</td>\n",
              "      <td id=\"T_a8bcf_row0_col4\" class=\"data row0 col4\" >125</td>\n",
              "      <td id=\"T_a8bcf_row0_col5\" class=\"data row0 col5\" >55</td>\n",
              "      <td id=\"T_a8bcf_row0_col6\" class=\"data row0 col6\" >0.000000</td>\n",
              "      <td id=\"T_a8bcf_row0_col7\" class=\"data row0 col7\" >0.000000</td>\n",
              "      <td id=\"T_a8bcf_row0_col8\" class=\"data row0 col8\" >0.000000</td>\n",
              "      <td id=\"T_a8bcf_row0_col9\" class=\"data row0 col9\" >0.000000</td>\n",
              "      <td id=\"T_a8bcf_row0_col10\" class=\"data row0 col10\" >0.000000</td>\n",
              "      <td id=\"T_a8bcf_row0_col11\" class=\"data row0 col11\" >0.000000</td>\n",
              "      <td id=\"T_a8bcf_row0_col12\" class=\"data row0 col12\" >1.000000</td>\n",
              "    </tr>\n",
              "    <tr>\n",
              "      <th id=\"T_a8bcf_level0_row1\" class=\"row_heading level0 row1\" >3758</th>\n",
              "      <td id=\"T_a8bcf_row1_col0\" class=\"data row1 col0\" >3759</td>\n",
              "      <td id=\"T_a8bcf_row1_col1\" class=\"data row1 col1\" >0.000000</td>\n",
              "      <td id=\"T_a8bcf_row1_col2\" class=\"data row1 col2\" >2.000000</td>\n",
              "      <td id=\"T_a8bcf_row1_col3\" class=\"data row1 col3\" >120</td>\n",
              "      <td id=\"T_a8bcf_row1_col4\" class=\"data row1 col4\" >100</td>\n",
              "      <td id=\"T_a8bcf_row1_col5\" class=\"data row1 col5\" >57</td>\n",
              "      <td id=\"T_a8bcf_row1_col6\" class=\"data row1 col6\" >0.000000</td>\n",
              "      <td id=\"T_a8bcf_row1_col7\" class=\"data row1 col7\" >0.000000</td>\n",
              "      <td id=\"T_a8bcf_row1_col8\" class=\"data row1 col8\" >0.000000</td>\n",
              "      <td id=\"T_a8bcf_row1_col9\" class=\"data row1 col9\" >0.000000</td>\n",
              "      <td id=\"T_a8bcf_row1_col10\" class=\"data row1 col10\" >1.000000</td>\n",
              "      <td id=\"T_a8bcf_row1_col11\" class=\"data row1 col11\" >0.000000</td>\n",
              "      <td id=\"T_a8bcf_row1_col12\" class=\"data row1 col12\" >0.000000</td>\n",
              "    </tr>\n",
              "    <tr>\n",
              "      <th id=\"T_a8bcf_level0_row2\" class=\"row_heading level0 row2\" >2181</th>\n",
              "      <td id=\"T_a8bcf_row2_col0\" class=\"data row2 col0\" >2182</td>\n",
              "      <td id=\"T_a8bcf_row2_col1\" class=\"data row2 col1\" >1.000000</td>\n",
              "      <td id=\"T_a8bcf_row2_col2\" class=\"data row2 col2\" >2.000000</td>\n",
              "      <td id=\"T_a8bcf_row2_col3\" class=\"data row2 col3\" >125</td>\n",
              "      <td id=\"T_a8bcf_row2_col4\" class=\"data row2 col4\" >90</td>\n",
              "      <td id=\"T_a8bcf_row2_col5\" class=\"data row2 col5\" >95</td>\n",
              "      <td id=\"T_a8bcf_row2_col6\" class=\"data row2 col6\" >0.000000</td>\n",
              "      <td id=\"T_a8bcf_row2_col7\" class=\"data row2 col7\" >0.000000</td>\n",
              "      <td id=\"T_a8bcf_row2_col8\" class=\"data row2 col8\" >0.000000</td>\n",
              "      <td id=\"T_a8bcf_row2_col9\" class=\"data row2 col9\" >0.000000</td>\n",
              "      <td id=\"T_a8bcf_row2_col10\" class=\"data row2 col10\" >0.000000</td>\n",
              "      <td id=\"T_a8bcf_row2_col11\" class=\"data row2 col11\" >0.000000</td>\n",
              "      <td id=\"T_a8bcf_row2_col12\" class=\"data row2 col12\" >1.000000</td>\n",
              "    </tr>\n",
              "    <tr>\n",
              "      <th id=\"T_a8bcf_level0_row3\" class=\"row_heading level0 row3\" >2543</th>\n",
              "      <td id=\"T_a8bcf_row3_col0\" class=\"data row3 col0\" >2544</td>\n",
              "      <td id=\"T_a8bcf_row3_col1\" class=\"data row3 col1\" >1.000000</td>\n",
              "      <td id=\"T_a8bcf_row3_col2\" class=\"data row3 col2\" >1.000000</td>\n",
              "      <td id=\"T_a8bcf_row3_col3\" class=\"data row3 col3\" >120</td>\n",
              "      <td id=\"T_a8bcf_row3_col4\" class=\"data row3 col4\" >120</td>\n",
              "      <td id=\"T_a8bcf_row3_col5\" class=\"data row3 col5\" >91</td>\n",
              "      <td id=\"T_a8bcf_row3_col6\" class=\"data row3 col6\" >0.000000</td>\n",
              "      <td id=\"T_a8bcf_row3_col7\" class=\"data row3 col7\" >1.000000</td>\n",
              "      <td id=\"T_a8bcf_row3_col8\" class=\"data row3 col8\" >0.000000</td>\n",
              "      <td id=\"T_a8bcf_row3_col9\" class=\"data row3 col9\" >0.000000</td>\n",
              "      <td id=\"T_a8bcf_row3_col10\" class=\"data row3 col10\" >0.000000</td>\n",
              "      <td id=\"T_a8bcf_row3_col11\" class=\"data row3 col11\" >0.000000</td>\n",
              "      <td id=\"T_a8bcf_row3_col12\" class=\"data row3 col12\" >0.000000</td>\n",
              "    </tr>\n",
              "    <tr>\n",
              "      <th id=\"T_a8bcf_level0_row4\" class=\"row_heading level0 row4\" >3318</th>\n",
              "      <td id=\"T_a8bcf_row4_col0\" class=\"data row4 col0\" >3319</td>\n",
              "      <td id=\"T_a8bcf_row4_col1\" class=\"data row4 col1\" >0.000000</td>\n",
              "      <td id=\"T_a8bcf_row4_col2\" class=\"data row4 col2\" >0.000000</td>\n",
              "      <td id=\"T_a8bcf_row4_col3\" class=\"data row4 col3\" >130</td>\n",
              "      <td id=\"T_a8bcf_row4_col4\" class=\"data row4 col4\" >130</td>\n",
              "      <td id=\"T_a8bcf_row4_col5\" class=\"data row4 col5\" >67</td>\n",
              "      <td id=\"T_a8bcf_row4_col6\" class=\"data row4 col6\" >0.000000</td>\n",
              "      <td id=\"T_a8bcf_row4_col7\" class=\"data row4 col7\" >0.000000</td>\n",
              "      <td id=\"T_a8bcf_row4_col8\" class=\"data row4 col8\" >0.000000</td>\n",
              "      <td id=\"T_a8bcf_row4_col9\" class=\"data row4 col9\" >1.000000</td>\n",
              "      <td id=\"T_a8bcf_row4_col10\" class=\"data row4 col10\" >0.000000</td>\n",
              "      <td id=\"T_a8bcf_row4_col11\" class=\"data row4 col11\" >0.000000</td>\n",
              "      <td id=\"T_a8bcf_row4_col12\" class=\"data row4 col12\" >0.000000</td>\n",
              "    </tr>\n",
              "  </tbody>\n",
              "</table>\n"
            ],
            "text/plain": [
              "<pandas.io.formats.style.Styler at 0x7e4dde3ec040>"
            ]
          },
          "execution_count": 89,
          "metadata": {},
          "output_type": "execute_result"
        }
      ],
      "source": [
        "\n",
        "\n",
        "styled_df = pd.DataFrame(X_train).head()\n",
        "styled_df = styled_df.style.set_table_styles([\n",
        "    {\"selector\": \"th\", \"props\": [(\"color\", 'black'), (\"background-color\", \"#FF00CC\")]}\n",
        "])\n",
        "styled_df"
      ]
    },
    {
      "cell_type": "markdown",
      "metadata": {
        "id": "0UtcUfsiP514"
      },
      "source": [
        "<p style=\"background-color:#20B2AA;font-family:Arial, sans-serif;color:#FFFFFF;font-size:150%;text-align:center;border-radius:10px;padding:10px;border:2px solid #FFFFFF;\"> 🔄 Model Development 🤖 </p>\n",
        "\n"
      ]
    },
    {
      "cell_type": "code",
      "execution_count": null,
      "metadata": {
        "id": "jH-Qi6ULP514",
        "trusted": true
      },
      "outputs": [],
      "source": []
    },
    {
      "cell_type": "code",
      "execution_count": null,
      "metadata": {
        "execution": {
          "iopub.execute_input": "2024-06-26T11:24:53.984886Z",
          "iopub.status.busy": "2024-06-26T11:24:53.98323Z",
          "iopub.status.idle": "2024-06-26T11:24:54.829932Z",
          "shell.execute_reply": "2024-06-26T11:24:54.828404Z",
          "shell.execute_reply.started": "2024-06-26T11:24:53.984841Z"
        },
        "id": "BwQGBgv5P514",
        "outputId": "3f2afc2b-9323-4202-f76d-c86b5eda4312",
        "trusted": true
      },
      "outputs": [
        {
          "name": "stderr",
          "output_type": "stream",
          "text": [
            "/opt/conda/lib/python3.10/site-packages/sklearn/linear_model/_logistic.py:458: ConvergenceWarning: lbfgs failed to converge (status=1):\n",
            "STOP: TOTAL NO. of ITERATIONS REACHED LIMIT.\n",
            "\n",
            "Increase the number of iterations (max_iter) or scale the data as shown in:\n",
            "    https://scikit-learn.org/stable/modules/preprocessing.html\n",
            "Please also refer to the documentation for alternative solver options:\n",
            "    https://scikit-learn.org/stable/modules/linear_model.html#logistic-regression\n",
            "  n_iter_i = _check_optimize_result(\n"
          ]
        },
        {
          "data": {
            "text/html": [
              "<style type=\"text/css\">\n",
              "#T_379a1 caption {\n",
              "  color: #6A5ACD;\n",
              "  font-size: 16pt;\n",
              "  font-weight: bold;\n",
              "}\n",
              "#T_379a1_row0_col0, #T_379a1_row1_col0, #T_379a1_row2_col0, #T_379a1_row3_col0 {\n",
              "  font-size: 12pt;\n",
              "  font-weight: bold;\n",
              "  color: #6A5ACD;\n",
              "}\n",
              "#T_379a1_row0_col1, #T_379a1_row0_col2, #T_379a1_row0_col3, #T_379a1_row0_col4, #T_379a1_row0_col5, #T_379a1_row0_col6, #T_379a1_row0_col7, #T_379a1_row0_col8, #T_379a1_row1_col1, #T_379a1_row1_col2, #T_379a1_row1_col3, #T_379a1_row1_col4, #T_379a1_row1_col5, #T_379a1_row1_col6, #T_379a1_row1_col7, #T_379a1_row1_col8, #T_379a1_row2_col1, #T_379a1_row2_col2, #T_379a1_row2_col4, #T_379a1_row2_col5, #T_379a1_row2_col6, #T_379a1_row2_col7, #T_379a1_row2_col8 {\n",
              "  font-size: 12pt;\n",
              "  font-weight: bold;\n",
              "  color: #6A5ACD;\n",
              "  background-color: #f2f2f2;\n",
              "  color: #000000;\n",
              "}\n",
              "#T_379a1_row2_col3 {\n",
              "  font-size: 12pt;\n",
              "  font-weight: bold;\n",
              "  color: #6A5ACD;\n",
              "  background-color: #fddaec;\n",
              "  color: #000000;\n",
              "}\n",
              "#T_379a1_row3_col1, #T_379a1_row3_col2, #T_379a1_row3_col3, #T_379a1_row3_col4, #T_379a1_row3_col5, #T_379a1_row3_col6, #T_379a1_row3_col7, #T_379a1_row3_col8 {\n",
              "  font-size: 12pt;\n",
              "  font-weight: bold;\n",
              "  color: #6A5ACD;\n",
              "  background-color: #fbb4ae;\n",
              "  color: #000000;\n",
              "}\n",
              "</style>\n",
              "<table id=\"T_379a1\">\n",
              "  <caption>Model Evaluation Results</caption>\n",
              "  <thead>\n",
              "    <tr>\n",
              "      <th class=\"blank level0\" >&nbsp;</th>\n",
              "      <th id=\"T_379a1_level0_col0\" class=\"col_heading level0 col0\" >Model</th>\n",
              "      <th id=\"T_379a1_level0_col1\" class=\"col_heading level0 col1\" >Train Accuracy</th>\n",
              "      <th id=\"T_379a1_level0_col2\" class=\"col_heading level0 col2\" >Train Precision</th>\n",
              "      <th id=\"T_379a1_level0_col3\" class=\"col_heading level0 col3\" >Train Recall</th>\n",
              "      <th id=\"T_379a1_level0_col4\" class=\"col_heading level0 col4\" >Train F1 Score</th>\n",
              "      <th id=\"T_379a1_level0_col5\" class=\"col_heading level0 col5\" >Test Accuracy</th>\n",
              "      <th id=\"T_379a1_level0_col6\" class=\"col_heading level0 col6\" >Test Precision</th>\n",
              "      <th id=\"T_379a1_level0_col7\" class=\"col_heading level0 col7\" >Test Recall</th>\n",
              "      <th id=\"T_379a1_level0_col8\" class=\"col_heading level0 col8\" >Test F1 Score</th>\n",
              "    </tr>\n",
              "  </thead>\n",
              "  <tbody>\n",
              "    <tr>\n",
              "      <th id=\"T_379a1_level0_row0\" class=\"row_heading level0 row0\" >0</th>\n",
              "      <td id=\"T_379a1_row0_col0\" class=\"data row0 col0\" >Decision Tree</td>\n",
              "      <td id=\"T_379a1_row0_col1\" class=\"data row0 col1\" >1.000000</td>\n",
              "      <td id=\"T_379a1_row0_col2\" class=\"data row0 col2\" >1.000000</td>\n",
              "      <td id=\"T_379a1_row0_col3\" class=\"data row0 col3\" >1.000000</td>\n",
              "      <td id=\"T_379a1_row0_col4\" class=\"data row0 col4\" >1.000000</td>\n",
              "      <td id=\"T_379a1_row0_col5\" class=\"data row0 col5\" >0.992386</td>\n",
              "      <td id=\"T_379a1_row0_col6\" class=\"data row0 col6\" >1.000000</td>\n",
              "      <td id=\"T_379a1_row0_col7\" class=\"data row0 col7\" >0.984772</td>\n",
              "      <td id=\"T_379a1_row0_col8\" class=\"data row0 col8\" >0.992385</td>\n",
              "    </tr>\n",
              "    <tr>\n",
              "      <th id=\"T_379a1_level0_row1\" class=\"row_heading level0 row1\" >1</th>\n",
              "      <td id=\"T_379a1_row1_col0\" class=\"data row1 col0\" >Random Forest</td>\n",
              "      <td id=\"T_379a1_row1_col1\" class=\"data row1 col1\" >1.000000</td>\n",
              "      <td id=\"T_379a1_row1_col2\" class=\"data row1 col2\" >1.000000</td>\n",
              "      <td id=\"T_379a1_row1_col3\" class=\"data row1 col3\" >1.000000</td>\n",
              "      <td id=\"T_379a1_row1_col4\" class=\"data row1 col4\" >1.000000</td>\n",
              "      <td id=\"T_379a1_row1_col5\" class=\"data row1 col5\" >0.979695</td>\n",
              "      <td id=\"T_379a1_row1_col6\" class=\"data row1 col6\" >1.000000</td>\n",
              "      <td id=\"T_379a1_row1_col7\" class=\"data row1 col7\" >0.959391</td>\n",
              "      <td id=\"T_379a1_row1_col8\" class=\"data row1 col8\" >0.979687</td>\n",
              "    </tr>\n",
              "    <tr>\n",
              "      <th id=\"T_379a1_level0_row2\" class=\"row_heading level0 row2\" >2</th>\n",
              "      <td id=\"T_379a1_row2_col0\" class=\"data row2 col0\" >Logistic Regression</td>\n",
              "      <td id=\"T_379a1_row2_col1\" class=\"data row2 col1\" >0.976463</td>\n",
              "      <td id=\"T_379a1_row2_col2\" class=\"data row2 col2\" >1.000000</td>\n",
              "      <td id=\"T_379a1_row2_col3\" class=\"data row2 col3\" >0.952926</td>\n",
              "      <td id=\"T_379a1_row2_col4\" class=\"data row2 col4\" >0.976450</td>\n",
              "      <td id=\"T_379a1_row2_col5\" class=\"data row2 col5\" >0.984772</td>\n",
              "      <td id=\"T_379a1_row2_col6\" class=\"data row2 col6\" >1.000000</td>\n",
              "      <td id=\"T_379a1_row2_col7\" class=\"data row2 col7\" >0.969543</td>\n",
              "      <td id=\"T_379a1_row2_col8\" class=\"data row2 col8\" >0.984768</td>\n",
              "    </tr>\n",
              "    <tr>\n",
              "      <th id=\"T_379a1_level0_row3\" class=\"row_heading level0 row3\" >3</th>\n",
              "      <td id=\"T_379a1_row3_col0\" class=\"data row3 col0\" >SVM Classification</td>\n",
              "      <td id=\"T_379a1_row3_col1\" class=\"data row3 col1\" >0.696565</td>\n",
              "      <td id=\"T_379a1_row3_col2\" class=\"data row3 col2\" >0.746411</td>\n",
              "      <td id=\"T_379a1_row3_col3\" class=\"data row3 col3\" >0.595420</td>\n",
              "      <td id=\"T_379a1_row3_col4\" class=\"data row3 col4\" >0.693429</td>\n",
              "      <td id=\"T_379a1_row3_col5\" class=\"data row3 col5\" >0.708122</td>\n",
              "      <td id=\"T_379a1_row3_col6\" class=\"data row3 col6\" >0.753086</td>\n",
              "      <td id=\"T_379a1_row3_col7\" class=\"data row3 col7\" >0.619289</td>\n",
              "      <td id=\"T_379a1_row3_col8\" class=\"data row3 col8\" >0.705800</td>\n",
              "    </tr>\n",
              "  </tbody>\n",
              "</table>\n"
            ],
            "text/plain": [
              "<pandas.io.formats.style.Styler at 0x7e4dde942b90>"
            ]
          },
          "execution_count": 92,
          "metadata": {},
          "output_type": "execute_result"
        }
      ],
      "source": [
        "import pandas as pd\n",
        "from sklearn.metrics import accuracy_score, precision_score, recall_score, f1_score\n",
        "from sklearn.model_selection import train_test_split\n",
        "from sklearn.tree import DecisionTreeClassifier\n",
        "from sklearn.ensemble import RandomForestClassifier\n",
        "from sklearn.linear_model import LogisticRegression\n",
        "from sklearn.svm import SVC\n",
        "\n",
        "# Assume X_train, X_test, Y_train, Y_test are defined and split appropriately\n",
        "\n",
        "Models = {\n",
        "    \"Decision Tree\": DecisionTreeClassifier(),\n",
        "    \"Random Forest\": RandomForestClassifier(),\n",
        "    \"Logistic Regression\": LogisticRegression(),\n",
        "    \"SVM Classification\": SVC()\n",
        "}\n",
        "\n",
        "# Initialize lists to store results\n",
        "model_names = []\n",
        "train_accuracies = []\n",
        "train_precisions = []\n",
        "train_recalls = []\n",
        "train_f1_scores = []\n",
        "test_accuracies = []\n",
        "test_precisions = []\n",
        "test_recalls = []\n",
        "test_f1_scores = []\n",
        "\n",
        "# Evaluate each model and store results\n",
        "for name, model in Models.items():\n",
        "    # Train Model\n",
        "    model.fit(X_train, Y_train)\n",
        "\n",
        "    # Make predictions\n",
        "    Y_train_pred = model.predict(X_train)\n",
        "    Y_test_pred = model.predict(X_test)\n",
        "\n",
        "    # Training Performance\n",
        "    train_accuracy = accuracy_score(Y_train, Y_train_pred)\n",
        "    train_precision = precision_score(Y_train, Y_train_pred)\n",
        "    train_recall = recall_score(Y_train, Y_train_pred)\n",
        "    train_f1 = f1_score(Y_train, Y_train_pred, average='weighted')\n",
        "\n",
        "    # Testing Performance\n",
        "    test_accuracy = accuracy_score(Y_test, Y_test_pred)\n",
        "    test_precision = precision_score(Y_test, Y_test_pred)\n",
        "    test_recall = recall_score(Y_test, Y_test_pred)\n",
        "    test_f1 = f1_score(Y_test, Y_test_pred, average='weighted')\n",
        "\n",
        "    # Append results to lists\n",
        "    model_names.append(name)\n",
        "    train_accuracies.append(train_accuracy)\n",
        "    train_precisions.append(train_precision)\n",
        "    train_recalls.append(train_recall)\n",
        "    train_f1_scores.append(train_f1)\n",
        "    test_accuracies.append(test_accuracy)\n",
        "    test_precisions.append(test_precision)\n",
        "    test_recalls.append(test_recall)\n",
        "    test_f1_scores.append(test_f1)\n",
        "\n",
        "# Create DataFrame from the results\n",
        "results_df = pd.DataFrame({\n",
        "    'Model': model_names,\n",
        "    'Train Accuracy': train_accuracies,\n",
        "    'Train Precision': train_precisions,\n",
        "    'Train Recall': train_recalls,\n",
        "    'Train F1 Score': train_f1_scores,\n",
        "    'Test Accuracy': test_accuracies,\n",
        "    'Test Precision': test_precisions,\n",
        "    'Test Recall': test_recalls,\n",
        "    'Test F1 Score': test_f1_scores\n",
        "})\n",
        "\n",
        "# Display the results\n",
        "# print(results_df)\n",
        "# Apply styling to the entire DataFrame\n",
        "styled_results = results_df.style\\\n",
        "    .set_properties(**{'font-size': '12pt', 'font-weight': 'bold', 'color': '#6A5ACD'})\\\n",
        "    .background_gradient(cmap='Pastel1')\\\n",
        "    .set_caption('Model Evaluation Results')\\\n",
        "    .set_table_styles([{\n",
        "        'selector': 'caption',\n",
        "        'props': [('color', '#6A5ACD'), ('font-size', '16pt'), ('font-weight', 'bold')]\n",
        "    }])\n",
        "\n",
        "# Display the styled results\n",
        "styled_results"
      ]
    },
    {
      "cell_type": "markdown",
      "metadata": {
        "id": "9TBb-BnOP514"
      },
      "source": [
        "<div style=\"text-align: center; background:  #FF00CC; font-family: 'Trebuchet MS', Arial, sans-serif; color: white; padding: 15px; font-size: 26px; font-weight: bold; line-height: 1; border-radius: 50% 0 50% 0 / 40px; margin-bottom: 20px; box-shadow: 0px 4px 6px rgba(0, 0, 0, 0.1);\">Outcomes</div>\n",
        "\n",
        "\n",
        "<span style=\"font-size: 14px; font-family: Verdana; background-color: #F5F5F5; border: 2px solid #ccc; padding: 10px; border-radius: 10px; display: inline-block;\">\n",
        "  <strong>Conclusion:</strong> In our evaluation of various classification algorithms, we observed the following key insights:\n",
        "\n",
        "  - Decision Tree and Random Forest have a 100% in Training and Test data accuracy than Logistic Regression of 99% and an SVC of 69.09%\n",
        "  - When comparing precision & recall for 4 models, Here the Decision tree and Random forest performed much better than the Logistric Regression and SVC as we can see that the detection of fraud cases is around 100 % and 98 %, and Logistric Regression and SVC of 72% and 62%.\n",
        "  - So overall Decision tree and Random Forest Method performed much better in determining the fraud cases which is 100%\n",
        "\n",
        "  - We can also improve on this accuracy by increasing the sample size or use deep learning algorithms however at the cost of computational expense.We can also use complex anomaly detection models to get better accuracy in determining more fraudulent cases\n",
        "\n",
        "  \n",
        "</span>"
      ]
    },
    {
      "cell_type": "code",
      "execution_count": null,
      "metadata": {
        "id": "j66PewIUP514"
      },
      "outputs": [],
      "source": []
    }
  ],
  "metadata": {
    "colab": {
      "name": "😍🥰 fastag Frud Detection",
      "provenance": []
    },
    "kaggle": {
      "accelerator": "none",
      "dataSources": [
        {
          "datasetId": 5286301,
          "sourceId": 8792243,
          "sourceType": "datasetVersion"
        }
      ],
      "dockerImageVersionId": 30732,
      "isGpuEnabled": false,
      "isInternetEnabled": true,
      "language": "python",
      "sourceType": "notebook"
    },
    "kernelspec": {
      "display_name": "Python 3",
      "language": "python",
      "name": "python3"
    },
    "language_info": {
      "codemirror_mode": {
        "name": "ipython",
        "version": 3
      },
      "file_extension": ".py",
      "mimetype": "text/x-python",
      "name": "python",
      "nbconvert_exporter": "python",
      "pygments_lexer": "ipython3",
      "version": "3.10.13"
    }
  },
  "nbformat": 4,
  "nbformat_minor": 0
}
